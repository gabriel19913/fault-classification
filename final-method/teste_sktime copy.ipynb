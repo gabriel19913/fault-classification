{
 "cells": [
  {
   "cell_type": "code",
   "execution_count": 1,
   "metadata": {},
   "outputs": [],
   "source": [
    "import numpy as np\n",
    "from sklearn.linear_model import RidgeClassifierCV\n",
    "from sklearn.pipeline import make_pipeline\n",
    "from sklearn.model_selection import train_test_split\n",
    "\n",
    "import pandas as pd\n",
    "from sktime.transformations.panel.rocket import Rocket, MiniRocketMultivariate\n",
    "from sklearn.model_selection import StratifiedKFold\n",
    "import pickle\n",
    "from glob import glob\n",
    "import time\n",
    "from noise import decompress_pickle\n",
    "INPUT_DATA_PATH = '../input-data/'\n",
    "MODEL_PATH = './models/'\n",
    "data = decompress_pickle(INPUT_DATA_PATH + 'cycle_data')"
   ]
  },
  {
   "cell_type": "code",
   "execution_count": 2,
   "metadata": {},
   "outputs": [],
   "source": [
    "def open_folds(cycle, train_test, X_y, v_i):\n",
    "    \"\"\"\n",
    "    Parameters:\n",
    "        cycle      : which cycle, ex.: 'cycle_1' (1, 2, 4, 8, 16, 32)\n",
    "        train_test : if it is the train ot test set, ex: 'train' (train, test)\n",
    "        X_y        : if it is the X or y set, ex.: 'X' (X, y)\n",
    "        v_i        : if it is a voltage or current signal, ex.: 'i' (v, i)\n",
    "    Return:\n",
    "        list : each fold is in a position.\n",
    "    \"\"\"\n",
    "    paths = list(map(lambda x: x.split('.pbz2')[0], glob(INPUT_DATA_PATH + \n",
    "                                                         f'folds/{v_i}/{cycle}/{X_y}_{train_test}_fold_[0-9]*.pbz2')))\n",
    "    paths.sort(key = lambda x: int(x.split('_')[-1]))\n",
    "    data_list = []\n",
    "    for path in paths:\n",
    "        folder_pos = int(path.split('/')[-1].split('_')[-1]) - 1\n",
    "        fold = decompress_pickle(path)\n",
    "        data_list.insert(folder_pos, fold)\n",
    "    return data_list"
   ]
  },
  {
   "cell_type": "code",
   "execution_count": 3,
   "metadata": {},
   "outputs": [],
   "source": [
    "def find_max(X):\n",
    "    max = np.max(X)\n",
    "    min = np.abs(np.min(X))\n",
    "    if max > min:\n",
    "        return max\n",
    "    else:\n",
    "        return min"
   ]
  },
  {
   "cell_type": "code",
   "execution_count": 4,
   "metadata": {},
   "outputs": [],
   "source": [
    "def format_dataframe(data):\n",
    "    cols = int(data.shape[0] / 4)\n",
    "    shaped_data = data.reshape((4, cols)).T\n",
    "    s1 = pd.Series(shaped_data[:, 0])\n",
    "    s2 = pd.Series(shaped_data[:, 1])\n",
    "    s3 = pd.Series(shaped_data[:, 2])\n",
    "    s4 = pd.Series(shaped_data[:, 3])\n",
    "    dicio = {'A': [], 'B': [], 'C': [], 'Z': []}\n",
    "    dicio['A'].append(s1)\n",
    "    dicio['B'].append(s2)\n",
    "    dicio['C'].append(s3)\n",
    "    dicio['Z'].append(s4)\n",
    "    return pd.DataFrame(dicio)"
   ]
  },
  {
   "cell_type": "code",
   "execution_count": 5,
   "metadata": {},
   "outputs": [],
   "source": [
    "X_train = decompress_pickle(INPUT_DATA_PATH + f'folds/i/cycle_1/X_train')\n",
    "y_train = decompress_pickle(INPUT_DATA_PATH + f'folds/i/cycle_1/y_train')\n",
    "X_val = decompress_pickle(INPUT_DATA_PATH + f'folds/i/cycle_1/X_val')\n",
    "y_val = decompress_pickle(INPUT_DATA_PATH + f'folds/i/cycle_1/y_val')\n"
   ]
  },
  {
   "cell_type": "code",
   "execution_count": 6,
   "metadata": {
    "tags": []
   },
   "outputs": [],
   "source": [
    "max_list = [0, 0, 0, 0]\n",
    "for k, v in {'A': 0, 'B': 1, 'C': 2, 'Z': 3}.items():\n",
    "    for row in X_train[k]:\n",
    "        max_value = find_max(row)\n",
    "        if max_value > max_list[v]:\n",
    "            max_list[v] = max_value\n"
   ]
  },
  {
   "cell_type": "code",
   "execution_count": 7,
   "metadata": {},
   "outputs": [
    {
     "output_type": "execute_result",
     "data": {
      "text/plain": [
       "[6075.605580855044, 6077.654717323059, 6068.883200964617, 3100.6294160039506]"
      ]
     },
     "metadata": {},
     "execution_count": 7
    }
   ],
   "source": [
    "max_list"
   ]
  },
  {
   "cell_type": "code",
   "execution_count": 8,
   "metadata": {},
   "outputs": [],
   "source": [
    "X_train_norm = X_train.copy()\n",
    "X_train_norm['A'] = X_train_norm['A'] / max_list[0]\n",
    "X_train_norm['B'] = X_train_norm['B'] / max_list[1]\n",
    "X_train_norm['C'] = X_train_norm['C'] / max_list[2]\n",
    "X_train_norm['Z'] = X_train_norm['Z'] / max_list[3]\n",
    "\n",
    "X_val_norm = X_val.copy()\n",
    "X_val_norm['A'] = X_val_norm['A'] / max_list[0]\n",
    "X_val_norm['B'] = X_val_norm['B'] / max_list[1]\n",
    "X_val_norm['C'] = X_val_norm['C'] / max_list[2]\n",
    "X_val_norm['Z'] = X_val_norm['Z'] / max_list[3]"
   ]
  },
  {
   "cell_type": "code",
   "execution_count": 9,
   "metadata": {},
   "outputs": [],
   "source": [
    "max_list2 = [0, 0, 0, 0]\n",
    "for k, v in {'A': 0, 'B': 1, 'C': 2, 'Z': 3}.items():\n",
    "    for row in X_train_norm[k]:\n",
    "        max_value = find_max(row)\n",
    "        if max_value > max_list2[v]:\n",
    "            max_list2[v] = max_value"
   ]
  },
  {
   "cell_type": "code",
   "execution_count": 10,
   "metadata": {},
   "outputs": [
    {
     "output_type": "execute_result",
     "data": {
      "text/plain": [
       "[1.0, 1.0, 1.0, 1.0]"
      ]
     },
     "metadata": {},
     "execution_count": 10
    }
   ],
   "source": [
    "max_list2"
   ]
  },
  {
   "cell_type": "code",
   "execution_count": 11,
   "metadata": {},
   "outputs": [],
   "source": [
    "train_X_cycle_1 = open_folds('cycle_1', 'train', 'X', 'i')\n",
    "train_y_cycle_1 = open_folds('cycle_1', 'train', 'y', 'i')\n",
    "test_X_cycle_1 = open_folds('cycle_1', 'test', 'X', 'i')\n",
    "test_y_cycle_1 = open_folds('cycle_1', 'test', 'y', 'i')"
   ]
  },
  {
   "cell_type": "code",
   "execution_count": 12,
   "metadata": {},
   "outputs": [],
   "source": [
    "num_features = 150\n",
    "minirocket = MiniRocketMultivariate(num_features=num_features)\n",
    "minirocket.fit(X_train_norm)\n",
    "X_val_transform = minirocket.transform(X_val_norm)\n"
   ]
  },
  {
   "cell_type": "code",
   "execution_count": 13,
   "metadata": {},
   "outputs": [
    {
     "output_type": "stream",
     "name": "stdout",
     "text": [
      "Acurácia em cada fold:\n [100. 100. 100. 100. 100. 100. 100. 100. 100. 100.]\n\nMédia da acurácia: 100.00%\nDesvio padrão da acurácia: 0.00%)\nTempo necessário para treinamento 11.581993579864502 segundos\n"
     ]
    }
   ],
   "source": [
    "scores = []\n",
    "count = -1\n",
    "s = time.time()\n",
    "for X_tr, y_tr, X_te, y_te in zip(train_X_cycle_1, train_y_cycle_1,\n",
    "                                  test_X_cycle_1, test_y_cycle_1):\n",
    "\n",
    "    # Normalização\n",
    "    X_tr_norm = X_tr.copy()\n",
    "    X_tr_norm['A'] = X_tr_norm['A'] / max_list[0]\n",
    "    X_tr_norm['B'] = X_tr_norm['B'] / max_list[1]\n",
    "    X_tr_norm['C'] = X_tr_norm['C'] / max_list[2]\n",
    "    X_tr_norm['Z'] = X_tr_norm['Z'] / max_list[3]\n",
    "\n",
    "    X_te_norm = X_te.copy()\n",
    "    X_te_norm['A'] = X_te_norm['A'] / max_list[0]\n",
    "    X_te_norm['B'] = X_te_norm['B'] / max_list[1]\n",
    "    X_te_norm['C'] = X_te_norm['C'] / max_list[2]\n",
    "    X_te_norm['Z'] = X_te_norm['Z'] / max_list[3]\n",
    "\n",
    "    # Treinamento\n",
    "    X_tr_transform = minirocket.transform(X_tr_norm)\n",
    "    X_te_transform = minirocket.transform(X_te_norm)\n",
    "    clf = RidgeClassifierCV(alphas=np.logspace(-3, 3, 10), normalize=True)\n",
    "    clf.fit(X_tr_transform, y_tr)\n",
    "\n",
    "    # Avaliação do modelo\n",
    "    score = clf.score(X_te_transform, y_te)\n",
    "    scores.append(score)\n",
    "    if len(scores) == 1:\n",
    "        pickle.dump(clf, open(MODEL_PATH + 'minirocket_model_cycle_1.pkl', 'wb'))\n",
    "        # compressed_pickle(MODEL_PATH + 'rocket_model_cycle_1', clf)\n",
    "    else:\n",
    "        if score > scores[count]:\n",
    "            pickle.dump(clf, open(MODEL_PATH + 'minirocket_model_cycle_1.pkl', 'wb'))\n",
    "            # compressed_pickle(MODEL_PATH + 'rocket_model_cycle_1', clf)\n",
    "    count += 1\n",
    "e = time.time()\n",
    "final_scores = np.array(scores)\n",
    "print(f'Acurácia em cada fold:\\n {np.round(final_scores * 100, decimals=2)}')\n",
    "print(f'\\nMédia da acurácia: {np.mean(final_scores) * 100:.2f}%')\n",
    "print(f'Desvio padrão da acurácia: {np.std(final_scores) * 100:.2f}%)')\n",
    "print(f'Tempo necessário para treinamento {e-s} segundos')"
   ]
  },
  {
   "cell_type": "code",
   "execution_count": 14,
   "metadata": {},
   "outputs": [],
   "source": [
    "with open(MODEL_PATH + 'minirocket_model_cycle_1.pkl', 'rb') as f:\n",
    "    model = pickle.load(f)"
   ]
  },
  {
   "cell_type": "code",
   "execution_count": 15,
   "metadata": {},
   "outputs": [
    {
     "output_type": "execute_result",
     "data": {
      "text/plain": [
       "1.0"
      ]
     },
     "metadata": {},
     "execution_count": 15
    }
   ],
   "source": [
    "model.score(X_val_transform, y_val)"
   ]
  },
  {
   "cell_type": "code",
   "execution_count": 16,
   "metadata": {},
   "outputs": [],
   "source": [
    "y_pred = model.predict(X_val_transform)"
   ]
  },
  {
   "cell_type": "code",
   "execution_count": 17,
   "metadata": {},
   "outputs": [
    {
     "output_type": "stream",
     "name": "stderr",
     "text": [
      "<ipython-input-17-03bb8e920c6e>:12: UserWarning: FixedFormatter should only be used together with FixedLocator\n  ax.set_yticklabels(confusion_matrix.index, rotation=0, fontsize=\"14\", va=\"center\")\n<ipython-input-17-03bb8e920c6e>:13: UserWarning: FixedFormatter should only be used together with FixedLocator\n  ax.set_xticklabels(confusion_matrix.columns, rotation=0, fontsize=\"14\", va=\"center\")\n"
     ]
    },
    {
     "output_type": "execute_result",
     "data": {
      "text/plain": [
       "<AxesSubplot:xlabel='Predito', ylabel='Real'>"
      ]
     },
     "metadata": {},
     "execution_count": 17
    },
    {
     "output_type": "display_data",
     "data": {
      "text/plain": "<Figure size 720x720 with 2 Axes>",
      "image/svg+xml": "<?xml version=\"1.0\" encoding=\"utf-8\" standalone=\"no\"?>\n<!DOCTYPE svg PUBLIC \"-//W3C//DTD SVG 1.1//EN\"\n  \"http://www.w3.org/Graphics/SVG/1.1/DTD/svg11.dtd\">\n<svg height=\"589.888438pt\" version=\"1.1\" viewBox=\"0 0 585.039375 589.888438\" width=\"585.039375pt\" xmlns=\"http://www.w3.org/2000/svg\" xmlns:xlink=\"http://www.w3.org/1999/xlink\">\n <metadata>\n  <rdf:RDF xmlns:cc=\"http://creativecommons.org/ns#\" xmlns:dc=\"http://purl.org/dc/elements/1.1/\" xmlns:rdf=\"http://www.w3.org/1999/02/22-rdf-syntax-ns#\">\n   <cc:Work>\n    <dc:type rdf:resource=\"http://purl.org/dc/dcmitype/StillImage\"/>\n    <dc:date>2021-06-20T17:51:11.834124</dc:date>\n    <dc:format>image/svg+xml</dc:format>\n    <dc:creator>\n     <cc:Agent>\n      <dc:title>Matplotlib v3.4.1, https://matplotlib.org/</dc:title>\n     </cc:Agent>\n    </dc:creator>\n   </cc:Work>\n  </rdf:RDF>\n </metadata>\n <defs>\n  <style type=\"text/css\">*{stroke-linecap:butt;stroke-linejoin:round;}</style>\n </defs>\n <g id=\"figure_1\">\n  <g id=\"patch_1\">\n   <path d=\"M 0 589.888438 \nL 585.039375 589.888438 \nL 585.039375 0 \nL 0 0 \nz\n\" style=\"fill:none;\"/>\n  </g>\n  <g id=\"axes_1\">\n   <g id=\"patch_2\">\n    <path d=\"M 45.863125 550.8 \nL 492.263125 550.8 \nL 492.263125 7.2 \nL 45.863125 7.2 \nz\n\" style=\"fill:#ffffff;\"/>\n   </g>\n   <g id=\"QuadMesh_1\">\n    <path clip-path=\"url(#p6498b162e7)\" d=\"M 45.863125 7.2 \nL 86.444943 7.2 \nL 86.444943 56.618182 \nL 45.863125 56.618182 \nL 45.863125 7.2 \n\" style=\"fill:#e3eef9;\"/>\n    <path clip-path=\"url(#p6498b162e7)\" d=\"M 86.444943 7.2 \nL 127.026761 7.2 \nL 127.026761 56.618182 \nL 86.444943 56.618182 \nL 86.444943 7.2 \n\" style=\"fill:#f7fbff;\"/>\n    <path clip-path=\"url(#p6498b162e7)\" d=\"M 127.026761 7.2 \nL 167.60858 7.2 \nL 167.60858 56.618182 \nL 127.026761 56.618182 \nL 127.026761 7.2 \n\" style=\"fill:#f7fbff;\"/>\n    <path clip-path=\"url(#p6498b162e7)\" d=\"M 167.60858 7.2 \nL 208.190398 7.2 \nL 208.190398 56.618182 \nL 167.60858 56.618182 \nL 167.60858 7.2 \n\" style=\"fill:#f7fbff;\"/>\n    <path clip-path=\"url(#p6498b162e7)\" d=\"M 208.190398 7.2 \nL 248.772216 7.2 \nL 248.772216 56.618182 \nL 208.190398 56.618182 \nL 208.190398 7.2 \n\" style=\"fill:#f7fbff;\"/>\n    <path clip-path=\"url(#p6498b162e7)\" d=\"M 248.772216 7.2 \nL 289.354034 7.2 \nL 289.354034 56.618182 \nL 248.772216 56.618182 \nL 248.772216 7.2 \n\" style=\"fill:#f7fbff;\"/>\n    <path clip-path=\"url(#p6498b162e7)\" d=\"M 289.354034 7.2 \nL 329.935852 7.2 \nL 329.935852 56.618182 \nL 289.354034 56.618182 \nL 289.354034 7.2 \n\" style=\"fill:#f7fbff;\"/>\n    <path clip-path=\"url(#p6498b162e7)\" d=\"M 329.935852 7.2 \nL 370.51767 7.2 \nL 370.51767 56.618182 \nL 329.935852 56.618182 \nL 329.935852 7.2 \n\" style=\"fill:#f7fbff;\"/>\n    <path clip-path=\"url(#p6498b162e7)\" d=\"M 370.51767 7.2 \nL 411.099489 7.2 \nL 411.099489 56.618182 \nL 370.51767 56.618182 \nL 370.51767 7.2 \n\" style=\"fill:#f7fbff;\"/>\n    <path clip-path=\"url(#p6498b162e7)\" d=\"M 411.099489 7.2 \nL 451.681307 7.2 \nL 451.681307 56.618182 \nL 411.099489 56.618182 \nL 411.099489 7.2 \n\" style=\"fill:#f7fbff;\"/>\n    <path clip-path=\"url(#p6498b162e7)\" d=\"M 451.681307 7.2 \nL 492.263125 7.2 \nL 492.263125 56.618182 \nL 451.681307 56.618182 \nL 451.681307 7.2 \n\" style=\"fill:#e3eef9;\"/>\n    <path clip-path=\"url(#p6498b162e7)\" d=\"M 45.863125 56.618182 \nL 86.444943 56.618182 \nL 86.444943 106.036364 \nL 45.863125 106.036364 \nL 45.863125 56.618182 \n\" style=\"fill:#f7fbff;\"/>\n    <path clip-path=\"url(#p6498b162e7)\" d=\"M 86.444943 56.618182 \nL 127.026761 56.618182 \nL 127.026761 106.036364 \nL 86.444943 106.036364 \nL 86.444943 56.618182 \n\" style=\"fill:#e4eff9;\"/>\n    <path clip-path=\"url(#p6498b162e7)\" d=\"M 127.026761 56.618182 \nL 167.60858 56.618182 \nL 167.60858 106.036364 \nL 127.026761 106.036364 \nL 127.026761 56.618182 \n\" style=\"fill:#f7fbff;\"/>\n    <path clip-path=\"url(#p6498b162e7)\" d=\"M 167.60858 56.618182 \nL 208.190398 56.618182 \nL 208.190398 106.036364 \nL 167.60858 106.036364 \nL 167.60858 56.618182 \n\" style=\"fill:#f7fbff;\"/>\n    <path clip-path=\"url(#p6498b162e7)\" d=\"M 208.190398 56.618182 \nL 248.772216 56.618182 \nL 248.772216 106.036364 \nL 208.190398 106.036364 \nL 208.190398 56.618182 \n\" style=\"fill:#f7fbff;\"/>\n    <path clip-path=\"url(#p6498b162e7)\" d=\"M 248.772216 56.618182 \nL 289.354034 56.618182 \nL 289.354034 106.036364 \nL 248.772216 106.036364 \nL 248.772216 56.618182 \n\" style=\"fill:#f7fbff;\"/>\n    <path clip-path=\"url(#p6498b162e7)\" d=\"M 289.354034 56.618182 \nL 329.935852 56.618182 \nL 329.935852 106.036364 \nL 289.354034 106.036364 \nL 289.354034 56.618182 \n\" style=\"fill:#f7fbff;\"/>\n    <path clip-path=\"url(#p6498b162e7)\" d=\"M 329.935852 56.618182 \nL 370.51767 56.618182 \nL 370.51767 106.036364 \nL 329.935852 106.036364 \nL 329.935852 56.618182 \n\" style=\"fill:#f7fbff;\"/>\n    <path clip-path=\"url(#p6498b162e7)\" d=\"M 370.51767 56.618182 \nL 411.099489 56.618182 \nL 411.099489 106.036364 \nL 370.51767 106.036364 \nL 370.51767 56.618182 \n\" style=\"fill:#f7fbff;\"/>\n    <path clip-path=\"url(#p6498b162e7)\" d=\"M 411.099489 56.618182 \nL 451.681307 56.618182 \nL 451.681307 106.036364 \nL 411.099489 106.036364 \nL 411.099489 56.618182 \n\" style=\"fill:#f7fbff;\"/>\n    <path clip-path=\"url(#p6498b162e7)\" d=\"M 451.681307 56.618182 \nL 492.263125 56.618182 \nL 492.263125 106.036364 \nL 451.681307 106.036364 \nL 451.681307 56.618182 \n\" style=\"fill:#e4eff9;\"/>\n    <path clip-path=\"url(#p6498b162e7)\" d=\"M 45.863125 106.036364 \nL 86.444943 106.036364 \nL 86.444943 155.454545 \nL 45.863125 155.454545 \nL 45.863125 106.036364 \n\" style=\"fill:#f7fbff;\"/>\n    <path clip-path=\"url(#p6498b162e7)\" d=\"M 86.444943 106.036364 \nL 127.026761 106.036364 \nL 127.026761 155.454545 \nL 86.444943 155.454545 \nL 86.444943 106.036364 \n\" style=\"fill:#f7fbff;\"/>\n    <path clip-path=\"url(#p6498b162e7)\" d=\"M 127.026761 106.036364 \nL 167.60858 106.036364 \nL 167.60858 155.454545 \nL 127.026761 155.454545 \nL 127.026761 106.036364 \n\" style=\"fill:#e3eef9;\"/>\n    <path clip-path=\"url(#p6498b162e7)\" d=\"M 167.60858 106.036364 \nL 208.190398 106.036364 \nL 208.190398 155.454545 \nL 167.60858 155.454545 \nL 167.60858 106.036364 \n\" style=\"fill:#f7fbff;\"/>\n    <path clip-path=\"url(#p6498b162e7)\" d=\"M 208.190398 106.036364 \nL 248.772216 106.036364 \nL 248.772216 155.454545 \nL 208.190398 155.454545 \nL 208.190398 106.036364 \n\" style=\"fill:#f7fbff;\"/>\n    <path clip-path=\"url(#p6498b162e7)\" d=\"M 248.772216 106.036364 \nL 289.354034 106.036364 \nL 289.354034 155.454545 \nL 248.772216 155.454545 \nL 248.772216 106.036364 \n\" style=\"fill:#f7fbff;\"/>\n    <path clip-path=\"url(#p6498b162e7)\" d=\"M 289.354034 106.036364 \nL 329.935852 106.036364 \nL 329.935852 155.454545 \nL 289.354034 155.454545 \nL 289.354034 106.036364 \n\" style=\"fill:#f7fbff;\"/>\n    <path clip-path=\"url(#p6498b162e7)\" d=\"M 329.935852 106.036364 \nL 370.51767 106.036364 \nL 370.51767 155.454545 \nL 329.935852 155.454545 \nL 329.935852 106.036364 \n\" style=\"fill:#f7fbff;\"/>\n    <path clip-path=\"url(#p6498b162e7)\" d=\"M 370.51767 106.036364 \nL 411.099489 106.036364 \nL 411.099489 155.454545 \nL 370.51767 155.454545 \nL 370.51767 106.036364 \n\" style=\"fill:#f7fbff;\"/>\n    <path clip-path=\"url(#p6498b162e7)\" d=\"M 411.099489 106.036364 \nL 451.681307 106.036364 \nL 451.681307 155.454545 \nL 411.099489 155.454545 \nL 411.099489 106.036364 \n\" style=\"fill:#f7fbff;\"/>\n    <path clip-path=\"url(#p6498b162e7)\" d=\"M 451.681307 106.036364 \nL 492.263125 106.036364 \nL 492.263125 155.454545 \nL 451.681307 155.454545 \nL 451.681307 106.036364 \n\" style=\"fill:#e3eef9;\"/>\n    <path clip-path=\"url(#p6498b162e7)\" d=\"M 45.863125 155.454545 \nL 86.444943 155.454545 \nL 86.444943 204.872727 \nL 45.863125 204.872727 \nL 45.863125 155.454545 \n\" style=\"fill:#f7fbff;\"/>\n    <path clip-path=\"url(#p6498b162e7)\" d=\"M 86.444943 155.454545 \nL 127.026761 155.454545 \nL 127.026761 204.872727 \nL 86.444943 204.872727 \nL 86.444943 155.454545 \n\" style=\"fill:#f7fbff;\"/>\n    <path clip-path=\"url(#p6498b162e7)\" d=\"M 127.026761 155.454545 \nL 167.60858 155.454545 \nL 167.60858 204.872727 \nL 127.026761 204.872727 \nL 127.026761 155.454545 \n\" style=\"fill:#f7fbff;\"/>\n    <path clip-path=\"url(#p6498b162e7)\" d=\"M 167.60858 155.454545 \nL 208.190398 155.454545 \nL 208.190398 204.872727 \nL 167.60858 204.872727 \nL 167.60858 155.454545 \n\" style=\"fill:#e3eef9;\"/>\n    <path clip-path=\"url(#p6498b162e7)\" d=\"M 208.190398 155.454545 \nL 248.772216 155.454545 \nL 248.772216 204.872727 \nL 208.190398 204.872727 \nL 208.190398 155.454545 \n\" style=\"fill:#f7fbff;\"/>\n    <path clip-path=\"url(#p6498b162e7)\" d=\"M 248.772216 155.454545 \nL 289.354034 155.454545 \nL 289.354034 204.872727 \nL 248.772216 204.872727 \nL 248.772216 155.454545 \n\" style=\"fill:#f7fbff;\"/>\n    <path clip-path=\"url(#p6498b162e7)\" d=\"M 289.354034 155.454545 \nL 329.935852 155.454545 \nL 329.935852 204.872727 \nL 289.354034 204.872727 \nL 289.354034 155.454545 \n\" style=\"fill:#f7fbff;\"/>\n    <path clip-path=\"url(#p6498b162e7)\" d=\"M 329.935852 155.454545 \nL 370.51767 155.454545 \nL 370.51767 204.872727 \nL 329.935852 204.872727 \nL 329.935852 155.454545 \n\" style=\"fill:#f7fbff;\"/>\n    <path clip-path=\"url(#p6498b162e7)\" d=\"M 370.51767 155.454545 \nL 411.099489 155.454545 \nL 411.099489 204.872727 \nL 370.51767 204.872727 \nL 370.51767 155.454545 \n\" style=\"fill:#f7fbff;\"/>\n    <path clip-path=\"url(#p6498b162e7)\" d=\"M 411.099489 155.454545 \nL 451.681307 155.454545 \nL 451.681307 204.872727 \nL 411.099489 204.872727 \nL 411.099489 155.454545 \n\" style=\"fill:#f7fbff;\"/>\n    <path clip-path=\"url(#p6498b162e7)\" d=\"M 451.681307 155.454545 \nL 492.263125 155.454545 \nL 492.263125 204.872727 \nL 451.681307 204.872727 \nL 451.681307 155.454545 \n\" style=\"fill:#e3eef9;\"/>\n    <path clip-path=\"url(#p6498b162e7)\" d=\"M 45.863125 204.872727 \nL 86.444943 204.872727 \nL 86.444943 254.290909 \nL 45.863125 254.290909 \nL 45.863125 204.872727 \n\" style=\"fill:#f7fbff;\"/>\n    <path clip-path=\"url(#p6498b162e7)\" d=\"M 86.444943 204.872727 \nL 127.026761 204.872727 \nL 127.026761 254.290909 \nL 86.444943 254.290909 \nL 86.444943 204.872727 \n\" style=\"fill:#f7fbff;\"/>\n    <path clip-path=\"url(#p6498b162e7)\" d=\"M 127.026761 204.872727 \nL 167.60858 204.872727 \nL 167.60858 254.290909 \nL 127.026761 254.290909 \nL 127.026761 204.872727 \n\" style=\"fill:#f7fbff;\"/>\n    <path clip-path=\"url(#p6498b162e7)\" d=\"M 167.60858 204.872727 \nL 208.190398 204.872727 \nL 208.190398 254.290909 \nL 167.60858 254.290909 \nL 167.60858 204.872727 \n\" style=\"fill:#f7fbff;\"/>\n    <path clip-path=\"url(#p6498b162e7)\" d=\"M 208.190398 204.872727 \nL 248.772216 204.872727 \nL 248.772216 254.290909 \nL 208.190398 254.290909 \nL 208.190398 204.872727 \n\" style=\"fill:#e4eff9;\"/>\n    <path clip-path=\"url(#p6498b162e7)\" d=\"M 248.772216 204.872727 \nL 289.354034 204.872727 \nL 289.354034 254.290909 \nL 248.772216 254.290909 \nL 248.772216 204.872727 \n\" style=\"fill:#f7fbff;\"/>\n    <path clip-path=\"url(#p6498b162e7)\" d=\"M 289.354034 204.872727 \nL 329.935852 204.872727 \nL 329.935852 254.290909 \nL 289.354034 254.290909 \nL 289.354034 204.872727 \n\" style=\"fill:#f7fbff;\"/>\n    <path clip-path=\"url(#p6498b162e7)\" d=\"M 329.935852 204.872727 \nL 370.51767 204.872727 \nL 370.51767 254.290909 \nL 329.935852 254.290909 \nL 329.935852 204.872727 \n\" style=\"fill:#f7fbff;\"/>\n    <path clip-path=\"url(#p6498b162e7)\" d=\"M 370.51767 204.872727 \nL 411.099489 204.872727 \nL 411.099489 254.290909 \nL 370.51767 254.290909 \nL 370.51767 204.872727 \n\" style=\"fill:#f7fbff;\"/>\n    <path clip-path=\"url(#p6498b162e7)\" d=\"M 411.099489 204.872727 \nL 451.681307 204.872727 \nL 451.681307 254.290909 \nL 411.099489 254.290909 \nL 411.099489 204.872727 \n\" style=\"fill:#f7fbff;\"/>\n    <path clip-path=\"url(#p6498b162e7)\" d=\"M 451.681307 204.872727 \nL 492.263125 204.872727 \nL 492.263125 254.290909 \nL 451.681307 254.290909 \nL 451.681307 204.872727 \n\" style=\"fill:#e4eff9;\"/>\n    <path clip-path=\"url(#p6498b162e7)\" d=\"M 45.863125 254.290909 \nL 86.444943 254.290909 \nL 86.444943 303.709091 \nL 45.863125 303.709091 \nL 45.863125 254.290909 \n\" style=\"fill:#f7fbff;\"/>\n    <path clip-path=\"url(#p6498b162e7)\" d=\"M 86.444943 254.290909 \nL 127.026761 254.290909 \nL 127.026761 303.709091 \nL 86.444943 303.709091 \nL 86.444943 254.290909 \n\" style=\"fill:#f7fbff;\"/>\n    <path clip-path=\"url(#p6498b162e7)\" d=\"M 127.026761 254.290909 \nL 167.60858 254.290909 \nL 167.60858 303.709091 \nL 127.026761 303.709091 \nL 127.026761 254.290909 \n\" style=\"fill:#f7fbff;\"/>\n    <path clip-path=\"url(#p6498b162e7)\" d=\"M 167.60858 254.290909 \nL 208.190398 254.290909 \nL 208.190398 303.709091 \nL 167.60858 303.709091 \nL 167.60858 254.290909 \n\" style=\"fill:#f7fbff;\"/>\n    <path clip-path=\"url(#p6498b162e7)\" d=\"M 208.190398 254.290909 \nL 248.772216 254.290909 \nL 248.772216 303.709091 \nL 208.190398 303.709091 \nL 208.190398 254.290909 \n\" style=\"fill:#f7fbff;\"/>\n    <path clip-path=\"url(#p6498b162e7)\" d=\"M 248.772216 254.290909 \nL 289.354034 254.290909 \nL 289.354034 303.709091 \nL 248.772216 303.709091 \nL 248.772216 254.290909 \n\" style=\"fill:#e3eef9;\"/>\n    <path clip-path=\"url(#p6498b162e7)\" d=\"M 289.354034 254.290909 \nL 329.935852 254.290909 \nL 329.935852 303.709091 \nL 289.354034 303.709091 \nL 289.354034 254.290909 \n\" style=\"fill:#f7fbff;\"/>\n    <path clip-path=\"url(#p6498b162e7)\" d=\"M 329.935852 254.290909 \nL 370.51767 254.290909 \nL 370.51767 303.709091 \nL 329.935852 303.709091 \nL 329.935852 254.290909 \n\" style=\"fill:#f7fbff;\"/>\n    <path clip-path=\"url(#p6498b162e7)\" d=\"M 370.51767 254.290909 \nL 411.099489 254.290909 \nL 411.099489 303.709091 \nL 370.51767 303.709091 \nL 370.51767 254.290909 \n\" style=\"fill:#f7fbff;\"/>\n    <path clip-path=\"url(#p6498b162e7)\" d=\"M 411.099489 254.290909 \nL 451.681307 254.290909 \nL 451.681307 303.709091 \nL 411.099489 303.709091 \nL 411.099489 254.290909 \n\" style=\"fill:#f7fbff;\"/>\n    <path clip-path=\"url(#p6498b162e7)\" d=\"M 451.681307 254.290909 \nL 492.263125 254.290909 \nL 492.263125 303.709091 \nL 451.681307 303.709091 \nL 451.681307 254.290909 \n\" style=\"fill:#e3eef9;\"/>\n    <path clip-path=\"url(#p6498b162e7)\" d=\"M 45.863125 303.709091 \nL 86.444943 303.709091 \nL 86.444943 353.127273 \nL 45.863125 353.127273 \nL 45.863125 303.709091 \n\" style=\"fill:#f7fbff;\"/>\n    <path clip-path=\"url(#p6498b162e7)\" d=\"M 86.444943 303.709091 \nL 127.026761 303.709091 \nL 127.026761 353.127273 \nL 86.444943 353.127273 \nL 86.444943 303.709091 \n\" style=\"fill:#f7fbff;\"/>\n    <path clip-path=\"url(#p6498b162e7)\" d=\"M 127.026761 303.709091 \nL 167.60858 303.709091 \nL 167.60858 353.127273 \nL 127.026761 353.127273 \nL 127.026761 303.709091 \n\" style=\"fill:#f7fbff;\"/>\n    <path clip-path=\"url(#p6498b162e7)\" d=\"M 167.60858 303.709091 \nL 208.190398 303.709091 \nL 208.190398 353.127273 \nL 167.60858 353.127273 \nL 167.60858 303.709091 \n\" style=\"fill:#f7fbff;\"/>\n    <path clip-path=\"url(#p6498b162e7)\" d=\"M 208.190398 303.709091 \nL 248.772216 303.709091 \nL 248.772216 353.127273 \nL 208.190398 353.127273 \nL 208.190398 303.709091 \n\" style=\"fill:#f7fbff;\"/>\n    <path clip-path=\"url(#p6498b162e7)\" d=\"M 248.772216 303.709091 \nL 289.354034 303.709091 \nL 289.354034 353.127273 \nL 248.772216 353.127273 \nL 248.772216 303.709091 \n\" style=\"fill:#f7fbff;\"/>\n    <path clip-path=\"url(#p6498b162e7)\" d=\"M 289.354034 303.709091 \nL 329.935852 303.709091 \nL 329.935852 353.127273 \nL 289.354034 353.127273 \nL 289.354034 303.709091 \n\" style=\"fill:#e3eef9;\"/>\n    <path clip-path=\"url(#p6498b162e7)\" d=\"M 329.935852 303.709091 \nL 370.51767 303.709091 \nL 370.51767 353.127273 \nL 329.935852 353.127273 \nL 329.935852 303.709091 \n\" style=\"fill:#f7fbff;\"/>\n    <path clip-path=\"url(#p6498b162e7)\" d=\"M 370.51767 303.709091 \nL 411.099489 303.709091 \nL 411.099489 353.127273 \nL 370.51767 353.127273 \nL 370.51767 303.709091 \n\" style=\"fill:#f7fbff;\"/>\n    <path clip-path=\"url(#p6498b162e7)\" d=\"M 411.099489 303.709091 \nL 451.681307 303.709091 \nL 451.681307 353.127273 \nL 411.099489 353.127273 \nL 411.099489 303.709091 \n\" style=\"fill:#f7fbff;\"/>\n    <path clip-path=\"url(#p6498b162e7)\" d=\"M 451.681307 303.709091 \nL 492.263125 303.709091 \nL 492.263125 353.127273 \nL 451.681307 353.127273 \nL 451.681307 303.709091 \n\" style=\"fill:#e3eef9;\"/>\n    <path clip-path=\"url(#p6498b162e7)\" d=\"M 45.863125 353.127273 \nL 86.444943 353.127273 \nL 86.444943 402.545455 \nL 45.863125 402.545455 \nL 45.863125 353.127273 \n\" style=\"fill:#f7fbff;\"/>\n    <path clip-path=\"url(#p6498b162e7)\" d=\"M 86.444943 353.127273 \nL 127.026761 353.127273 \nL 127.026761 402.545455 \nL 86.444943 402.545455 \nL 86.444943 353.127273 \n\" style=\"fill:#f7fbff;\"/>\n    <path clip-path=\"url(#p6498b162e7)\" d=\"M 127.026761 353.127273 \nL 167.60858 353.127273 \nL 167.60858 402.545455 \nL 127.026761 402.545455 \nL 127.026761 353.127273 \n\" style=\"fill:#f7fbff;\"/>\n    <path clip-path=\"url(#p6498b162e7)\" d=\"M 167.60858 353.127273 \nL 208.190398 353.127273 \nL 208.190398 402.545455 \nL 167.60858 402.545455 \nL 167.60858 353.127273 \n\" style=\"fill:#f7fbff;\"/>\n    <path clip-path=\"url(#p6498b162e7)\" d=\"M 208.190398 353.127273 \nL 248.772216 353.127273 \nL 248.772216 402.545455 \nL 208.190398 402.545455 \nL 208.190398 353.127273 \n\" style=\"fill:#f7fbff;\"/>\n    <path clip-path=\"url(#p6498b162e7)\" d=\"M 248.772216 353.127273 \nL 289.354034 353.127273 \nL 289.354034 402.545455 \nL 248.772216 402.545455 \nL 248.772216 353.127273 \n\" style=\"fill:#f7fbff;\"/>\n    <path clip-path=\"url(#p6498b162e7)\" d=\"M 289.354034 353.127273 \nL 329.935852 353.127273 \nL 329.935852 402.545455 \nL 289.354034 402.545455 \nL 289.354034 353.127273 \n\" style=\"fill:#f7fbff;\"/>\n    <path clip-path=\"url(#p6498b162e7)\" d=\"M 329.935852 353.127273 \nL 370.51767 353.127273 \nL 370.51767 402.545455 \nL 329.935852 402.545455 \nL 329.935852 353.127273 \n\" style=\"fill:#e3eef9;\"/>\n    <path clip-path=\"url(#p6498b162e7)\" d=\"M 370.51767 353.127273 \nL 411.099489 353.127273 \nL 411.099489 402.545455 \nL 370.51767 402.545455 \nL 370.51767 353.127273 \n\" style=\"fill:#f7fbff;\"/>\n    <path clip-path=\"url(#p6498b162e7)\" d=\"M 411.099489 353.127273 \nL 451.681307 353.127273 \nL 451.681307 402.545455 \nL 411.099489 402.545455 \nL 411.099489 353.127273 \n\" style=\"fill:#f7fbff;\"/>\n    <path clip-path=\"url(#p6498b162e7)\" d=\"M 451.681307 353.127273 \nL 492.263125 353.127273 \nL 492.263125 402.545455 \nL 451.681307 402.545455 \nL 451.681307 353.127273 \n\" style=\"fill:#e3eef9;\"/>\n    <path clip-path=\"url(#p6498b162e7)\" d=\"M 45.863125 402.545455 \nL 86.444943 402.545455 \nL 86.444943 451.963636 \nL 45.863125 451.963636 \nL 45.863125 402.545455 \n\" style=\"fill:#f7fbff;\"/>\n    <path clip-path=\"url(#p6498b162e7)\" d=\"M 86.444943 402.545455 \nL 127.026761 402.545455 \nL 127.026761 451.963636 \nL 86.444943 451.963636 \nL 86.444943 402.545455 \n\" style=\"fill:#f7fbff;\"/>\n    <path clip-path=\"url(#p6498b162e7)\" d=\"M 127.026761 402.545455 \nL 167.60858 402.545455 \nL 167.60858 451.963636 \nL 127.026761 451.963636 \nL 127.026761 402.545455 \n\" style=\"fill:#f7fbff;\"/>\n    <path clip-path=\"url(#p6498b162e7)\" d=\"M 167.60858 402.545455 \nL 208.190398 402.545455 \nL 208.190398 451.963636 \nL 167.60858 451.963636 \nL 167.60858 402.545455 \n\" style=\"fill:#f7fbff;\"/>\n    <path clip-path=\"url(#p6498b162e7)\" d=\"M 208.190398 402.545455 \nL 248.772216 402.545455 \nL 248.772216 451.963636 \nL 208.190398 451.963636 \nL 208.190398 402.545455 \n\" style=\"fill:#f7fbff;\"/>\n    <path clip-path=\"url(#p6498b162e7)\" d=\"M 248.772216 402.545455 \nL 289.354034 402.545455 \nL 289.354034 451.963636 \nL 248.772216 451.963636 \nL 248.772216 402.545455 \n\" style=\"fill:#f7fbff;\"/>\n    <path clip-path=\"url(#p6498b162e7)\" d=\"M 289.354034 402.545455 \nL 329.935852 402.545455 \nL 329.935852 451.963636 \nL 289.354034 451.963636 \nL 289.354034 402.545455 \n\" style=\"fill:#f7fbff;\"/>\n    <path clip-path=\"url(#p6498b162e7)\" d=\"M 329.935852 402.545455 \nL 370.51767 402.545455 \nL 370.51767 451.963636 \nL 329.935852 451.963636 \nL 329.935852 402.545455 \n\" style=\"fill:#f7fbff;\"/>\n    <path clip-path=\"url(#p6498b162e7)\" d=\"M 370.51767 402.545455 \nL 411.099489 402.545455 \nL 411.099489 451.963636 \nL 370.51767 451.963636 \nL 370.51767 402.545455 \n\" style=\"fill:#e3eef9;\"/>\n    <path clip-path=\"url(#p6498b162e7)\" d=\"M 411.099489 402.545455 \nL 451.681307 402.545455 \nL 451.681307 451.963636 \nL 411.099489 451.963636 \nL 411.099489 402.545455 \n\" style=\"fill:#f7fbff;\"/>\n    <path clip-path=\"url(#p6498b162e7)\" d=\"M 451.681307 402.545455 \nL 492.263125 402.545455 \nL 492.263125 451.963636 \nL 451.681307 451.963636 \nL 451.681307 402.545455 \n\" style=\"fill:#e3eef9;\"/>\n    <path clip-path=\"url(#p6498b162e7)\" d=\"M 45.863125 451.963636 \nL 86.444943 451.963636 \nL 86.444943 501.381818 \nL 45.863125 501.381818 \nL 45.863125 451.963636 \n\" style=\"fill:#f7fbff;\"/>\n    <path clip-path=\"url(#p6498b162e7)\" d=\"M 86.444943 451.963636 \nL 127.026761 451.963636 \nL 127.026761 501.381818 \nL 86.444943 501.381818 \nL 86.444943 451.963636 \n\" style=\"fill:#f7fbff;\"/>\n    <path clip-path=\"url(#p6498b162e7)\" d=\"M 127.026761 451.963636 \nL 167.60858 451.963636 \nL 167.60858 501.381818 \nL 127.026761 501.381818 \nL 127.026761 451.963636 \n\" style=\"fill:#f7fbff;\"/>\n    <path clip-path=\"url(#p6498b162e7)\" d=\"M 167.60858 451.963636 \nL 208.190398 451.963636 \nL 208.190398 501.381818 \nL 167.60858 501.381818 \nL 167.60858 451.963636 \n\" style=\"fill:#f7fbff;\"/>\n    <path clip-path=\"url(#p6498b162e7)\" d=\"M 208.190398 451.963636 \nL 248.772216 451.963636 \nL 248.772216 501.381818 \nL 208.190398 501.381818 \nL 208.190398 451.963636 \n\" style=\"fill:#f7fbff;\"/>\n    <path clip-path=\"url(#p6498b162e7)\" d=\"M 248.772216 451.963636 \nL 289.354034 451.963636 \nL 289.354034 501.381818 \nL 248.772216 501.381818 \nL 248.772216 451.963636 \n\" style=\"fill:#f7fbff;\"/>\n    <path clip-path=\"url(#p6498b162e7)\" d=\"M 289.354034 451.963636 \nL 329.935852 451.963636 \nL 329.935852 501.381818 \nL 289.354034 501.381818 \nL 289.354034 451.963636 \n\" style=\"fill:#f7fbff;\"/>\n    <path clip-path=\"url(#p6498b162e7)\" d=\"M 329.935852 451.963636 \nL 370.51767 451.963636 \nL 370.51767 501.381818 \nL 329.935852 501.381818 \nL 329.935852 451.963636 \n\" style=\"fill:#f7fbff;\"/>\n    <path clip-path=\"url(#p6498b162e7)\" d=\"M 370.51767 451.963636 \nL 411.099489 451.963636 \nL 411.099489 501.381818 \nL 370.51767 501.381818 \nL 370.51767 451.963636 \n\" style=\"fill:#f7fbff;\"/>\n    <path clip-path=\"url(#p6498b162e7)\" d=\"M 411.099489 451.963636 \nL 451.681307 451.963636 \nL 451.681307 501.381818 \nL 411.099489 501.381818 \nL 411.099489 451.963636 \n\" style=\"fill:#e3eef9;\"/>\n    <path clip-path=\"url(#p6498b162e7)\" d=\"M 451.681307 451.963636 \nL 492.263125 451.963636 \nL 492.263125 501.381818 \nL 451.681307 501.381818 \nL 451.681307 451.963636 \n\" style=\"fill:#e3eef9;\"/>\n    <path clip-path=\"url(#p6498b162e7)\" d=\"M 45.863125 501.381818 \nL 86.444943 501.381818 \nL 86.444943 550.8 \nL 45.863125 550.8 \nL 45.863125 501.381818 \n\" style=\"fill:#e3eef9;\"/>\n    <path clip-path=\"url(#p6498b162e7)\" d=\"M 86.444943 501.381818 \nL 127.026761 501.381818 \nL 127.026761 550.8 \nL 86.444943 550.8 \nL 86.444943 501.381818 \n\" style=\"fill:#e4eff9;\"/>\n    <path clip-path=\"url(#p6498b162e7)\" d=\"M 127.026761 501.381818 \nL 167.60858 501.381818 \nL 167.60858 550.8 \nL 127.026761 550.8 \nL 127.026761 501.381818 \n\" style=\"fill:#e3eef9;\"/>\n    <path clip-path=\"url(#p6498b162e7)\" d=\"M 167.60858 501.381818 \nL 208.190398 501.381818 \nL 208.190398 550.8 \nL 167.60858 550.8 \nL 167.60858 501.381818 \n\" style=\"fill:#e3eef9;\"/>\n    <path clip-path=\"url(#p6498b162e7)\" d=\"M 208.190398 501.381818 \nL 248.772216 501.381818 \nL 248.772216 550.8 \nL 208.190398 550.8 \nL 208.190398 501.381818 \n\" style=\"fill:#e4eff9;\"/>\n    <path clip-path=\"url(#p6498b162e7)\" d=\"M 248.772216 501.381818 \nL 289.354034 501.381818 \nL 289.354034 550.8 \nL 248.772216 550.8 \nL 248.772216 501.381818 \n\" style=\"fill:#e3eef9;\"/>\n    <path clip-path=\"url(#p6498b162e7)\" d=\"M 289.354034 501.381818 \nL 329.935852 501.381818 \nL 329.935852 550.8 \nL 289.354034 550.8 \nL 289.354034 501.381818 \n\" style=\"fill:#e3eef9;\"/>\n    <path clip-path=\"url(#p6498b162e7)\" d=\"M 329.935852 501.381818 \nL 370.51767 501.381818 \nL 370.51767 550.8 \nL 329.935852 550.8 \nL 329.935852 501.381818 \n\" style=\"fill:#e3eef9;\"/>\n    <path clip-path=\"url(#p6498b162e7)\" d=\"M 370.51767 501.381818 \nL 411.099489 501.381818 \nL 411.099489 550.8 \nL 370.51767 550.8 \nL 370.51767 501.381818 \n\" style=\"fill:#e3eef9;\"/>\n    <path clip-path=\"url(#p6498b162e7)\" d=\"M 411.099489 501.381818 \nL 451.681307 501.381818 \nL 451.681307 550.8 \nL 411.099489 550.8 \nL 411.099489 501.381818 \n\" style=\"fill:#e3eef9;\"/>\n    <path clip-path=\"url(#p6498b162e7)\" d=\"M 451.681307 501.381818 \nL 492.263125 501.381818 \nL 492.263125 550.8 \nL 451.681307 550.8 \nL 451.681307 501.381818 \n\" style=\"fill:#08306b;\"/>\n   </g>\n   <g id=\"matplotlib.axis_1\">\n    <g id=\"xtick_1\">\n     <g id=\"line2d_1\">\n      <defs>\n       <path d=\"M 0 0 \nL 0 6 \n\" id=\"m04e2892f68\" style=\"stroke:#000000;stroke-width:1.25;\"/>\n      </defs>\n      <g>\n       <use style=\"stroke:#000000;stroke-width:1.25;\" x=\"66.154034\" xlink:href=\"#m04e2892f68\" y=\"550.8\"/>\n      </g>\n     </g>\n     <g id=\"text_1\">\n      <!-- AB -->\n      <g transform=\"translate(56.56294 564.163125)scale(0.14 -0.14)\">\n       <defs>\n        <path d=\"M 2188 4044 \nL 1331 1722 \nL 3047 1722 \nL 2188 4044 \nz\nM 1831 4666 \nL 2547 4666 \nL 4325 0 \nL 3669 0 \nL 3244 1197 \nL 1141 1197 \nL 716 0 \nL 50 0 \nL 1831 4666 \nz\n\" id=\"DejaVuSans-41\" transform=\"scale(0.015625)\"/>\n        <path d=\"M 1259 2228 \nL 1259 519 \nL 2272 519 \nQ 2781 519 3026 730 \nQ 3272 941 3272 1375 \nQ 3272 1813 3026 2020 \nQ 2781 2228 2272 2228 \nL 1259 2228 \nz\nM 1259 4147 \nL 1259 2741 \nL 2194 2741 \nQ 2656 2741 2882 2914 \nQ 3109 3088 3109 3444 \nQ 3109 3797 2882 3972 \nQ 2656 4147 2194 4147 \nL 1259 4147 \nz\nM 628 4666 \nL 2241 4666 \nQ 2963 4666 3353 4366 \nQ 3744 4066 3744 3513 \nQ 3744 3084 3544 2831 \nQ 3344 2578 2956 2516 \nQ 3422 2416 3680 2098 \nQ 3938 1781 3938 1306 \nQ 3938 681 3513 340 \nQ 3088 0 2303 0 \nL 628 0 \nL 628 4666 \nz\n\" id=\"DejaVuSans-42\" transform=\"scale(0.015625)\"/>\n       </defs>\n       <use xlink:href=\"#DejaVuSans-41\"/>\n       <use x=\"68.408203\" xlink:href=\"#DejaVuSans-42\"/>\n      </g>\n     </g>\n    </g>\n    <g id=\"xtick_2\">\n     <g id=\"line2d_2\">\n      <g>\n       <use style=\"stroke:#000000;stroke-width:1.25;\" x=\"106.735852\" xlink:href=\"#m04e2892f68\" y=\"550.8\"/>\n      </g>\n     </g>\n     <g id=\"text_2\">\n      <!-- ABC -->\n      <g transform=\"translate(92.37929 564.163125)scale(0.14 -0.14)\">\n       <defs>\n        <path d=\"M 4122 4306 \nL 4122 3641 \nQ 3803 3938 3442 4084 \nQ 3081 4231 2675 4231 \nQ 1875 4231 1450 3742 \nQ 1025 3253 1025 2328 \nQ 1025 1406 1450 917 \nQ 1875 428 2675 428 \nQ 3081 428 3442 575 \nQ 3803 722 4122 1019 \nL 4122 359 \nQ 3791 134 3420 21 \nQ 3050 -91 2638 -91 \nQ 1578 -91 968 557 \nQ 359 1206 359 2328 \nQ 359 3453 968 4101 \nQ 1578 4750 2638 4750 \nQ 3056 4750 3426 4639 \nQ 3797 4528 4122 4306 \nz\n\" id=\"DejaVuSans-43\" transform=\"scale(0.015625)\"/>\n       </defs>\n       <use xlink:href=\"#DejaVuSans-41\"/>\n       <use x=\"68.408203\" xlink:href=\"#DejaVuSans-42\"/>\n       <use x=\"135.261719\" xlink:href=\"#DejaVuSans-43\"/>\n      </g>\n     </g>\n    </g>\n    <g id=\"xtick_3\">\n     <g id=\"line2d_3\">\n      <g>\n       <use style=\"stroke:#000000;stroke-width:1.25;\" x=\"147.31767\" xlink:href=\"#m04e2892f68\" y=\"550.8\"/>\n      </g>\n     </g>\n     <g id=\"text_3\">\n      <!-- ABT -->\n      <g transform=\"translate(133.451108 564.163125)scale(0.14 -0.14)\">\n       <defs>\n        <path d=\"M -19 4666 \nL 3928 4666 \nL 3928 4134 \nL 2272 4134 \nL 2272 0 \nL 1638 0 \nL 1638 4134 \nL -19 4134 \nL -19 4666 \nz\n\" id=\"DejaVuSans-54\" transform=\"scale(0.015625)\"/>\n       </defs>\n       <use xlink:href=\"#DejaVuSans-41\"/>\n       <use x=\"68.408203\" xlink:href=\"#DejaVuSans-42\"/>\n       <use x=\"137.011719\" xlink:href=\"#DejaVuSans-54\"/>\n      </g>\n     </g>\n    </g>\n    <g id=\"xtick_4\">\n     <g id=\"line2d_4\">\n      <g>\n       <use style=\"stroke:#000000;stroke-width:1.25;\" x=\"187.899489\" xlink:href=\"#m04e2892f68\" y=\"550.8\"/>\n      </g>\n     </g>\n     <g id=\"text_4\">\n      <!-- AT -->\n      <g transform=\"translate(179.378082 564.163125)scale(0.14 -0.14)\">\n       <use xlink:href=\"#DejaVuSans-41\"/>\n       <use x=\"60.658203\" xlink:href=\"#DejaVuSans-54\"/>\n      </g>\n     </g>\n    </g>\n    <g id=\"xtick_5\">\n     <g id=\"line2d_5\">\n      <g>\n       <use style=\"stroke:#000000;stroke-width:1.25;\" x=\"228.481307\" xlink:href=\"#m04e2892f68\" y=\"550.8\"/>\n      </g>\n     </g>\n     <g id=\"text_5\">\n      <!-- BC -->\n      <g transform=\"translate(218.913182 564.163125)scale(0.14 -0.14)\">\n       <use xlink:href=\"#DejaVuSans-42\"/>\n       <use x=\"66.853516\" xlink:href=\"#DejaVuSans-43\"/>\n      </g>\n     </g>\n    </g>\n    <g id=\"xtick_6\">\n     <g id=\"line2d_6\">\n      <g>\n       <use style=\"stroke:#000000;stroke-width:1.25;\" x=\"269.063125\" xlink:href=\"#m04e2892f68\" y=\"550.8\"/>\n      </g>\n     </g>\n     <g id=\"text_6\">\n      <!-- BCT -->\n      <g transform=\"translate(255.219531 564.163125)scale(0.14 -0.14)\">\n       <use xlink:href=\"#DejaVuSans-42\"/>\n       <use x=\"66.853516\" xlink:href=\"#DejaVuSans-43\"/>\n       <use x=\"136.677734\" xlink:href=\"#DejaVuSans-54\"/>\n      </g>\n     </g>\n    </g>\n    <g id=\"xtick_7\">\n     <g id=\"line2d_7\">\n      <g>\n       <use style=\"stroke:#000000;stroke-width:1.25;\" x=\"309.644943\" xlink:href=\"#m04e2892f68\" y=\"550.8\"/>\n      </g>\n     </g>\n     <g id=\"text_7\">\n      <!-- BT -->\n      <g transform=\"translate(300.566818 564.163125)scale(0.14 -0.14)\">\n       <use xlink:href=\"#DejaVuSans-42\"/>\n       <use x=\"68.603516\" xlink:href=\"#DejaVuSans-54\"/>\n      </g>\n     </g>\n    </g>\n    <g id=\"xtick_8\">\n     <g id=\"line2d_8\">\n      <g>\n       <use style=\"stroke:#000000;stroke-width:1.25;\" x=\"350.226761\" xlink:href=\"#m04e2892f68\" y=\"550.8\"/>\n      </g>\n     </g>\n     <g id=\"text_8\">\n      <!-- CA -->\n      <g transform=\"translate(340.550355 564.163125)scale(0.14 -0.14)\">\n       <use xlink:href=\"#DejaVuSans-43\"/>\n       <use x=\"69.824219\" xlink:href=\"#DejaVuSans-41\"/>\n      </g>\n     </g>\n    </g>\n    <g id=\"xtick_9\">\n     <g id=\"line2d_9\">\n      <g>\n       <use style=\"stroke:#000000;stroke-width:1.25;\" x=\"390.80858\" xlink:href=\"#m04e2892f68\" y=\"550.8\"/>\n      </g>\n     </g>\n     <g id=\"text_9\">\n      <!-- CAT -->\n      <g transform=\"translate(377.399205 564.163125)scale(0.14 -0.14)\">\n       <use xlink:href=\"#DejaVuSans-43\"/>\n       <use x=\"69.824219\" xlink:href=\"#DejaVuSans-41\"/>\n       <use x=\"130.482422\" xlink:href=\"#DejaVuSans-54\"/>\n      </g>\n     </g>\n    </g>\n    <g id=\"xtick_10\">\n     <g id=\"line2d_10\">\n      <g>\n       <use style=\"stroke:#000000;stroke-width:1.25;\" x=\"431.390398\" xlink:href=\"#m04e2892f68\" y=\"550.8\"/>\n      </g>\n     </g>\n     <g id=\"text_10\">\n      <!-- CT -->\n      <g transform=\"translate(422.22696 564.163125)scale(0.14 -0.14)\">\n       <use xlink:href=\"#DejaVuSans-43\"/>\n       <use x=\"69.824219\" xlink:href=\"#DejaVuSans-54\"/>\n      </g>\n     </g>\n    </g>\n    <g id=\"xtick_11\">\n     <g id=\"line2d_11\">\n      <g>\n       <use style=\"stroke:#000000;stroke-width:1.25;\" x=\"471.972216\" xlink:href=\"#m04e2892f68\" y=\"550.8\"/>\n      </g>\n     </g>\n     <g id=\"text_11\">\n      <!-- All -->\n      <g transform=\"translate(463.294403 564.163125)scale(0.14 -0.14)\">\n       <defs>\n        <path d=\"M 603 4863 \nL 1178 4863 \nL 1178 0 \nL 603 0 \nL 603 4863 \nz\n\" id=\"DejaVuSans-6c\" transform=\"scale(0.015625)\"/>\n       </defs>\n       <use xlink:href=\"#DejaVuSans-41\"/>\n       <use x=\"68.408203\" xlink:href=\"#DejaVuSans-6c\"/>\n       <use x=\"96.191406\" xlink:href=\"#DejaVuSans-6c\"/>\n      </g>\n     </g>\n    </g>\n    <g id=\"text_12\">\n     <!-- Predito -->\n     <g transform=\"translate(248.0275 580.192813)scale(0.12 -0.12)\">\n      <defs>\n       <path d=\"M 1259 4147 \nL 1259 2394 \nL 2053 2394 \nQ 2494 2394 2734 2622 \nQ 2975 2850 2975 3272 \nQ 2975 3691 2734 3919 \nQ 2494 4147 2053 4147 \nL 1259 4147 \nz\nM 628 4666 \nL 2053 4666 \nQ 2838 4666 3239 4311 \nQ 3641 3956 3641 3272 \nQ 3641 2581 3239 2228 \nQ 2838 1875 2053 1875 \nL 1259 1875 \nL 1259 0 \nL 628 0 \nL 628 4666 \nz\n\" id=\"DejaVuSans-50\" transform=\"scale(0.015625)\"/>\n       <path d=\"M 2631 2963 \nQ 2534 3019 2420 3045 \nQ 2306 3072 2169 3072 \nQ 1681 3072 1420 2755 \nQ 1159 2438 1159 1844 \nL 1159 0 \nL 581 0 \nL 581 3500 \nL 1159 3500 \nL 1159 2956 \nQ 1341 3275 1631 3429 \nQ 1922 3584 2338 3584 \nQ 2397 3584 2469 3576 \nQ 2541 3569 2628 3553 \nL 2631 2963 \nz\n\" id=\"DejaVuSans-72\" transform=\"scale(0.015625)\"/>\n       <path d=\"M 3597 1894 \nL 3597 1613 \nL 953 1613 \nQ 991 1019 1311 708 \nQ 1631 397 2203 397 \nQ 2534 397 2845 478 \nQ 3156 559 3463 722 \nL 3463 178 \nQ 3153 47 2828 -22 \nQ 2503 -91 2169 -91 \nQ 1331 -91 842 396 \nQ 353 884 353 1716 \nQ 353 2575 817 3079 \nQ 1281 3584 2069 3584 \nQ 2775 3584 3186 3129 \nQ 3597 2675 3597 1894 \nz\nM 3022 2063 \nQ 3016 2534 2758 2815 \nQ 2500 3097 2075 3097 \nQ 1594 3097 1305 2825 \nQ 1016 2553 972 2059 \nL 3022 2063 \nz\n\" id=\"DejaVuSans-65\" transform=\"scale(0.015625)\"/>\n       <path d=\"M 2906 2969 \nL 2906 4863 \nL 3481 4863 \nL 3481 0 \nL 2906 0 \nL 2906 525 \nQ 2725 213 2448 61 \nQ 2172 -91 1784 -91 \nQ 1150 -91 751 415 \nQ 353 922 353 1747 \nQ 353 2572 751 3078 \nQ 1150 3584 1784 3584 \nQ 2172 3584 2448 3432 \nQ 2725 3281 2906 2969 \nz\nM 947 1747 \nQ 947 1113 1208 752 \nQ 1469 391 1925 391 \nQ 2381 391 2643 752 \nQ 2906 1113 2906 1747 \nQ 2906 2381 2643 2742 \nQ 2381 3103 1925 3103 \nQ 1469 3103 1208 2742 \nQ 947 2381 947 1747 \nz\n\" id=\"DejaVuSans-64\" transform=\"scale(0.015625)\"/>\n       <path d=\"M 603 3500 \nL 1178 3500 \nL 1178 0 \nL 603 0 \nL 603 3500 \nz\nM 603 4863 \nL 1178 4863 \nL 1178 4134 \nL 603 4134 \nL 603 4863 \nz\n\" id=\"DejaVuSans-69\" transform=\"scale(0.015625)\"/>\n       <path d=\"M 1172 4494 \nL 1172 3500 \nL 2356 3500 \nL 2356 3053 \nL 1172 3053 \nL 1172 1153 \nQ 1172 725 1289 603 \nQ 1406 481 1766 481 \nL 2356 481 \nL 2356 0 \nL 1766 0 \nQ 1100 0 847 248 \nQ 594 497 594 1153 \nL 594 3053 \nL 172 3053 \nL 172 3500 \nL 594 3500 \nL 594 4494 \nL 1172 4494 \nz\n\" id=\"DejaVuSans-74\" transform=\"scale(0.015625)\"/>\n       <path d=\"M 1959 3097 \nQ 1497 3097 1228 2736 \nQ 959 2375 959 1747 \nQ 959 1119 1226 758 \nQ 1494 397 1959 397 \nQ 2419 397 2687 759 \nQ 2956 1122 2956 1747 \nQ 2956 2369 2687 2733 \nQ 2419 3097 1959 3097 \nz\nM 1959 3584 \nQ 2709 3584 3137 3096 \nQ 3566 2609 3566 1747 \nQ 3566 888 3137 398 \nQ 2709 -91 1959 -91 \nQ 1206 -91 779 398 \nQ 353 888 353 1747 \nQ 353 2609 779 3096 \nQ 1206 3584 1959 3584 \nz\n\" id=\"DejaVuSans-6f\" transform=\"scale(0.015625)\"/>\n      </defs>\n      <use xlink:href=\"#DejaVuSans-50\"/>\n      <use x=\"58.552734\" xlink:href=\"#DejaVuSans-72\"/>\n      <use x=\"97.416016\" xlink:href=\"#DejaVuSans-65\"/>\n      <use x=\"158.939453\" xlink:href=\"#DejaVuSans-64\"/>\n      <use x=\"222.416016\" xlink:href=\"#DejaVuSans-69\"/>\n      <use x=\"250.199219\" xlink:href=\"#DejaVuSans-74\"/>\n      <use x=\"289.408203\" xlink:href=\"#DejaVuSans-6f\"/>\n     </g>\n    </g>\n   </g>\n   <g id=\"matplotlib.axis_2\">\n    <g id=\"ytick_1\">\n     <g id=\"line2d_12\">\n      <defs>\n       <path d=\"M 0 0 \nL -6 0 \n\" id=\"m7ad14369c5\" style=\"stroke:#000000;stroke-width:1.25;\"/>\n      </defs>\n      <g>\n       <use style=\"stroke:#000000;stroke-width:1.25;\" x=\"45.863125\" xlink:href=\"#m7ad14369c5\" y=\"31.909091\"/>\n      </g>\n     </g>\n     <g id=\"text_13\">\n      <!-- AB -->\n      <g transform=\"translate(33.451562 41.500185)rotate(-90)scale(0.14 -0.14)\">\n       <use xlink:href=\"#DejaVuSans-41\"/>\n       <use x=\"68.408203\" xlink:href=\"#DejaVuSans-42\"/>\n      </g>\n     </g>\n    </g>\n    <g id=\"ytick_2\">\n     <g id=\"line2d_13\">\n      <g>\n       <use style=\"stroke:#000000;stroke-width:1.25;\" x=\"45.863125\" xlink:href=\"#m7ad14369c5\" y=\"81.327273\"/>\n      </g>\n     </g>\n     <g id=\"text_14\">\n      <!-- ABC -->\n      <g transform=\"translate(33.451562 95.683835)rotate(-90)scale(0.14 -0.14)\">\n       <use xlink:href=\"#DejaVuSans-41\"/>\n       <use x=\"68.408203\" xlink:href=\"#DejaVuSans-42\"/>\n       <use x=\"135.261719\" xlink:href=\"#DejaVuSans-43\"/>\n      </g>\n     </g>\n    </g>\n    <g id=\"ytick_3\">\n     <g id=\"line2d_14\">\n      <g>\n       <use style=\"stroke:#000000;stroke-width:1.25;\" x=\"45.863125\" xlink:href=\"#m7ad14369c5\" y=\"130.745455\"/>\n      </g>\n     </g>\n     <g id=\"text_15\">\n      <!-- ABT -->\n      <g transform=\"translate(33.451562 144.612017)rotate(-90)scale(0.14 -0.14)\">\n       <use xlink:href=\"#DejaVuSans-41\"/>\n       <use x=\"68.408203\" xlink:href=\"#DejaVuSans-42\"/>\n       <use x=\"137.011719\" xlink:href=\"#DejaVuSans-54\"/>\n      </g>\n     </g>\n    </g>\n    <g id=\"ytick_4\">\n     <g id=\"line2d_15\">\n      <g>\n       <use style=\"stroke:#000000;stroke-width:1.25;\" x=\"45.863125\" xlink:href=\"#m7ad14369c5\" y=\"180.163636\"/>\n      </g>\n     </g>\n     <g id=\"text_16\">\n      <!-- AT -->\n      <g transform=\"translate(33.451562 188.685043)rotate(-90)scale(0.14 -0.14)\">\n       <use xlink:href=\"#DejaVuSans-41\"/>\n       <use x=\"60.658203\" xlink:href=\"#DejaVuSans-54\"/>\n      </g>\n     </g>\n    </g>\n    <g id=\"ytick_5\">\n     <g id=\"line2d_16\">\n      <g>\n       <use style=\"stroke:#000000;stroke-width:1.25;\" x=\"45.863125\" xlink:href=\"#m7ad14369c5\" y=\"229.581818\"/>\n      </g>\n     </g>\n     <g id=\"text_17\">\n      <!-- BC -->\n      <g transform=\"translate(33.451562 239.149943)rotate(-90)scale(0.14 -0.14)\">\n       <use xlink:href=\"#DejaVuSans-42\"/>\n       <use x=\"66.853516\" xlink:href=\"#DejaVuSans-43\"/>\n      </g>\n     </g>\n    </g>\n    <g id=\"ytick_6\">\n     <g id=\"line2d_17\">\n      <g>\n       <use style=\"stroke:#000000;stroke-width:1.25;\" x=\"45.863125\" xlink:href=\"#m7ad14369c5\" y=\"279\"/>\n      </g>\n     </g>\n     <g id=\"text_18\">\n      <!-- BCT -->\n      <g transform=\"translate(33.451562 292.843594)rotate(-90)scale(0.14 -0.14)\">\n       <use xlink:href=\"#DejaVuSans-42\"/>\n       <use x=\"66.853516\" xlink:href=\"#DejaVuSans-43\"/>\n       <use x=\"136.677734\" xlink:href=\"#DejaVuSans-54\"/>\n      </g>\n     </g>\n    </g>\n    <g id=\"ytick_7\">\n     <g id=\"line2d_18\">\n      <g>\n       <use style=\"stroke:#000000;stroke-width:1.25;\" x=\"45.863125\" xlink:href=\"#m7ad14369c5\" y=\"328.418182\"/>\n      </g>\n     </g>\n     <g id=\"text_19\">\n      <!-- BT -->\n      <g transform=\"translate(33.451562 337.496307)rotate(-90)scale(0.14 -0.14)\">\n       <use xlink:href=\"#DejaVuSans-42\"/>\n       <use x=\"68.603516\" xlink:href=\"#DejaVuSans-54\"/>\n      </g>\n     </g>\n    </g>\n    <g id=\"ytick_8\">\n     <g id=\"line2d_19\">\n      <g>\n       <use style=\"stroke:#000000;stroke-width:1.25;\" x=\"45.863125\" xlink:href=\"#m7ad14369c5\" y=\"377.836364\"/>\n      </g>\n     </g>\n     <g id=\"text_20\">\n      <!-- CA -->\n      <g transform=\"translate(33.451562 387.51277)rotate(-90)scale(0.14 -0.14)\">\n       <use xlink:href=\"#DejaVuSans-43\"/>\n       <use x=\"69.824219\" xlink:href=\"#DejaVuSans-41\"/>\n      </g>\n     </g>\n    </g>\n    <g id=\"ytick_9\">\n     <g id=\"line2d_20\">\n      <g>\n       <use style=\"stroke:#000000;stroke-width:1.25;\" x=\"45.863125\" xlink:href=\"#m7ad14369c5\" y=\"427.254545\"/>\n      </g>\n     </g>\n     <g id=\"text_21\">\n      <!-- CAT -->\n      <g transform=\"translate(33.451562 440.66392)rotate(-90)scale(0.14 -0.14)\">\n       <use xlink:href=\"#DejaVuSans-43\"/>\n       <use x=\"69.824219\" xlink:href=\"#DejaVuSans-41\"/>\n       <use x=\"130.482422\" xlink:href=\"#DejaVuSans-54\"/>\n      </g>\n     </g>\n    </g>\n    <g id=\"ytick_10\">\n     <g id=\"line2d_21\">\n      <g>\n       <use style=\"stroke:#000000;stroke-width:1.25;\" x=\"45.863125\" xlink:href=\"#m7ad14369c5\" y=\"476.672727\"/>\n      </g>\n     </g>\n     <g id=\"text_22\">\n      <!-- CT -->\n      <g transform=\"translate(33.451562 485.836165)rotate(-90)scale(0.14 -0.14)\">\n       <use xlink:href=\"#DejaVuSans-43\"/>\n       <use x=\"69.824219\" xlink:href=\"#DejaVuSans-54\"/>\n      </g>\n     </g>\n    </g>\n    <g id=\"ytick_11\">\n     <g id=\"line2d_22\">\n      <g>\n       <use style=\"stroke:#000000;stroke-width:1.25;\" x=\"45.863125\" xlink:href=\"#m7ad14369c5\" y=\"526.090909\"/>\n      </g>\n     </g>\n     <g id=\"text_23\">\n      <!-- All -->\n      <g transform=\"translate(33.451562 534.768722)rotate(-90)scale(0.14 -0.14)\">\n       <use xlink:href=\"#DejaVuSans-41\"/>\n       <use x=\"68.408203\" xlink:href=\"#DejaVuSans-6c\"/>\n       <use x=\"96.191406\" xlink:href=\"#DejaVuSans-6c\"/>\n      </g>\n     </g>\n    </g>\n    <g id=\"text_24\">\n     <!-- Real -->\n     <g transform=\"translate(16.318125 291.934688)rotate(-90)scale(0.12 -0.12)\">\n      <defs>\n       <path d=\"M 2841 2188 \nQ 3044 2119 3236 1894 \nQ 3428 1669 3622 1275 \nL 4263 0 \nL 3584 0 \nL 2988 1197 \nQ 2756 1666 2539 1819 \nQ 2322 1972 1947 1972 \nL 1259 1972 \nL 1259 0 \nL 628 0 \nL 628 4666 \nL 2053 4666 \nQ 2853 4666 3247 4331 \nQ 3641 3997 3641 3322 \nQ 3641 2881 3436 2590 \nQ 3231 2300 2841 2188 \nz\nM 1259 4147 \nL 1259 2491 \nL 2053 2491 \nQ 2509 2491 2742 2702 \nQ 2975 2913 2975 3322 \nQ 2975 3731 2742 3939 \nQ 2509 4147 2053 4147 \nL 1259 4147 \nz\n\" id=\"DejaVuSans-52\" transform=\"scale(0.015625)\"/>\n       <path d=\"M 2194 1759 \nQ 1497 1759 1228 1600 \nQ 959 1441 959 1056 \nQ 959 750 1161 570 \nQ 1363 391 1709 391 \nQ 2188 391 2477 730 \nQ 2766 1069 2766 1631 \nL 2766 1759 \nL 2194 1759 \nz\nM 3341 1997 \nL 3341 0 \nL 2766 0 \nL 2766 531 \nQ 2569 213 2275 61 \nQ 1981 -91 1556 -91 \nQ 1019 -91 701 211 \nQ 384 513 384 1019 \nQ 384 1609 779 1909 \nQ 1175 2209 1959 2209 \nL 2766 2209 \nL 2766 2266 \nQ 2766 2663 2505 2880 \nQ 2244 3097 1772 3097 \nQ 1472 3097 1187 3025 \nQ 903 2953 641 2809 \nL 641 3341 \nQ 956 3463 1253 3523 \nQ 1550 3584 1831 3584 \nQ 2591 3584 2966 3190 \nQ 3341 2797 3341 1997 \nz\n\" id=\"DejaVuSans-61\" transform=\"scale(0.015625)\"/>\n      </defs>\n      <use xlink:href=\"#DejaVuSans-52\"/>\n      <use x=\"64.982422\" xlink:href=\"#DejaVuSans-65\"/>\n      <use x=\"126.505859\" xlink:href=\"#DejaVuSans-61\"/>\n      <use x=\"187.785156\" xlink:href=\"#DejaVuSans-6c\"/>\n     </g>\n    </g>\n   </g>\n   <g id=\"text_25\">\n    <!-- 19 -->\n    <g style=\"fill:#262626;\" transform=\"translate(59.791534 34.668466)scale(0.1 -0.1)\">\n     <defs>\n      <path d=\"M 794 531 \nL 1825 531 \nL 1825 4091 \nL 703 3866 \nL 703 4441 \nL 1819 4666 \nL 2450 4666 \nL 2450 531 \nL 3481 531 \nL 3481 0 \nL 794 0 \nL 794 531 \nz\n\" id=\"DejaVuSans-31\" transform=\"scale(0.015625)\"/>\n      <path d=\"M 703 97 \nL 703 672 \nQ 941 559 1184 500 \nQ 1428 441 1663 441 \nQ 2288 441 2617 861 \nQ 2947 1281 2994 2138 \nQ 2813 1869 2534 1725 \nQ 2256 1581 1919 1581 \nQ 1219 1581 811 2004 \nQ 403 2428 403 3163 \nQ 403 3881 828 4315 \nQ 1253 4750 1959 4750 \nQ 2769 4750 3195 4129 \nQ 3622 3509 3622 2328 \nQ 3622 1225 3098 567 \nQ 2575 -91 1691 -91 \nQ 1453 -91 1209 -44 \nQ 966 3 703 97 \nz\nM 1959 2075 \nQ 2384 2075 2632 2365 \nQ 2881 2656 2881 3163 \nQ 2881 3666 2632 3958 \nQ 2384 4250 1959 4250 \nQ 1534 4250 1286 3958 \nQ 1038 3666 1038 3163 \nQ 1038 2656 1286 2365 \nQ 1534 2075 1959 2075 \nz\n\" id=\"DejaVuSans-39\" transform=\"scale(0.015625)\"/>\n     </defs>\n     <use xlink:href=\"#DejaVuSans-31\"/>\n     <use x=\"63.623047\" xlink:href=\"#DejaVuSans-39\"/>\n    </g>\n   </g>\n   <g id=\"text_26\">\n    <!-- 0 -->\n    <g style=\"fill:#262626;\" transform=\"translate(103.554602 34.668466)scale(0.1 -0.1)\">\n     <defs>\n      <path d=\"M 2034 4250 \nQ 1547 4250 1301 3770 \nQ 1056 3291 1056 2328 \nQ 1056 1369 1301 889 \nQ 1547 409 2034 409 \nQ 2525 409 2770 889 \nQ 3016 1369 3016 2328 \nQ 3016 3291 2770 3770 \nQ 2525 4250 2034 4250 \nz\nM 2034 4750 \nQ 2819 4750 3233 4129 \nQ 3647 3509 3647 2328 \nQ 3647 1150 3233 529 \nQ 2819 -91 2034 -91 \nQ 1250 -91 836 529 \nQ 422 1150 422 2328 \nQ 422 3509 836 4129 \nQ 1250 4750 2034 4750 \nz\n\" id=\"DejaVuSans-30\" transform=\"scale(0.015625)\"/>\n     </defs>\n     <use xlink:href=\"#DejaVuSans-30\"/>\n    </g>\n   </g>\n   <g id=\"text_27\">\n    <!-- 0 -->\n    <g style=\"fill:#262626;\" transform=\"translate(144.13642 34.668466)scale(0.1 -0.1)\">\n     <use xlink:href=\"#DejaVuSans-30\"/>\n    </g>\n   </g>\n   <g id=\"text_28\">\n    <!-- 0 -->\n    <g style=\"fill:#262626;\" transform=\"translate(184.718239 34.668466)scale(0.1 -0.1)\">\n     <use xlink:href=\"#DejaVuSans-30\"/>\n    </g>\n   </g>\n   <g id=\"text_29\">\n    <!-- 0 -->\n    <g style=\"fill:#262626;\" transform=\"translate(225.300057 34.668466)scale(0.1 -0.1)\">\n     <use xlink:href=\"#DejaVuSans-30\"/>\n    </g>\n   </g>\n   <g id=\"text_30\">\n    <!-- 0 -->\n    <g style=\"fill:#262626;\" transform=\"translate(265.881875 34.668466)scale(0.1 -0.1)\">\n     <use xlink:href=\"#DejaVuSans-30\"/>\n    </g>\n   </g>\n   <g id=\"text_31\">\n    <!-- 0 -->\n    <g style=\"fill:#262626;\" transform=\"translate(306.463693 34.668466)scale(0.1 -0.1)\">\n     <use xlink:href=\"#DejaVuSans-30\"/>\n    </g>\n   </g>\n   <g id=\"text_32\">\n    <!-- 0 -->\n    <g style=\"fill:#262626;\" transform=\"translate(347.045511 34.668466)scale(0.1 -0.1)\">\n     <use xlink:href=\"#DejaVuSans-30\"/>\n    </g>\n   </g>\n   <g id=\"text_33\">\n    <!-- 0 -->\n    <g style=\"fill:#262626;\" transform=\"translate(387.62733 34.668466)scale(0.1 -0.1)\">\n     <use xlink:href=\"#DejaVuSans-30\"/>\n    </g>\n   </g>\n   <g id=\"text_34\">\n    <!-- 0 -->\n    <g style=\"fill:#262626;\" transform=\"translate(428.209148 34.668466)scale(0.1 -0.1)\">\n     <use xlink:href=\"#DejaVuSans-30\"/>\n    </g>\n   </g>\n   <g id=\"text_35\">\n    <!-- 19 -->\n    <g style=\"fill:#262626;\" transform=\"translate(465.609716 34.668466)scale(0.1 -0.1)\">\n     <use xlink:href=\"#DejaVuSans-31\"/>\n     <use x=\"63.623047\" xlink:href=\"#DejaVuSans-39\"/>\n    </g>\n   </g>\n   <g id=\"text_36\">\n    <!-- 0 -->\n    <g style=\"fill:#262626;\" transform=\"translate(62.972784 84.086648)scale(0.1 -0.1)\">\n     <use xlink:href=\"#DejaVuSans-30\"/>\n    </g>\n   </g>\n   <g id=\"text_37\">\n    <!-- 18 -->\n    <g style=\"fill:#262626;\" transform=\"translate(100.373352 84.086648)scale(0.1 -0.1)\">\n     <defs>\n      <path d=\"M 2034 2216 \nQ 1584 2216 1326 1975 \nQ 1069 1734 1069 1313 \nQ 1069 891 1326 650 \nQ 1584 409 2034 409 \nQ 2484 409 2743 651 \nQ 3003 894 3003 1313 \nQ 3003 1734 2745 1975 \nQ 2488 2216 2034 2216 \nz\nM 1403 2484 \nQ 997 2584 770 2862 \nQ 544 3141 544 3541 \nQ 544 4100 942 4425 \nQ 1341 4750 2034 4750 \nQ 2731 4750 3128 4425 \nQ 3525 4100 3525 3541 \nQ 3525 3141 3298 2862 \nQ 3072 2584 2669 2484 \nQ 3125 2378 3379 2068 \nQ 3634 1759 3634 1313 \nQ 3634 634 3220 271 \nQ 2806 -91 2034 -91 \nQ 1263 -91 848 271 \nQ 434 634 434 1313 \nQ 434 1759 690 2068 \nQ 947 2378 1403 2484 \nz\nM 1172 3481 \nQ 1172 3119 1398 2916 \nQ 1625 2713 2034 2713 \nQ 2441 2713 2670 2916 \nQ 2900 3119 2900 3481 \nQ 2900 3844 2670 4047 \nQ 2441 4250 2034 4250 \nQ 1625 4250 1398 4047 \nQ 1172 3844 1172 3481 \nz\n\" id=\"DejaVuSans-38\" transform=\"scale(0.015625)\"/>\n     </defs>\n     <use xlink:href=\"#DejaVuSans-31\"/>\n     <use x=\"63.623047\" xlink:href=\"#DejaVuSans-38\"/>\n    </g>\n   </g>\n   <g id=\"text_38\">\n    <!-- 0 -->\n    <g style=\"fill:#262626;\" transform=\"translate(144.13642 84.086648)scale(0.1 -0.1)\">\n     <use xlink:href=\"#DejaVuSans-30\"/>\n    </g>\n   </g>\n   <g id=\"text_39\">\n    <!-- 0 -->\n    <g style=\"fill:#262626;\" transform=\"translate(184.718239 84.086648)scale(0.1 -0.1)\">\n     <use xlink:href=\"#DejaVuSans-30\"/>\n    </g>\n   </g>\n   <g id=\"text_40\">\n    <!-- 0 -->\n    <g style=\"fill:#262626;\" transform=\"translate(225.300057 84.086648)scale(0.1 -0.1)\">\n     <use xlink:href=\"#DejaVuSans-30\"/>\n    </g>\n   </g>\n   <g id=\"text_41\">\n    <!-- 0 -->\n    <g style=\"fill:#262626;\" transform=\"translate(265.881875 84.086648)scale(0.1 -0.1)\">\n     <use xlink:href=\"#DejaVuSans-30\"/>\n    </g>\n   </g>\n   <g id=\"text_42\">\n    <!-- 0 -->\n    <g style=\"fill:#262626;\" transform=\"translate(306.463693 84.086648)scale(0.1 -0.1)\">\n     <use xlink:href=\"#DejaVuSans-30\"/>\n    </g>\n   </g>\n   <g id=\"text_43\">\n    <!-- 0 -->\n    <g style=\"fill:#262626;\" transform=\"translate(347.045511 84.086648)scale(0.1 -0.1)\">\n     <use xlink:href=\"#DejaVuSans-30\"/>\n    </g>\n   </g>\n   <g id=\"text_44\">\n    <!-- 0 -->\n    <g style=\"fill:#262626;\" transform=\"translate(387.62733 84.086648)scale(0.1 -0.1)\">\n     <use xlink:href=\"#DejaVuSans-30\"/>\n    </g>\n   </g>\n   <g id=\"text_45\">\n    <!-- 0 -->\n    <g style=\"fill:#262626;\" transform=\"translate(428.209148 84.086648)scale(0.1 -0.1)\">\n     <use xlink:href=\"#DejaVuSans-30\"/>\n    </g>\n   </g>\n   <g id=\"text_46\">\n    <!-- 18 -->\n    <g style=\"fill:#262626;\" transform=\"translate(465.609716 84.086648)scale(0.1 -0.1)\">\n     <use xlink:href=\"#DejaVuSans-31\"/>\n     <use x=\"63.623047\" xlink:href=\"#DejaVuSans-38\"/>\n    </g>\n   </g>\n   <g id=\"text_47\">\n    <!-- 0 -->\n    <g style=\"fill:#262626;\" transform=\"translate(62.972784 133.50483)scale(0.1 -0.1)\">\n     <use xlink:href=\"#DejaVuSans-30\"/>\n    </g>\n   </g>\n   <g id=\"text_48\">\n    <!-- 0 -->\n    <g style=\"fill:#262626;\" transform=\"translate(103.554602 133.50483)scale(0.1 -0.1)\">\n     <use xlink:href=\"#DejaVuSans-30\"/>\n    </g>\n   </g>\n   <g id=\"text_49\">\n    <!-- 19 -->\n    <g style=\"fill:#262626;\" transform=\"translate(140.95517 133.50483)scale(0.1 -0.1)\">\n     <use xlink:href=\"#DejaVuSans-31\"/>\n     <use x=\"63.623047\" xlink:href=\"#DejaVuSans-39\"/>\n    </g>\n   </g>\n   <g id=\"text_50\">\n    <!-- 0 -->\n    <g style=\"fill:#262626;\" transform=\"translate(184.718239 133.50483)scale(0.1 -0.1)\">\n     <use xlink:href=\"#DejaVuSans-30\"/>\n    </g>\n   </g>\n   <g id=\"text_51\">\n    <!-- 0 -->\n    <g style=\"fill:#262626;\" transform=\"translate(225.300057 133.50483)scale(0.1 -0.1)\">\n     <use xlink:href=\"#DejaVuSans-30\"/>\n    </g>\n   </g>\n   <g id=\"text_52\">\n    <!-- 0 -->\n    <g style=\"fill:#262626;\" transform=\"translate(265.881875 133.50483)scale(0.1 -0.1)\">\n     <use xlink:href=\"#DejaVuSans-30\"/>\n    </g>\n   </g>\n   <g id=\"text_53\">\n    <!-- 0 -->\n    <g style=\"fill:#262626;\" transform=\"translate(306.463693 133.50483)scale(0.1 -0.1)\">\n     <use xlink:href=\"#DejaVuSans-30\"/>\n    </g>\n   </g>\n   <g id=\"text_54\">\n    <!-- 0 -->\n    <g style=\"fill:#262626;\" transform=\"translate(347.045511 133.50483)scale(0.1 -0.1)\">\n     <use xlink:href=\"#DejaVuSans-30\"/>\n    </g>\n   </g>\n   <g id=\"text_55\">\n    <!-- 0 -->\n    <g style=\"fill:#262626;\" transform=\"translate(387.62733 133.50483)scale(0.1 -0.1)\">\n     <use xlink:href=\"#DejaVuSans-30\"/>\n    </g>\n   </g>\n   <g id=\"text_56\">\n    <!-- 0 -->\n    <g style=\"fill:#262626;\" transform=\"translate(428.209148 133.50483)scale(0.1 -0.1)\">\n     <use xlink:href=\"#DejaVuSans-30\"/>\n    </g>\n   </g>\n   <g id=\"text_57\">\n    <!-- 19 -->\n    <g style=\"fill:#262626;\" transform=\"translate(465.609716 133.50483)scale(0.1 -0.1)\">\n     <use xlink:href=\"#DejaVuSans-31\"/>\n     <use x=\"63.623047\" xlink:href=\"#DejaVuSans-39\"/>\n    </g>\n   </g>\n   <g id=\"text_58\">\n    <!-- 0 -->\n    <g style=\"fill:#262626;\" transform=\"translate(62.972784 182.923011)scale(0.1 -0.1)\">\n     <use xlink:href=\"#DejaVuSans-30\"/>\n    </g>\n   </g>\n   <g id=\"text_59\">\n    <!-- 0 -->\n    <g style=\"fill:#262626;\" transform=\"translate(103.554602 182.923011)scale(0.1 -0.1)\">\n     <use xlink:href=\"#DejaVuSans-30\"/>\n    </g>\n   </g>\n   <g id=\"text_60\">\n    <!-- 0 -->\n    <g style=\"fill:#262626;\" transform=\"translate(144.13642 182.923011)scale(0.1 -0.1)\">\n     <use xlink:href=\"#DejaVuSans-30\"/>\n    </g>\n   </g>\n   <g id=\"text_61\">\n    <!-- 19 -->\n    <g style=\"fill:#262626;\" transform=\"translate(181.536989 182.923011)scale(0.1 -0.1)\">\n     <use xlink:href=\"#DejaVuSans-31\"/>\n     <use x=\"63.623047\" xlink:href=\"#DejaVuSans-39\"/>\n    </g>\n   </g>\n   <g id=\"text_62\">\n    <!-- 0 -->\n    <g style=\"fill:#262626;\" transform=\"translate(225.300057 182.923011)scale(0.1 -0.1)\">\n     <use xlink:href=\"#DejaVuSans-30\"/>\n    </g>\n   </g>\n   <g id=\"text_63\">\n    <!-- 0 -->\n    <g style=\"fill:#262626;\" transform=\"translate(265.881875 182.923011)scale(0.1 -0.1)\">\n     <use xlink:href=\"#DejaVuSans-30\"/>\n    </g>\n   </g>\n   <g id=\"text_64\">\n    <!-- 0 -->\n    <g style=\"fill:#262626;\" transform=\"translate(306.463693 182.923011)scale(0.1 -0.1)\">\n     <use xlink:href=\"#DejaVuSans-30\"/>\n    </g>\n   </g>\n   <g id=\"text_65\">\n    <!-- 0 -->\n    <g style=\"fill:#262626;\" transform=\"translate(347.045511 182.923011)scale(0.1 -0.1)\">\n     <use xlink:href=\"#DejaVuSans-30\"/>\n    </g>\n   </g>\n   <g id=\"text_66\">\n    <!-- 0 -->\n    <g style=\"fill:#262626;\" transform=\"translate(387.62733 182.923011)scale(0.1 -0.1)\">\n     <use xlink:href=\"#DejaVuSans-30\"/>\n    </g>\n   </g>\n   <g id=\"text_67\">\n    <!-- 0 -->\n    <g style=\"fill:#262626;\" transform=\"translate(428.209148 182.923011)scale(0.1 -0.1)\">\n     <use xlink:href=\"#DejaVuSans-30\"/>\n    </g>\n   </g>\n   <g id=\"text_68\">\n    <!-- 19 -->\n    <g style=\"fill:#262626;\" transform=\"translate(465.609716 182.923011)scale(0.1 -0.1)\">\n     <use xlink:href=\"#DejaVuSans-31\"/>\n     <use x=\"63.623047\" xlink:href=\"#DejaVuSans-39\"/>\n    </g>\n   </g>\n   <g id=\"text_69\">\n    <!-- 0 -->\n    <g style=\"fill:#262626;\" transform=\"translate(62.972784 232.341193)scale(0.1 -0.1)\">\n     <use xlink:href=\"#DejaVuSans-30\"/>\n    </g>\n   </g>\n   <g id=\"text_70\">\n    <!-- 0 -->\n    <g style=\"fill:#262626;\" transform=\"translate(103.554602 232.341193)scale(0.1 -0.1)\">\n     <use xlink:href=\"#DejaVuSans-30\"/>\n    </g>\n   </g>\n   <g id=\"text_71\">\n    <!-- 0 -->\n    <g style=\"fill:#262626;\" transform=\"translate(144.13642 232.341193)scale(0.1 -0.1)\">\n     <use xlink:href=\"#DejaVuSans-30\"/>\n    </g>\n   </g>\n   <g id=\"text_72\">\n    <!-- 0 -->\n    <g style=\"fill:#262626;\" transform=\"translate(184.718239 232.341193)scale(0.1 -0.1)\">\n     <use xlink:href=\"#DejaVuSans-30\"/>\n    </g>\n   </g>\n   <g id=\"text_73\">\n    <!-- 18 -->\n    <g style=\"fill:#262626;\" transform=\"translate(222.118807 232.341193)scale(0.1 -0.1)\">\n     <use xlink:href=\"#DejaVuSans-31\"/>\n     <use x=\"63.623047\" xlink:href=\"#DejaVuSans-38\"/>\n    </g>\n   </g>\n   <g id=\"text_74\">\n    <!-- 0 -->\n    <g style=\"fill:#262626;\" transform=\"translate(265.881875 232.341193)scale(0.1 -0.1)\">\n     <use xlink:href=\"#DejaVuSans-30\"/>\n    </g>\n   </g>\n   <g id=\"text_75\">\n    <!-- 0 -->\n    <g style=\"fill:#262626;\" transform=\"translate(306.463693 232.341193)scale(0.1 -0.1)\">\n     <use xlink:href=\"#DejaVuSans-30\"/>\n    </g>\n   </g>\n   <g id=\"text_76\">\n    <!-- 0 -->\n    <g style=\"fill:#262626;\" transform=\"translate(347.045511 232.341193)scale(0.1 -0.1)\">\n     <use xlink:href=\"#DejaVuSans-30\"/>\n    </g>\n   </g>\n   <g id=\"text_77\">\n    <!-- 0 -->\n    <g style=\"fill:#262626;\" transform=\"translate(387.62733 232.341193)scale(0.1 -0.1)\">\n     <use xlink:href=\"#DejaVuSans-30\"/>\n    </g>\n   </g>\n   <g id=\"text_78\">\n    <!-- 0 -->\n    <g style=\"fill:#262626;\" transform=\"translate(428.209148 232.341193)scale(0.1 -0.1)\">\n     <use xlink:href=\"#DejaVuSans-30\"/>\n    </g>\n   </g>\n   <g id=\"text_79\">\n    <!-- 18 -->\n    <g style=\"fill:#262626;\" transform=\"translate(465.609716 232.341193)scale(0.1 -0.1)\">\n     <use xlink:href=\"#DejaVuSans-31\"/>\n     <use x=\"63.623047\" xlink:href=\"#DejaVuSans-38\"/>\n    </g>\n   </g>\n   <g id=\"text_80\">\n    <!-- 0 -->\n    <g style=\"fill:#262626;\" transform=\"translate(62.972784 281.759375)scale(0.1 -0.1)\">\n     <use xlink:href=\"#DejaVuSans-30\"/>\n    </g>\n   </g>\n   <g id=\"text_81\">\n    <!-- 0 -->\n    <g style=\"fill:#262626;\" transform=\"translate(103.554602 281.759375)scale(0.1 -0.1)\">\n     <use xlink:href=\"#DejaVuSans-30\"/>\n    </g>\n   </g>\n   <g id=\"text_82\">\n    <!-- 0 -->\n    <g style=\"fill:#262626;\" transform=\"translate(144.13642 281.759375)scale(0.1 -0.1)\">\n     <use xlink:href=\"#DejaVuSans-30\"/>\n    </g>\n   </g>\n   <g id=\"text_83\">\n    <!-- 0 -->\n    <g style=\"fill:#262626;\" transform=\"translate(184.718239 281.759375)scale(0.1 -0.1)\">\n     <use xlink:href=\"#DejaVuSans-30\"/>\n    </g>\n   </g>\n   <g id=\"text_84\">\n    <!-- 0 -->\n    <g style=\"fill:#262626;\" transform=\"translate(225.300057 281.759375)scale(0.1 -0.1)\">\n     <use xlink:href=\"#DejaVuSans-30\"/>\n    </g>\n   </g>\n   <g id=\"text_85\">\n    <!-- 19 -->\n    <g style=\"fill:#262626;\" transform=\"translate(262.700625 281.759375)scale(0.1 -0.1)\">\n     <use xlink:href=\"#DejaVuSans-31\"/>\n     <use x=\"63.623047\" xlink:href=\"#DejaVuSans-39\"/>\n    </g>\n   </g>\n   <g id=\"text_86\">\n    <!-- 0 -->\n    <g style=\"fill:#262626;\" transform=\"translate(306.463693 281.759375)scale(0.1 -0.1)\">\n     <use xlink:href=\"#DejaVuSans-30\"/>\n    </g>\n   </g>\n   <g id=\"text_87\">\n    <!-- 0 -->\n    <g style=\"fill:#262626;\" transform=\"translate(347.045511 281.759375)scale(0.1 -0.1)\">\n     <use xlink:href=\"#DejaVuSans-30\"/>\n    </g>\n   </g>\n   <g id=\"text_88\">\n    <!-- 0 -->\n    <g style=\"fill:#262626;\" transform=\"translate(387.62733 281.759375)scale(0.1 -0.1)\">\n     <use xlink:href=\"#DejaVuSans-30\"/>\n    </g>\n   </g>\n   <g id=\"text_89\">\n    <!-- 0 -->\n    <g style=\"fill:#262626;\" transform=\"translate(428.209148 281.759375)scale(0.1 -0.1)\">\n     <use xlink:href=\"#DejaVuSans-30\"/>\n    </g>\n   </g>\n   <g id=\"text_90\">\n    <!-- 19 -->\n    <g style=\"fill:#262626;\" transform=\"translate(465.609716 281.759375)scale(0.1 -0.1)\">\n     <use xlink:href=\"#DejaVuSans-31\"/>\n     <use x=\"63.623047\" xlink:href=\"#DejaVuSans-39\"/>\n    </g>\n   </g>\n   <g id=\"text_91\">\n    <!-- 0 -->\n    <g style=\"fill:#262626;\" transform=\"translate(62.972784 331.177557)scale(0.1 -0.1)\">\n     <use xlink:href=\"#DejaVuSans-30\"/>\n    </g>\n   </g>\n   <g id=\"text_92\">\n    <!-- 0 -->\n    <g style=\"fill:#262626;\" transform=\"translate(103.554602 331.177557)scale(0.1 -0.1)\">\n     <use xlink:href=\"#DejaVuSans-30\"/>\n    </g>\n   </g>\n   <g id=\"text_93\">\n    <!-- 0 -->\n    <g style=\"fill:#262626;\" transform=\"translate(144.13642 331.177557)scale(0.1 -0.1)\">\n     <use xlink:href=\"#DejaVuSans-30\"/>\n    </g>\n   </g>\n   <g id=\"text_94\">\n    <!-- 0 -->\n    <g style=\"fill:#262626;\" transform=\"translate(184.718239 331.177557)scale(0.1 -0.1)\">\n     <use xlink:href=\"#DejaVuSans-30\"/>\n    </g>\n   </g>\n   <g id=\"text_95\">\n    <!-- 0 -->\n    <g style=\"fill:#262626;\" transform=\"translate(225.300057 331.177557)scale(0.1 -0.1)\">\n     <use xlink:href=\"#DejaVuSans-30\"/>\n    </g>\n   </g>\n   <g id=\"text_96\">\n    <!-- 0 -->\n    <g style=\"fill:#262626;\" transform=\"translate(265.881875 331.177557)scale(0.1 -0.1)\">\n     <use xlink:href=\"#DejaVuSans-30\"/>\n    </g>\n   </g>\n   <g id=\"text_97\">\n    <!-- 19 -->\n    <g style=\"fill:#262626;\" transform=\"translate(303.282443 331.177557)scale(0.1 -0.1)\">\n     <use xlink:href=\"#DejaVuSans-31\"/>\n     <use x=\"63.623047\" xlink:href=\"#DejaVuSans-39\"/>\n    </g>\n   </g>\n   <g id=\"text_98\">\n    <!-- 0 -->\n    <g style=\"fill:#262626;\" transform=\"translate(347.045511 331.177557)scale(0.1 -0.1)\">\n     <use xlink:href=\"#DejaVuSans-30\"/>\n    </g>\n   </g>\n   <g id=\"text_99\">\n    <!-- 0 -->\n    <g style=\"fill:#262626;\" transform=\"translate(387.62733 331.177557)scale(0.1 -0.1)\">\n     <use xlink:href=\"#DejaVuSans-30\"/>\n    </g>\n   </g>\n   <g id=\"text_100\">\n    <!-- 0 -->\n    <g style=\"fill:#262626;\" transform=\"translate(428.209148 331.177557)scale(0.1 -0.1)\">\n     <use xlink:href=\"#DejaVuSans-30\"/>\n    </g>\n   </g>\n   <g id=\"text_101\">\n    <!-- 19 -->\n    <g style=\"fill:#262626;\" transform=\"translate(465.609716 331.177557)scale(0.1 -0.1)\">\n     <use xlink:href=\"#DejaVuSans-31\"/>\n     <use x=\"63.623047\" xlink:href=\"#DejaVuSans-39\"/>\n    </g>\n   </g>\n   <g id=\"text_102\">\n    <!-- 0 -->\n    <g style=\"fill:#262626;\" transform=\"translate(62.972784 380.595739)scale(0.1 -0.1)\">\n     <use xlink:href=\"#DejaVuSans-30\"/>\n    </g>\n   </g>\n   <g id=\"text_103\">\n    <!-- 0 -->\n    <g style=\"fill:#262626;\" transform=\"translate(103.554602 380.595739)scale(0.1 -0.1)\">\n     <use xlink:href=\"#DejaVuSans-30\"/>\n    </g>\n   </g>\n   <g id=\"text_104\">\n    <!-- 0 -->\n    <g style=\"fill:#262626;\" transform=\"translate(144.13642 380.595739)scale(0.1 -0.1)\">\n     <use xlink:href=\"#DejaVuSans-30\"/>\n    </g>\n   </g>\n   <g id=\"text_105\">\n    <!-- 0 -->\n    <g style=\"fill:#262626;\" transform=\"translate(184.718239 380.595739)scale(0.1 -0.1)\">\n     <use xlink:href=\"#DejaVuSans-30\"/>\n    </g>\n   </g>\n   <g id=\"text_106\">\n    <!-- 0 -->\n    <g style=\"fill:#262626;\" transform=\"translate(225.300057 380.595739)scale(0.1 -0.1)\">\n     <use xlink:href=\"#DejaVuSans-30\"/>\n    </g>\n   </g>\n   <g id=\"text_107\">\n    <!-- 0 -->\n    <g style=\"fill:#262626;\" transform=\"translate(265.881875 380.595739)scale(0.1 -0.1)\">\n     <use xlink:href=\"#DejaVuSans-30\"/>\n    </g>\n   </g>\n   <g id=\"text_108\">\n    <!-- 0 -->\n    <g style=\"fill:#262626;\" transform=\"translate(306.463693 380.595739)scale(0.1 -0.1)\">\n     <use xlink:href=\"#DejaVuSans-30\"/>\n    </g>\n   </g>\n   <g id=\"text_109\">\n    <!-- 19 -->\n    <g style=\"fill:#262626;\" transform=\"translate(343.864261 380.595739)scale(0.1 -0.1)\">\n     <use xlink:href=\"#DejaVuSans-31\"/>\n     <use x=\"63.623047\" xlink:href=\"#DejaVuSans-39\"/>\n    </g>\n   </g>\n   <g id=\"text_110\">\n    <!-- 0 -->\n    <g style=\"fill:#262626;\" transform=\"translate(387.62733 380.595739)scale(0.1 -0.1)\">\n     <use xlink:href=\"#DejaVuSans-30\"/>\n    </g>\n   </g>\n   <g id=\"text_111\">\n    <!-- 0 -->\n    <g style=\"fill:#262626;\" transform=\"translate(428.209148 380.595739)scale(0.1 -0.1)\">\n     <use xlink:href=\"#DejaVuSans-30\"/>\n    </g>\n   </g>\n   <g id=\"text_112\">\n    <!-- 19 -->\n    <g style=\"fill:#262626;\" transform=\"translate(465.609716 380.595739)scale(0.1 -0.1)\">\n     <use xlink:href=\"#DejaVuSans-31\"/>\n     <use x=\"63.623047\" xlink:href=\"#DejaVuSans-39\"/>\n    </g>\n   </g>\n   <g id=\"text_113\">\n    <!-- 0 -->\n    <g style=\"fill:#262626;\" transform=\"translate(62.972784 430.01392)scale(0.1 -0.1)\">\n     <use xlink:href=\"#DejaVuSans-30\"/>\n    </g>\n   </g>\n   <g id=\"text_114\">\n    <!-- 0 -->\n    <g style=\"fill:#262626;\" transform=\"translate(103.554602 430.01392)scale(0.1 -0.1)\">\n     <use xlink:href=\"#DejaVuSans-30\"/>\n    </g>\n   </g>\n   <g id=\"text_115\">\n    <!-- 0 -->\n    <g style=\"fill:#262626;\" transform=\"translate(144.13642 430.01392)scale(0.1 -0.1)\">\n     <use xlink:href=\"#DejaVuSans-30\"/>\n    </g>\n   </g>\n   <g id=\"text_116\">\n    <!-- 0 -->\n    <g style=\"fill:#262626;\" transform=\"translate(184.718239 430.01392)scale(0.1 -0.1)\">\n     <use xlink:href=\"#DejaVuSans-30\"/>\n    </g>\n   </g>\n   <g id=\"text_117\">\n    <!-- 0 -->\n    <g style=\"fill:#262626;\" transform=\"translate(225.300057 430.01392)scale(0.1 -0.1)\">\n     <use xlink:href=\"#DejaVuSans-30\"/>\n    </g>\n   </g>\n   <g id=\"text_118\">\n    <!-- 0 -->\n    <g style=\"fill:#262626;\" transform=\"translate(265.881875 430.01392)scale(0.1 -0.1)\">\n     <use xlink:href=\"#DejaVuSans-30\"/>\n    </g>\n   </g>\n   <g id=\"text_119\">\n    <!-- 0 -->\n    <g style=\"fill:#262626;\" transform=\"translate(306.463693 430.01392)scale(0.1 -0.1)\">\n     <use xlink:href=\"#DejaVuSans-30\"/>\n    </g>\n   </g>\n   <g id=\"text_120\">\n    <!-- 0 -->\n    <g style=\"fill:#262626;\" transform=\"translate(347.045511 430.01392)scale(0.1 -0.1)\">\n     <use xlink:href=\"#DejaVuSans-30\"/>\n    </g>\n   </g>\n   <g id=\"text_121\">\n    <!-- 19 -->\n    <g style=\"fill:#262626;\" transform=\"translate(384.44608 430.01392)scale(0.1 -0.1)\">\n     <use xlink:href=\"#DejaVuSans-31\"/>\n     <use x=\"63.623047\" xlink:href=\"#DejaVuSans-39\"/>\n    </g>\n   </g>\n   <g id=\"text_122\">\n    <!-- 0 -->\n    <g style=\"fill:#262626;\" transform=\"translate(428.209148 430.01392)scale(0.1 -0.1)\">\n     <use xlink:href=\"#DejaVuSans-30\"/>\n    </g>\n   </g>\n   <g id=\"text_123\">\n    <!-- 19 -->\n    <g style=\"fill:#262626;\" transform=\"translate(465.609716 430.01392)scale(0.1 -0.1)\">\n     <use xlink:href=\"#DejaVuSans-31\"/>\n     <use x=\"63.623047\" xlink:href=\"#DejaVuSans-39\"/>\n    </g>\n   </g>\n   <g id=\"text_124\">\n    <!-- 0 -->\n    <g style=\"fill:#262626;\" transform=\"translate(62.972784 479.432102)scale(0.1 -0.1)\">\n     <use xlink:href=\"#DejaVuSans-30\"/>\n    </g>\n   </g>\n   <g id=\"text_125\">\n    <!-- 0 -->\n    <g style=\"fill:#262626;\" transform=\"translate(103.554602 479.432102)scale(0.1 -0.1)\">\n     <use xlink:href=\"#DejaVuSans-30\"/>\n    </g>\n   </g>\n   <g id=\"text_126\">\n    <!-- 0 -->\n    <g style=\"fill:#262626;\" transform=\"translate(144.13642 479.432102)scale(0.1 -0.1)\">\n     <use xlink:href=\"#DejaVuSans-30\"/>\n    </g>\n   </g>\n   <g id=\"text_127\">\n    <!-- 0 -->\n    <g style=\"fill:#262626;\" transform=\"translate(184.718239 479.432102)scale(0.1 -0.1)\">\n     <use xlink:href=\"#DejaVuSans-30\"/>\n    </g>\n   </g>\n   <g id=\"text_128\">\n    <!-- 0 -->\n    <g style=\"fill:#262626;\" transform=\"translate(225.300057 479.432102)scale(0.1 -0.1)\">\n     <use xlink:href=\"#DejaVuSans-30\"/>\n    </g>\n   </g>\n   <g id=\"text_129\">\n    <!-- 0 -->\n    <g style=\"fill:#262626;\" transform=\"translate(265.881875 479.432102)scale(0.1 -0.1)\">\n     <use xlink:href=\"#DejaVuSans-30\"/>\n    </g>\n   </g>\n   <g id=\"text_130\">\n    <!-- 0 -->\n    <g style=\"fill:#262626;\" transform=\"translate(306.463693 479.432102)scale(0.1 -0.1)\">\n     <use xlink:href=\"#DejaVuSans-30\"/>\n    </g>\n   </g>\n   <g id=\"text_131\">\n    <!-- 0 -->\n    <g style=\"fill:#262626;\" transform=\"translate(347.045511 479.432102)scale(0.1 -0.1)\">\n     <use xlink:href=\"#DejaVuSans-30\"/>\n    </g>\n   </g>\n   <g id=\"text_132\">\n    <!-- 0 -->\n    <g style=\"fill:#262626;\" transform=\"translate(387.62733 479.432102)scale(0.1 -0.1)\">\n     <use xlink:href=\"#DejaVuSans-30\"/>\n    </g>\n   </g>\n   <g id=\"text_133\">\n    <!-- 19 -->\n    <g style=\"fill:#262626;\" transform=\"translate(425.027898 479.432102)scale(0.1 -0.1)\">\n     <use xlink:href=\"#DejaVuSans-31\"/>\n     <use x=\"63.623047\" xlink:href=\"#DejaVuSans-39\"/>\n    </g>\n   </g>\n   <g id=\"text_134\">\n    <!-- 19 -->\n    <g style=\"fill:#262626;\" transform=\"translate(465.609716 479.432102)scale(0.1 -0.1)\">\n     <use xlink:href=\"#DejaVuSans-31\"/>\n     <use x=\"63.623047\" xlink:href=\"#DejaVuSans-39\"/>\n    </g>\n   </g>\n   <g id=\"text_135\">\n    <!-- 19 -->\n    <g style=\"fill:#262626;\" transform=\"translate(59.791534 528.850284)scale(0.1 -0.1)\">\n     <use xlink:href=\"#DejaVuSans-31\"/>\n     <use x=\"63.623047\" xlink:href=\"#DejaVuSans-39\"/>\n    </g>\n   </g>\n   <g id=\"text_136\">\n    <!-- 18 -->\n    <g style=\"fill:#262626;\" transform=\"translate(100.373352 528.850284)scale(0.1 -0.1)\">\n     <use xlink:href=\"#DejaVuSans-31\"/>\n     <use x=\"63.623047\" xlink:href=\"#DejaVuSans-38\"/>\n    </g>\n   </g>\n   <g id=\"text_137\">\n    <!-- 19 -->\n    <g style=\"fill:#262626;\" transform=\"translate(140.95517 528.850284)scale(0.1 -0.1)\">\n     <use xlink:href=\"#DejaVuSans-31\"/>\n     <use x=\"63.623047\" xlink:href=\"#DejaVuSans-39\"/>\n    </g>\n   </g>\n   <g id=\"text_138\">\n    <!-- 19 -->\n    <g style=\"fill:#262626;\" transform=\"translate(181.536989 528.850284)scale(0.1 -0.1)\">\n     <use xlink:href=\"#DejaVuSans-31\"/>\n     <use x=\"63.623047\" xlink:href=\"#DejaVuSans-39\"/>\n    </g>\n   </g>\n   <g id=\"text_139\">\n    <!-- 18 -->\n    <g style=\"fill:#262626;\" transform=\"translate(222.118807 528.850284)scale(0.1 -0.1)\">\n     <use xlink:href=\"#DejaVuSans-31\"/>\n     <use x=\"63.623047\" xlink:href=\"#DejaVuSans-38\"/>\n    </g>\n   </g>\n   <g id=\"text_140\">\n    <!-- 19 -->\n    <g style=\"fill:#262626;\" transform=\"translate(262.700625 528.850284)scale(0.1 -0.1)\">\n     <use xlink:href=\"#DejaVuSans-31\"/>\n     <use x=\"63.623047\" xlink:href=\"#DejaVuSans-39\"/>\n    </g>\n   </g>\n   <g id=\"text_141\">\n    <!-- 19 -->\n    <g style=\"fill:#262626;\" transform=\"translate(303.282443 528.850284)scale(0.1 -0.1)\">\n     <use xlink:href=\"#DejaVuSans-31\"/>\n     <use x=\"63.623047\" xlink:href=\"#DejaVuSans-39\"/>\n    </g>\n   </g>\n   <g id=\"text_142\">\n    <!-- 19 -->\n    <g style=\"fill:#262626;\" transform=\"translate(343.864261 528.850284)scale(0.1 -0.1)\">\n     <use xlink:href=\"#DejaVuSans-31\"/>\n     <use x=\"63.623047\" xlink:href=\"#DejaVuSans-39\"/>\n    </g>\n   </g>\n   <g id=\"text_143\">\n    <!-- 19 -->\n    <g style=\"fill:#262626;\" transform=\"translate(384.44608 528.850284)scale(0.1 -0.1)\">\n     <use xlink:href=\"#DejaVuSans-31\"/>\n     <use x=\"63.623047\" xlink:href=\"#DejaVuSans-39\"/>\n    </g>\n   </g>\n   <g id=\"text_144\">\n    <!-- 19 -->\n    <g style=\"fill:#262626;\" transform=\"translate(425.027898 528.850284)scale(0.1 -0.1)\">\n     <use xlink:href=\"#DejaVuSans-31\"/>\n     <use x=\"63.623047\" xlink:href=\"#DejaVuSans-39\"/>\n    </g>\n   </g>\n   <g id=\"text_145\">\n    <!-- 188 -->\n    <g style=\"fill:#ffffff;\" transform=\"translate(462.428466 528.850284)scale(0.1 -0.1)\">\n     <use xlink:href=\"#DejaVuSans-31\"/>\n     <use x=\"63.623047\" xlink:href=\"#DejaVuSans-38\"/>\n     <use x=\"127.246094\" xlink:href=\"#DejaVuSans-38\"/>\n    </g>\n   </g>\n  </g>\n  <g id=\"axes_2\">\n   <g id=\"patch_3\">\n    <path d=\"M 520.163125 550.8 \nL 547.343125 550.8 \nL 547.343125 7.2 \nL 520.163125 7.2 \nz\n\" style=\"fill:#ffffff;\"/>\n   </g>\n   <g id=\"patch_4\">\n    <path clip-path=\"url(#p7f5e62698c)\" d=\"M 520.163125 550.8 \nL 520.163125 548.676562 \nL 520.163125 9.323438 \nL 520.163125 7.2 \nL 547.343125 7.2 \nL 547.343125 9.323438 \nL 547.343125 548.676562 \nL 547.343125 550.8 \nL 547.343125 550.8 \nz\n\" style=\"fill:#ffffff;stroke:#ffffff;stroke-linejoin:miter;stroke-width:0.01;\"/>\n   </g>\n   <image height=\"544\" id=\"image8e103e495d\" transform=\"scale(1 -1)translate(0 -544)\" width=\"27\" x=\"520\" xlink:href=\"data:image/png;base64,\niVBORw0KGgoAAAANSUhEUgAAABsAAAIgCAYAAAB09hISAAACZElEQVR4nO2d223EQBDDNoH7bzcfAc4pwoQQE2QDA1nSzt4jl6+f3/s+I75Xg84559rpmis7O2lbZUNhW2XrgOyo1AiVGqGeIdQzhDxr2P8Z5g1IpUZoeSKoLzz17DnmFTMcVqkRKjVCPUMQe3bqGUDLE6GAIIiXp/nCs6OeIdQzhJYnQqVGqNQI9QyhniHUs/cNq9QIlRrBW+p6hlDPELw9q9QIlRqhUiPUM4R6hlDPEMzXAnFAKvVzKjXC9RkWLc8QOhsRxMvzU0AAKjWC2LN6RlDPELzKxqUu+gAdVwhiz+oZQa+pEa7b+j7IutQ7CghCpUaoZwhiz7oWEJiXpzf6w2EdVwjqFbMb1gmCkGcI6uW5G1b0EXoLEKGeIXgP4tKIIF6e4lcx1oCIlXk/zRV7plXmvRZo01j0EcTRF3s2HFYaEcxp1CrTvmQqIAhiZdroi5en1zPz8syz54iXZ6UmqNQIfckLoUsqgtgz79mo9axSI3gDIl6e4gtPPQPIMwRvzwoIgrjU4guP9qtQ9YygniF4PavUCN7bldgzbanzDCHPELye9RgRij5CniHkGUKeIXg9KyAI3oDkGUKeIeQZQsreN6zoI+QZwvUZfsyUZwj1DCHP3jesgCCkDMH8P1i1nqWMIGXvG9ZxhZAyBLGyekaQMgSvsh4jQscVQsoQxMrqGUHK3jfM+xjFyjquCFKGkDKEThAEr2c9RoTriJXtfrc3zxDyDCHPELzKij6CNyB5hpBnCHmGkGfvG1ZAEMbKtH+qIvZMrKw0PifP3jesgCDkGUKeIeQZQp4htDwRpsr+ADbLHPyilgUuAAAAAElFTkSuQmCC\" y=\"-6\"/>\n   <g id=\"matplotlib.axis_3\"/>\n   <g id=\"matplotlib.axis_4\">\n    <g id=\"ytick_12\">\n     <g id=\"line2d_23\">\n      <defs>\n       <path d=\"M 0 0 \nL 6 0 \n\" id=\"m957c5f9c36\" style=\"stroke:#000000;stroke-width:1.25;\"/>\n      </defs>\n      <g>\n       <use style=\"stroke:#000000;stroke-width:1.25;\" x=\"547.343125\" xlink:href=\"#m957c5f9c36\" y=\"550.8\"/>\n      </g>\n     </g>\n     <g id=\"text_146\">\n      <!-- 0 -->\n      <g transform=\"translate(556.843125 554.979141)scale(0.11 -0.11)\">\n       <use xlink:href=\"#DejaVuSans-30\"/>\n      </g>\n     </g>\n    </g>\n    <g id=\"ytick_13\">\n     <g id=\"line2d_24\">\n      <g>\n       <use style=\"stroke:#000000;stroke-width:1.25;\" x=\"547.343125\" xlink:href=\"#m957c5f9c36\" y=\"478.512766\"/>\n      </g>\n     </g>\n     <g id=\"text_147\">\n      <!-- 25 -->\n      <g transform=\"translate(556.843125 482.691907)scale(0.11 -0.11)\">\n       <defs>\n        <path d=\"M 1228 531 \nL 3431 531 \nL 3431 0 \nL 469 0 \nL 469 531 \nQ 828 903 1448 1529 \nQ 2069 2156 2228 2338 \nQ 2531 2678 2651 2914 \nQ 2772 3150 2772 3378 \nQ 2772 3750 2511 3984 \nQ 2250 4219 1831 4219 \nQ 1534 4219 1204 4116 \nQ 875 4013 500 3803 \nL 500 4441 \nQ 881 4594 1212 4672 \nQ 1544 4750 1819 4750 \nQ 2544 4750 2975 4387 \nQ 3406 4025 3406 3419 \nQ 3406 3131 3298 2873 \nQ 3191 2616 2906 2266 \nQ 2828 2175 2409 1742 \nQ 1991 1309 1228 531 \nz\n\" id=\"DejaVuSans-32\" transform=\"scale(0.015625)\"/>\n        <path d=\"M 691 4666 \nL 3169 4666 \nL 3169 4134 \nL 1269 4134 \nL 1269 2991 \nQ 1406 3038 1543 3061 \nQ 1681 3084 1819 3084 \nQ 2600 3084 3056 2656 \nQ 3513 2228 3513 1497 \nQ 3513 744 3044 326 \nQ 2575 -91 1722 -91 \nQ 1428 -91 1123 -41 \nQ 819 9 494 109 \nL 494 744 \nQ 775 591 1075 516 \nQ 1375 441 1709 441 \nQ 2250 441 2565 725 \nQ 2881 1009 2881 1497 \nQ 2881 1984 2565 2268 \nQ 2250 2553 1709 2553 \nQ 1456 2553 1204 2497 \nQ 953 2441 691 2322 \nL 691 4666 \nz\n\" id=\"DejaVuSans-35\" transform=\"scale(0.015625)\"/>\n       </defs>\n       <use xlink:href=\"#DejaVuSans-32\"/>\n       <use x=\"63.623047\" xlink:href=\"#DejaVuSans-35\"/>\n      </g>\n     </g>\n    </g>\n    <g id=\"ytick_14\">\n     <g id=\"line2d_25\">\n      <g>\n       <use style=\"stroke:#000000;stroke-width:1.25;\" x=\"547.343125\" xlink:href=\"#m957c5f9c36\" y=\"406.225532\"/>\n      </g>\n     </g>\n     <g id=\"text_148\">\n      <!-- 50 -->\n      <g transform=\"translate(556.843125 410.404673)scale(0.11 -0.11)\">\n       <use xlink:href=\"#DejaVuSans-35\"/>\n       <use x=\"63.623047\" xlink:href=\"#DejaVuSans-30\"/>\n      </g>\n     </g>\n    </g>\n    <g id=\"ytick_15\">\n     <g id=\"line2d_26\">\n      <g>\n       <use style=\"stroke:#000000;stroke-width:1.25;\" x=\"547.343125\" xlink:href=\"#m957c5f9c36\" y=\"333.938298\"/>\n      </g>\n     </g>\n     <g id=\"text_149\">\n      <!-- 75 -->\n      <g transform=\"translate(556.843125 338.117438)scale(0.11 -0.11)\">\n       <defs>\n        <path d=\"M 525 4666 \nL 3525 4666 \nL 3525 4397 \nL 1831 0 \nL 1172 0 \nL 2766 4134 \nL 525 4134 \nL 525 4666 \nz\n\" id=\"DejaVuSans-37\" transform=\"scale(0.015625)\"/>\n       </defs>\n       <use xlink:href=\"#DejaVuSans-37\"/>\n       <use x=\"63.623047\" xlink:href=\"#DejaVuSans-35\"/>\n      </g>\n     </g>\n    </g>\n    <g id=\"ytick_16\">\n     <g id=\"line2d_27\">\n      <g>\n       <use style=\"stroke:#000000;stroke-width:1.25;\" x=\"547.343125\" xlink:href=\"#m957c5f9c36\" y=\"261.651064\"/>\n      </g>\n     </g>\n     <g id=\"text_150\">\n      <!-- 100 -->\n      <g transform=\"translate(556.843125 265.830204)scale(0.11 -0.11)\">\n       <use xlink:href=\"#DejaVuSans-31\"/>\n       <use x=\"63.623047\" xlink:href=\"#DejaVuSans-30\"/>\n       <use x=\"127.246094\" xlink:href=\"#DejaVuSans-30\"/>\n      </g>\n     </g>\n    </g>\n    <g id=\"ytick_17\">\n     <g id=\"line2d_28\">\n      <g>\n       <use style=\"stroke:#000000;stroke-width:1.25;\" x=\"547.343125\" xlink:href=\"#m957c5f9c36\" y=\"189.36383\"/>\n      </g>\n     </g>\n     <g id=\"text_151\">\n      <!-- 125 -->\n      <g transform=\"translate(556.843125 193.54297)scale(0.11 -0.11)\">\n       <use xlink:href=\"#DejaVuSans-31\"/>\n       <use x=\"63.623047\" xlink:href=\"#DejaVuSans-32\"/>\n       <use x=\"127.246094\" xlink:href=\"#DejaVuSans-35\"/>\n      </g>\n     </g>\n    </g>\n    <g id=\"ytick_18\">\n     <g id=\"line2d_29\">\n      <g>\n       <use style=\"stroke:#000000;stroke-width:1.25;\" x=\"547.343125\" xlink:href=\"#m957c5f9c36\" y=\"117.076596\"/>\n      </g>\n     </g>\n     <g id=\"text_152\">\n      <!-- 150 -->\n      <g transform=\"translate(556.843125 121.255736)scale(0.11 -0.11)\">\n       <use xlink:href=\"#DejaVuSans-31\"/>\n       <use x=\"63.623047\" xlink:href=\"#DejaVuSans-35\"/>\n       <use x=\"127.246094\" xlink:href=\"#DejaVuSans-30\"/>\n      </g>\n     </g>\n    </g>\n    <g id=\"ytick_19\">\n     <g id=\"line2d_30\">\n      <g>\n       <use style=\"stroke:#000000;stroke-width:1.25;\" x=\"547.343125\" xlink:href=\"#m957c5f9c36\" y=\"44.789362\"/>\n      </g>\n     </g>\n     <g id=\"text_153\">\n      <!-- 175 -->\n      <g transform=\"translate(556.843125 48.968502)scale(0.11 -0.11)\">\n       <use xlink:href=\"#DejaVuSans-31\"/>\n       <use x=\"63.623047\" xlink:href=\"#DejaVuSans-37\"/>\n       <use x=\"127.246094\" xlink:href=\"#DejaVuSans-35\"/>\n      </g>\n     </g>\n    </g>\n   </g>\n   <g id=\"LineCollection_1\"/>\n   <g id=\"patch_5\">\n    <path d=\"M 520.163125 550.8 \nL 520.163125 548.676562 \nL 520.163125 9.323438 \nL 520.163125 7.2 \nL 547.343125 7.2 \nL 547.343125 9.323438 \nL 547.343125 548.676562 \nL 547.343125 550.8 \nz\n\" style=\"fill:none;\"/>\n   </g>\n  </g>\n </g>\n <defs>\n  <clipPath id=\"p6498b162e7\">\n   <rect height=\"543.6\" width=\"446.4\" x=\"45.863125\" y=\"7.2\"/>\n  </clipPath>\n  <clipPath id=\"p7f5e62698c\">\n   <rect height=\"543.6\" width=\"27.18\" x=\"520.163125\" y=\"7.2\"/>\n  </clipPath>\n </defs>\n</svg>\n",
      "image/png": "[encoded data removed]"
     },
     "metadata": {
      "needs_background": "light"
     }
    }
   ],
   "source": [
    "import seaborn as sns\n",
    "import matplotlib.pyplot as plt \n",
    "cmap='Blues'\n",
    "font=10\n",
    "figsize=(10,10)\n",
    "sns.set_context(\"notebook\")\n",
    "data = {'Real':    y_val,\n",
    "        'Predito': y_pred}\n",
    "df = pd.DataFrame(data, columns=['Real','Predito'])\n",
    "confusion_matrix = pd.crosstab(df['Real'], df['Predito'], rownames=['Real'], colnames=['Predito'], margins = True)\n",
    "fig, ax = plt.subplots(figsize=figsize)\n",
    "ax.set_yticklabels(confusion_matrix.index, rotation=0, fontsize=\"14\", va=\"center\")\n",
    "ax.set_xticklabels(confusion_matrix.columns, rotation=0, fontsize=\"14\", va=\"center\")\n",
    "sns.heatmap(confusion_matrix, annot=True, fmt='g', annot_kws={\"fontsize\": font}, cmap=cmap)"
   ]
  },
  {
   "cell_type": "code",
   "execution_count": 18,
   "metadata": {},
   "outputs": [
    {
     "output_type": "display_data",
     "data": {
      "application/vnd.plotly.v1+json": {
       "config": {
        "plotlyServerURL": "https://plot.ly"
       },
       "data": [
        {
         "coloraxis": "coloraxis",
         "hovertemplate": "Predito: %{x}<br>Real: %{y}<br>color: %{z}<extra></extra>",
         "type": "heatmap",
         "x": [
          "AB",
          "ABC",
          "ABT",
          "AT",
          "BC",
          "BCT",
          "BT",
          "CA",
          "CAT",
          "CT"
         ],
         "y": [
          "AB",
          "ABC",
          "ABT",
          "AT",
          "BC",
          "BCT",
          "BT",
          "CA",
          "CAT",
          "CT"
         ],
         "z": [
          [
           19,
           0,
           0,
           0,
           0,
           0,
           0,
           0,
           0,
           0
          ],
          [
           0,
           18,
           0,
           0,
           0,
           0,
           0,
           0,
           0,
           0
          ],
          [
           0,
           0,
           19,
           0,
           0,
           0,
           0,
           0,
           0,
           0
          ],
          [
           0,
           0,
           0,
           19,
           0,
           0,
           0,
           0,
           0,
           0
          ],
          [
           0,
           0,
           0,
           0,
           18,
           0,
           0,
           0,
           0,
           0
          ],
          [
           0,
           0,
           0,
           0,
           0,
           19,
           0,
           0,
           0,
           0
          ],
          [
           0,
           0,
           0,
           0,
           0,
           0,
           19,
           0,
           0,
           0
          ],
          [
           0,
           0,
           0,
           0,
           0,
           0,
           0,
           19,
           0,
           0
          ],
          [
           0,
           0,
           0,
           0,
           0,
           0,
           0,
           0,
           19,
           0
          ],
          [
           0,
           0,
           0,
           0,
           0,
           0,
           0,
           0,
           0,
           19
          ]
         ]
        }
       ],
       "layout": {
        "coloraxis": {
         "colorscale": [
          [
           0,
           "rgb(247,251,255)"
          ],
          [
           0.125,
           "rgb(222,235,247)"
          ],
          [
           0.25,
           "rgb(198,219,239)"
          ],
          [
           0.375,
           "rgb(158,202,225)"
          ],
          [
           0.5,
           "rgb(107,174,214)"
          ],
          [
           0.625,
           "rgb(66,146,198)"
          ],
          [
           0.75,
           "rgb(33,113,181)"
          ],
          [
           0.875,
           "rgb(8,81,156)"
          ],
          [
           1,
           "rgb(8,48,107)"
          ]
         ]
        },
        "margin": {
         "t": 60
        },
        "template": {
         "data": {
          "bar": [
           {
            "error_x": {
             "color": "#2a3f5f"
            },
            "error_y": {
             "color": "#2a3f5f"
            },
            "marker": {
             "line": {
              "color": "#E5ECF6",
              "width": 0.5
             }
            },
            "type": "bar"
           }
          ],
          "barpolar": [
           {
            "marker": {
             "line": {
              "color": "#E5ECF6",
              "width": 0.5
             }
            },
            "type": "barpolar"
           }
          ],
          "carpet": [
           {
            "aaxis": {
             "endlinecolor": "#2a3f5f",
             "gridcolor": "white",
             "linecolor": "white",
             "minorgridcolor": "white",
             "startlinecolor": "#2a3f5f"
            },
            "baxis": {
             "endlinecolor": "#2a3f5f",
             "gridcolor": "white",
             "linecolor": "white",
             "minorgridcolor": "white",
             "startlinecolor": "#2a3f5f"
            },
            "type": "carpet"
           }
          ],
          "choropleth": [
           {
            "colorbar": {
             "outlinewidth": 0,
             "ticks": ""
            },
            "type": "choropleth"
           }
          ],
          "contour": [
           {
            "colorbar": {
             "outlinewidth": 0,
             "ticks": ""
            },
            "colorscale": [
             [
              0,
              "#0d0887"
             ],
             [
              0.1111111111111111,
              "#46039f"
             ],
             [
              0.2222222222222222,
              "#7201a8"
             ],
             [
              0.3333333333333333,
              "#9c179e"
             ],
             [
              0.4444444444444444,
              "#bd3786"
             ],
             [
              0.5555555555555556,
              "#d8576b"
             ],
             [
              0.6666666666666666,
              "#ed7953"
             ],
             [
              0.7777777777777778,
              "#fb9f3a"
             ],
             [
              0.8888888888888888,
              "#fdca26"
             ],
             [
              1,
              "#f0f921"
             ]
            ],
            "type": "contour"
           }
          ],
          "contourcarpet": [
           {
            "colorbar": {
             "outlinewidth": 0,
             "ticks": ""
            },
            "type": "contourcarpet"
           }
          ],
          "heatmap": [
           {
            "colorbar": {
             "outlinewidth": 0,
             "ticks": ""
            },
            "colorscale": [
             [
              0,
              "#0d0887"
             ],
             [
              0.1111111111111111,
              "#46039f"
             ],
             [
              0.2222222222222222,
              "#7201a8"
             ],
             [
              0.3333333333333333,
              "#9c179e"
             ],
             [
              0.4444444444444444,
              "#bd3786"
             ],
             [
              0.5555555555555556,
              "#d8576b"
             ],
             [
              0.6666666666666666,
              "#ed7953"
             ],
             [
              0.7777777777777778,
              "#fb9f3a"
             ],
             [
              0.8888888888888888,
              "#fdca26"
             ],
             [
              1,
              "#f0f921"
             ]
            ],
            "type": "heatmap"
           }
          ],
          "heatmapgl": [
           {
            "colorbar": {
             "outlinewidth": 0,
             "ticks": ""
            },
            "colorscale": [
             [
              0,
              "#0d0887"
             ],
             [
              0.1111111111111111,
              "#46039f"
             ],
             [
              0.2222222222222222,
              "#7201a8"
             ],
             [
              0.3333333333333333,
              "#9c179e"
             ],
             [
              0.4444444444444444,
              "#bd3786"
             ],
             [
              0.5555555555555556,
              "#d8576b"
             ],
             [
              0.6666666666666666,
              "#ed7953"
             ],
             [
              0.7777777777777778,
              "#fb9f3a"
             ],
             [
              0.8888888888888888,
              "#fdca26"
             ],
             [
              1,
              "#f0f921"
             ]
            ],
            "type": "heatmapgl"
           }
          ],
          "histogram": [
           {
            "marker": {
             "colorbar": {
              "outlinewidth": 0,
              "ticks": ""
             }
            },
            "type": "histogram"
           }
          ],
          "histogram2d": [
           {
            "colorbar": {
             "outlinewidth": 0,
             "ticks": ""
            },
            "colorscale": [
             [
              0,
              "#0d0887"
             ],
             [
              0.1111111111111111,
              "#46039f"
             ],
             [
              0.2222222222222222,
              "#7201a8"
             ],
             [
              0.3333333333333333,
              "#9c179e"
             ],
             [
              0.4444444444444444,
              "#bd3786"
             ],
             [
              0.5555555555555556,
              "#d8576b"
             ],
             [
              0.6666666666666666,
              "#ed7953"
             ],
             [
              0.7777777777777778,
              "#fb9f3a"
             ],
             [
              0.8888888888888888,
              "#fdca26"
             ],
             [
              1,
              "#f0f921"
             ]
            ],
            "type": "histogram2d"
           }
          ],
          "histogram2dcontour": [
           {
            "colorbar": {
             "outlinewidth": 0,
             "ticks": ""
            },
            "colorscale": [
             [
              0,
              "#0d0887"
             ],
             [
              0.1111111111111111,
              "#46039f"
             ],
             [
              0.2222222222222222,
              "#7201a8"
             ],
             [
              0.3333333333333333,
              "#9c179e"
             ],
             [
              0.4444444444444444,
              "#bd3786"
             ],
             [
              0.5555555555555556,
              "#d8576b"
             ],
             [
              0.6666666666666666,
              "#ed7953"
             ],
             [
              0.7777777777777778,
              "#fb9f3a"
             ],
             [
              0.8888888888888888,
              "#fdca26"
             ],
             [
              1,
              "#f0f921"
             ]
            ],
            "type": "histogram2dcontour"
           }
          ],
          "mesh3d": [
           {
            "colorbar": {
             "outlinewidth": 0,
             "ticks": ""
            },
            "type": "mesh3d"
           }
          ],
          "parcoords": [
           {
            "line": {
             "colorbar": {
              "outlinewidth": 0,
              "ticks": ""
             }
            },
            "type": "parcoords"
           }
          ],
          "pie": [
           {
            "automargin": true,
            "type": "pie"
           }
          ],
          "scatter": [
           {
            "marker": {
             "colorbar": {
              "outlinewidth": 0,
              "ticks": ""
             }
            },
            "type": "scatter"
           }
          ],
          "scatter3d": [
           {
            "line": {
             "colorbar": {
              "outlinewidth": 0,
              "ticks": ""
             }
            },
            "marker": {
             "colorbar": {
              "outlinewidth": 0,
              "ticks": ""
             }
            },
            "type": "scatter3d"
           }
          ],
          "scattercarpet": [
           {
            "marker": {
             "colorbar": {
              "outlinewidth": 0,
              "ticks": ""
             }
            },
            "type": "scattercarpet"
           }
          ],
          "scattergeo": [
           {
            "marker": {
             "colorbar": {
              "outlinewidth": 0,
              "ticks": ""
             }
            },
            "type": "scattergeo"
           }
          ],
          "scattergl": [
           {
            "marker": {
             "colorbar": {
              "outlinewidth": 0,
              "ticks": ""
             }
            },
            "type": "scattergl"
           }
          ],
          "scattermapbox": [
           {
            "marker": {
             "colorbar": {
              "outlinewidth": 0,
              "ticks": ""
             }
            },
            "type": "scattermapbox"
           }
          ],
          "scatterpolar": [
           {
            "marker": {
             "colorbar": {
              "outlinewidth": 0,
              "ticks": ""
             }
            },
            "type": "scatterpolar"
           }
          ],
          "scatterpolargl": [
           {
            "marker": {
             "colorbar": {
              "outlinewidth": 0,
              "ticks": ""
             }
            },
            "type": "scatterpolargl"
           }
          ],
          "scatterternary": [
           {
            "marker": {
             "colorbar": {
              "outlinewidth": 0,
              "ticks": ""
             }
            },
            "type": "scatterternary"
           }
          ],
          "surface": [
           {
            "colorbar": {
             "outlinewidth": 0,
             "ticks": ""
            },
            "colorscale": [
             [
              0,
              "#0d0887"
             ],
             [
              0.1111111111111111,
              "#46039f"
             ],
             [
              0.2222222222222222,
              "#7201a8"
             ],
             [
              0.3333333333333333,
              "#9c179e"
             ],
             [
              0.4444444444444444,
              "#bd3786"
             ],
             [
              0.5555555555555556,
              "#d8576b"
             ],
             [
              0.6666666666666666,
              "#ed7953"
             ],
             [
              0.7777777777777778,
              "#fb9f3a"
             ],
             [
              0.8888888888888888,
              "#fdca26"
             ],
             [
              1,
              "#f0f921"
             ]
            ],
            "type": "surface"
           }
          ],
          "table": [
           {
            "cells": {
             "fill": {
              "color": "#EBF0F8"
             },
             "line": {
              "color": "white"
             }
            },
            "header": {
             "fill": {
              "color": "#C8D4E3"
             },
             "line": {
              "color": "white"
             }
            },
            "type": "table"
           }
          ]
         },
         "layout": {
          "annotationdefaults": {
           "arrowcolor": "#2a3f5f",
           "arrowhead": 0,
           "arrowwidth": 1
          },
          "coloraxis": {
           "colorbar": {
            "outlinewidth": 0,
            "ticks": ""
           }
          },
          "colorscale": {
           "diverging": [
            [
             0,
             "#8e0152"
            ],
            [
             0.1,
             "#c51b7d"
            ],
            [
             0.2,
             "#de77ae"
            ],
            [
             0.3,
             "#f1b6da"
            ],
            [
             0.4,
             "#fde0ef"
            ],
            [
             0.5,
             "#f7f7f7"
            ],
            [
             0.6,
             "#e6f5d0"
            ],
            [
             0.7,
             "#b8e186"
            ],
            [
             0.8,
             "#7fbc41"
            ],
            [
             0.9,
             "#4d9221"
            ],
            [
             1,
             "#276419"
            ]
           ],
           "sequential": [
            [
             0,
             "#0d0887"
            ],
            [
             0.1111111111111111,
             "#46039f"
            ],
            [
             0.2222222222222222,
             "#7201a8"
            ],
            [
             0.3333333333333333,
             "#9c179e"
            ],
            [
             0.4444444444444444,
             "#bd3786"
            ],
            [
             0.5555555555555556,
             "#d8576b"
            ],
            [
             0.6666666666666666,
             "#ed7953"
            ],
            [
             0.7777777777777778,
             "#fb9f3a"
            ],
            [
             0.8888888888888888,
             "#fdca26"
            ],
            [
             1,
             "#f0f921"
            ]
           ],
           "sequentialminus": [
            [
             0,
             "#0d0887"
            ],
            [
             0.1111111111111111,
             "#46039f"
            ],
            [
             0.2222222222222222,
             "#7201a8"
            ],
            [
             0.3333333333333333,
             "#9c179e"
            ],
            [
             0.4444444444444444,
             "#bd3786"
            ],
            [
             0.5555555555555556,
             "#d8576b"
            ],
            [
             0.6666666666666666,
             "#ed7953"
            ],
            [
             0.7777777777777778,
             "#fb9f3a"
            ],
            [
             0.8888888888888888,
             "#fdca26"
            ],
            [
             1,
             "#f0f921"
            ]
           ]
          },
          "colorway": [
           "#636efa",
           "#EF553B",
           "#00cc96",
           "#ab63fa",
           "#FFA15A",
           "#19d3f3",
           "#FF6692",
           "#B6E880",
           "#FF97FF",
           "#FECB52"
          ],
          "font": {
           "color": "#2a3f5f"
          },
          "geo": {
           "bgcolor": "white",
           "lakecolor": "white",
           "landcolor": "#E5ECF6",
           "showlakes": true,
           "showland": true,
           "subunitcolor": "white"
          },
          "hoverlabel": {
           "align": "left"
          },
          "hovermode": "closest",
          "mapbox": {
           "style": "light"
          },
          "paper_bgcolor": "white",
          "plot_bgcolor": "#E5ECF6",
          "polar": {
           "angularaxis": {
            "gridcolor": "white",
            "linecolor": "white",
            "ticks": ""
           },
           "bgcolor": "#E5ECF6",
           "radialaxis": {
            "gridcolor": "white",
            "linecolor": "white",
            "ticks": ""
           }
          },
          "scene": {
           "xaxis": {
            "backgroundcolor": "#E5ECF6",
            "gridcolor": "white",
            "gridwidth": 2,
            "linecolor": "white",
            "showbackground": true,
            "ticks": "",
            "zerolinecolor": "white"
           },
           "yaxis": {
            "backgroundcolor": "#E5ECF6",
            "gridcolor": "white",
            "gridwidth": 2,
            "linecolor": "white",
            "showbackground": true,
            "ticks": "",
            "zerolinecolor": "white"
           },
           "zaxis": {
            "backgroundcolor": "#E5ECF6",
            "gridcolor": "white",
            "gridwidth": 2,
            "linecolor": "white",
            "showbackground": true,
            "ticks": "",
            "zerolinecolor": "white"
           }
          },
          "shapedefaults": {
           "line": {
            "color": "#2a3f5f"
           }
          },
          "ternary": {
           "aaxis": {
            "gridcolor": "white",
            "linecolor": "white",
            "ticks": ""
           },
           "baxis": {
            "gridcolor": "white",
            "linecolor": "white",
            "ticks": ""
           },
           "bgcolor": "#E5ECF6",
           "caxis": {
            "gridcolor": "white",
            "linecolor": "white",
            "ticks": ""
           }
          },
          "title": {
           "x": 0.05
          },
          "xaxis": {
           "automargin": true,
           "gridcolor": "white",
           "linecolor": "white",
           "ticks": "",
           "title": {
            "standoff": 15
           },
           "zerolinecolor": "white",
           "zerolinewidth": 2
          },
          "yaxis": {
           "automargin": true,
           "gridcolor": "white",
           "linecolor": "white",
           "ticks": "",
           "title": {
            "standoff": 15
           },
           "zerolinecolor": "white",
           "zerolinewidth": 2
          }
         }
        },
        "xaxis": {
         "constrain": "domain",
         "scaleanchor": "y",
         "title": {
          "text": "Predito"
         }
        },
        "yaxis": {
         "autorange": "reversed",
         "constrain": "domain",
         "title": {
          "text": "Real"
         }
        }
       }
      }
     },
     "metadata": {}
    }
   ],
   "source": [
    "import plotly.express as px\n",
    "cm = confusion_matrix.drop('All', axis=1).drop('All', axis=0)\n",
    "fig = px.imshow(cm, color_continuous_scale='blues')\n",
    "fig.show()\n",
    "\n"
   ]
  },
  {
   "cell_type": "code",
   "execution_count": 23,
   "metadata": {},
   "outputs": [
    {
     "output_type": "display_data",
     "data": {
      "application/vnd.plotly.v1+json": {
       "config": {
        "plotlyServerURL": "https://plot.ly"
       },
       "data": [
        {
         "colorscale": [
          [
           0,
           "rgb(247,251,255)"
          ],
          [
           0.125,
           "rgb(222,235,247)"
          ],
          [
           0.25,
           "rgb(198,219,239)"
          ],
          [
           0.375,
           "rgb(158,202,225)"
          ],
          [
           0.5,
           "rgb(107,174,214)"
          ],
          [
           0.625,
           "rgb(66,146,198)"
          ],
          [
           0.75,
           "rgb(33,113,181)"
          ],
          [
           0.875,
           "rgb(8,81,156)"
          ],
          [
           1,
           "rgb(8,48,107)"
          ]
         ],
         "reversescale": false,
         "showscale": false,
         "type": "heatmap",
         "x": [
          "AB",
          "ABC",
          "ABT",
          "AT",
          "BC",
          "BCT",
          "BT",
          "CA",
          "CAT",
          "CT"
         ],
         "y": [
          "CT",
          "CAT",
          "CA",
          "BT",
          "BCT",
          "BC",
          "AT",
          "ABT",
          "ABC",
          "AB"
         ],
         "z": [
          [
           0,
           0,
           0,
           0,
           0,
           0,
           0,
           0,
           0,
           19
          ],
          [
           0,
           0,
           0,
           0,
           0,
           0,
           0,
           0,
           19,
           0
          ],
          [
           0,
           0,
           0,
           0,
           0,
           0,
           0,
           19,
           0,
           0
          ],
          [
           0,
           0,
           0,
           0,
           0,
           0,
           19,
           0,
           0,
           0
          ],
          [
           0,
           0,
           0,
           0,
           0,
           19,
           0,
           0,
           0,
           0
          ],
          [
           0,
           0,
           0,
           0,
           18,
           0,
           0,
           0,
           0,
           0
          ],
          [
           0,
           0,
           0,
           19,
           0,
           0,
           0,
           0,
           0,
           0
          ],
          [
           0,
           0,
           19,
           0,
           0,
           0,
           0,
           0,
           0,
           0
          ],
          [
           0,
           18,
           0,
           0,
           0,
           0,
           0,
           0,
           0,
           0
          ],
          [
           19,
           0,
           0,
           0,
           0,
           0,
           0,
           0,
           0,
           0
          ]
         ]
        }
       ],
       "layout": {
        "annotations": [
         {
          "font": {
           "color": "#000000"
          },
          "showarrow": false,
          "text": "0",
          "x": "AB",
          "xref": "x",
          "y": "CT",
          "yref": "y"
         },
         {
          "font": {
           "color": "#000000"
          },
          "showarrow": false,
          "text": "0",
          "x": "ABC",
          "xref": "x",
          "y": "CT",
          "yref": "y"
         },
         {
          "font": {
           "color": "#000000"
          },
          "showarrow": false,
          "text": "0",
          "x": "ABT",
          "xref": "x",
          "y": "CT",
          "yref": "y"
         },
         {
          "font": {
           "color": "#000000"
          },
          "showarrow": false,
          "text": "0",
          "x": "AT",
          "xref": "x",
          "y": "CT",
          "yref": "y"
         },
         {
          "font": {
           "color": "#000000"
          },
          "showarrow": false,
          "text": "0",
          "x": "BC",
          "xref": "x",
          "y": "CT",
          "yref": "y"
         },
         {
          "font": {
           "color": "#000000"
          },
          "showarrow": false,
          "text": "0",
          "x": "BCT",
          "xref": "x",
          "y": "CT",
          "yref": "y"
         },
         {
          "font": {
           "color": "#000000"
          },
          "showarrow": false,
          "text": "0",
          "x": "BT",
          "xref": "x",
          "y": "CT",
          "yref": "y"
         },
         {
          "font": {
           "color": "#000000"
          },
          "showarrow": false,
          "text": "0",
          "x": "CA",
          "xref": "x",
          "y": "CT",
          "yref": "y"
         },
         {
          "font": {
           "color": "#000000"
          },
          "showarrow": false,
          "text": "0",
          "x": "CAT",
          "xref": "x",
          "y": "CT",
          "yref": "y"
         },
         {
          "font": {
           "color": "#FFFFFF"
          },
          "showarrow": false,
          "text": "19",
          "x": "CT",
          "xref": "x",
          "y": "CT",
          "yref": "y"
         },
         {
          "font": {
           "color": "#000000"
          },
          "showarrow": false,
          "text": "0",
          "x": "AB",
          "xref": "x",
          "y": "CAT",
          "yref": "y"
         },
         {
          "font": {
           "color": "#000000"
          },
          "showarrow": false,
          "text": "0",
          "x": "ABC",
          "xref": "x",
          "y": "CAT",
          "yref": "y"
         },
         {
          "font": {
           "color": "#000000"
          },
          "showarrow": false,
          "text": "0",
          "x": "ABT",
          "xref": "x",
          "y": "CAT",
          "yref": "y"
         },
         {
          "font": {
           "color": "#000000"
          },
          "showarrow": false,
          "text": "0",
          "x": "AT",
          "xref": "x",
          "y": "CAT",
          "yref": "y"
         },
         {
          "font": {
           "color": "#000000"
          },
          "showarrow": false,
          "text": "0",
          "x": "BC",
          "xref": "x",
          "y": "CAT",
          "yref": "y"
         },
         {
          "font": {
           "color": "#000000"
          },
          "showarrow": false,
          "text": "0",
          "x": "BCT",
          "xref": "x",
          "y": "CAT",
          "yref": "y"
         },
         {
          "font": {
           "color": "#000000"
          },
          "showarrow": false,
          "text": "0",
          "x": "BT",
          "xref": "x",
          "y": "CAT",
          "yref": "y"
         },
         {
          "font": {
           "color": "#000000"
          },
          "showarrow": false,
          "text": "0",
          "x": "CA",
          "xref": "x",
          "y": "CAT",
          "yref": "y"
         },
         {
          "font": {
           "color": "#FFFFFF"
          },
          "showarrow": false,
          "text": "19",
          "x": "CAT",
          "xref": "x",
          "y": "CAT",
          "yref": "y"
         },
         {
          "font": {
           "color": "#000000"
          },
          "showarrow": false,
          "text": "0",
          "x": "CT",
          "xref": "x",
          "y": "CAT",
          "yref": "y"
         },
         {
          "font": {
           "color": "#000000"
          },
          "showarrow": false,
          "text": "0",
          "x": "AB",
          "xref": "x",
          "y": "CA",
          "yref": "y"
         },
         {
          "font": {
           "color": "#000000"
          },
          "showarrow": false,
          "text": "0",
          "x": "ABC",
          "xref": "x",
          "y": "CA",
          "yref": "y"
         },
         {
          "font": {
           "color": "#000000"
          },
          "showarrow": false,
          "text": "0",
          "x": "ABT",
          "xref": "x",
          "y": "CA",
          "yref": "y"
         },
         {
          "font": {
           "color": "#000000"
          },
          "showarrow": false,
          "text": "0",
          "x": "AT",
          "xref": "x",
          "y": "CA",
          "yref": "y"
         },
         {
          "font": {
           "color": "#000000"
          },
          "showarrow": false,
          "text": "0",
          "x": "BC",
          "xref": "x",
          "y": "CA",
          "yref": "y"
         },
         {
          "font": {
           "color": "#000000"
          },
          "showarrow": false,
          "text": "0",
          "x": "BCT",
          "xref": "x",
          "y": "CA",
          "yref": "y"
         },
         {
          "font": {
           "color": "#000000"
          },
          "showarrow": false,
          "text": "0",
          "x": "BT",
          "xref": "x",
          "y": "CA",
          "yref": "y"
         },
         {
          "font": {
           "color": "#FFFFFF"
          },
          "showarrow": false,
          "text": "19",
          "x": "CA",
          "xref": "x",
          "y": "CA",
          "yref": "y"
         },
         {
          "font": {
           "color": "#000000"
          },
          "showarrow": false,
          "text": "0",
          "x": "CAT",
          "xref": "x",
          "y": "CA",
          "yref": "y"
         },
         {
          "font": {
           "color": "#000000"
          },
          "showarrow": false,
          "text": "0",
          "x": "CT",
          "xref": "x",
          "y": "CA",
          "yref": "y"
         },
         {
          "font": {
           "color": "#000000"
          },
          "showarrow": false,
          "text": "0",
          "x": "AB",
          "xref": "x",
          "y": "BT",
          "yref": "y"
         },
         {
          "font": {
           "color": "#000000"
          },
          "showarrow": false,
          "text": "0",
          "x": "ABC",
          "xref": "x",
          "y": "BT",
          "yref": "y"
         },
         {
          "font": {
           "color": "#000000"
          },
          "showarrow": false,
          "text": "0",
          "x": "ABT",
          "xref": "x",
          "y": "BT",
          "yref": "y"
         },
         {
          "font": {
           "color": "#000000"
          },
          "showarrow": false,
          "text": "0",
          "x": "AT",
          "xref": "x",
          "y": "BT",
          "yref": "y"
         },
         {
          "font": {
           "color": "#000000"
          },
          "showarrow": false,
          "text": "0",
          "x": "BC",
          "xref": "x",
          "y": "BT",
          "yref": "y"
         },
         {
          "font": {
           "color": "#000000"
          },
          "showarrow": false,
          "text": "0",
          "x": "BCT",
          "xref": "x",
          "y": "BT",
          "yref": "y"
         },
         {
          "font": {
           "color": "#FFFFFF"
          },
          "showarrow": false,
          "text": "19",
          "x": "BT",
          "xref": "x",
          "y": "BT",
          "yref": "y"
         },
         {
          "font": {
           "color": "#000000"
          },
          "showarrow": false,
          "text": "0",
          "x": "CA",
          "xref": "x",
          "y": "BT",
          "yref": "y"
         },
         {
          "font": {
           "color": "#000000"
          },
          "showarrow": false,
          "text": "0",
          "x": "CAT",
          "xref": "x",
          "y": "BT",
          "yref": "y"
         },
         {
          "font": {
           "color": "#000000"
          },
          "showarrow": false,
          "text": "0",
          "x": "CT",
          "xref": "x",
          "y": "BT",
          "yref": "y"
         },
         {
          "font": {
           "color": "#000000"
          },
          "showarrow": false,
          "text": "0",
          "x": "AB",
          "xref": "x",
          "y": "BCT",
          "yref": "y"
         },
         {
          "font": {
           "color": "#000000"
          },
          "showarrow": false,
          "text": "0",
          "x": "ABC",
          "xref": "x",
          "y": "BCT",
          "yref": "y"
         },
         {
          "font": {
           "color": "#000000"
          },
          "showarrow": false,
          "text": "0",
          "x": "ABT",
          "xref": "x",
          "y": "BCT",
          "yref": "y"
         },
         {
          "font": {
           "color": "#000000"
          },
          "showarrow": false,
          "text": "0",
          "x": "AT",
          "xref": "x",
          "y": "BCT",
          "yref": "y"
         },
         {
          "font": {
           "color": "#000000"
          },
          "showarrow": false,
          "text": "0",
          "x": "BC",
          "xref": "x",
          "y": "BCT",
          "yref": "y"
         },
         {
          "font": {
           "color": "#FFFFFF"
          },
          "showarrow": false,
          "text": "19",
          "x": "BCT",
          "xref": "x",
          "y": "BCT",
          "yref": "y"
         },
         {
          "font": {
           "color": "#000000"
          },
          "showarrow": false,
          "text": "0",
          "x": "BT",
          "xref": "x",
          "y": "BCT",
          "yref": "y"
         },
         {
          "font": {
           "color": "#000000"
          },
          "showarrow": false,
          "text": "0",
          "x": "CA",
          "xref": "x",
          "y": "BCT",
          "yref": "y"
         },
         {
          "font": {
           "color": "#000000"
          },
          "showarrow": false,
          "text": "0",
          "x": "CAT",
          "xref": "x",
          "y": "BCT",
          "yref": "y"
         },
         {
          "font": {
           "color": "#000000"
          },
          "showarrow": false,
          "text": "0",
          "x": "CT",
          "xref": "x",
          "y": "BCT",
          "yref": "y"
         },
         {
          "font": {
           "color": "#000000"
          },
          "showarrow": false,
          "text": "0",
          "x": "AB",
          "xref": "x",
          "y": "BC",
          "yref": "y"
         },
         {
          "font": {
           "color": "#000000"
          },
          "showarrow": false,
          "text": "0",
          "x": "ABC",
          "xref": "x",
          "y": "BC",
          "yref": "y"
         },
         {
          "font": {
           "color": "#000000"
          },
          "showarrow": false,
          "text": "0",
          "x": "ABT",
          "xref": "x",
          "y": "BC",
          "yref": "y"
         },
         {
          "font": {
           "color": "#000000"
          },
          "showarrow": false,
          "text": "0",
          "x": "AT",
          "xref": "x",
          "y": "BC",
          "yref": "y"
         },
         {
          "font": {
           "color": "#FFFFFF"
          },
          "showarrow": false,
          "text": "18",
          "x": "BC",
          "xref": "x",
          "y": "BC",
          "yref": "y"
         },
         {
          "font": {
           "color": "#000000"
          },
          "showarrow": false,
          "text": "0",
          "x": "BCT",
          "xref": "x",
          "y": "BC",
          "yref": "y"
         },
         {
          "font": {
           "color": "#000000"
          },
          "showarrow": false,
          "text": "0",
          "x": "BT",
          "xref": "x",
          "y": "BC",
          "yref": "y"
         },
         {
          "font": {
           "color": "#000000"
          },
          "showarrow": false,
          "text": "0",
          "x": "CA",
          "xref": "x",
          "y": "BC",
          "yref": "y"
         },
         {
          "font": {
           "color": "#000000"
          },
          "showarrow": false,
          "text": "0",
          "x": "CAT",
          "xref": "x",
          "y": "BC",
          "yref": "y"
         },
         {
          "font": {
           "color": "#000000"
          },
          "showarrow": false,
          "text": "0",
          "x": "CT",
          "xref": "x",
          "y": "BC",
          "yref": "y"
         },
         {
          "font": {
           "color": "#000000"
          },
          "showarrow": false,
          "text": "0",
          "x": "AB",
          "xref": "x",
          "y": "AT",
          "yref": "y"
         },
         {
          "font": {
           "color": "#000000"
          },
          "showarrow": false,
          "text": "0",
          "x": "ABC",
          "xref": "x",
          "y": "AT",
          "yref": "y"
         },
         {
          "font": {
           "color": "#000000"
          },
          "showarrow": false,
          "text": "0",
          "x": "ABT",
          "xref": "x",
          "y": "AT",
          "yref": "y"
         },
         {
          "font": {
           "color": "#FFFFFF"
          },
          "showarrow": false,
          "text": "19",
          "x": "AT",
          "xref": "x",
          "y": "AT",
          "yref": "y"
         },
         {
          "font": {
           "color": "#000000"
          },
          "showarrow": false,
          "text": "0",
          "x": "BC",
          "xref": "x",
          "y": "AT",
          "yref": "y"
         },
         {
          "font": {
           "color": "#000000"
          },
          "showarrow": false,
          "text": "0",
          "x": "BCT",
          "xref": "x",
          "y": "AT",
          "yref": "y"
         },
         {
          "font": {
           "color": "#000000"
          },
          "showarrow": false,
          "text": "0",
          "x": "BT",
          "xref": "x",
          "y": "AT",
          "yref": "y"
         },
         {
          "font": {
           "color": "#000000"
          },
          "showarrow": false,
          "text": "0",
          "x": "CA",
          "xref": "x",
          "y": "AT",
          "yref": "y"
         },
         {
          "font": {
           "color": "#000000"
          },
          "showarrow": false,
          "text": "0",
          "x": "CAT",
          "xref": "x",
          "y": "AT",
          "yref": "y"
         },
         {
          "font": {
           "color": "#000000"
          },
          "showarrow": false,
          "text": "0",
          "x": "CT",
          "xref": "x",
          "y": "AT",
          "yref": "y"
         },
         {
          "font": {
           "color": "#000000"
          },
          "showarrow": false,
          "text": "0",
          "x": "AB",
          "xref": "x",
          "y": "ABT",
          "yref": "y"
         },
         {
          "font": {
           "color": "#000000"
          },
          "showarrow": false,
          "text": "0",
          "x": "ABC",
          "xref": "x",
          "y": "ABT",
          "yref": "y"
         },
         {
          "font": {
           "color": "#FFFFFF"
          },
          "showarrow": false,
          "text": "19",
          "x": "ABT",
          "xref": "x",
          "y": "ABT",
          "yref": "y"
         },
         {
          "font": {
           "color": "#000000"
          },
          "showarrow": false,
          "text": "0",
          "x": "AT",
          "xref": "x",
          "y": "ABT",
          "yref": "y"
         },
         {
          "font": {
           "color": "#000000"
          },
          "showarrow": false,
          "text": "0",
          "x": "BC",
          "xref": "x",
          "y": "ABT",
          "yref": "y"
         },
         {
          "font": {
           "color": "#000000"
          },
          "showarrow": false,
          "text": "0",
          "x": "BCT",
          "xref": "x",
          "y": "ABT",
          "yref": "y"
         },
         {
          "font": {
           "color": "#000000"
          },
          "showarrow": false,
          "text": "0",
          "x": "BT",
          "xref": "x",
          "y": "ABT",
          "yref": "y"
         },
         {
          "font": {
           "color": "#000000"
          },
          "showarrow": false,
          "text": "0",
          "x": "CA",
          "xref": "x",
          "y": "ABT",
          "yref": "y"
         },
         {
          "font": {
           "color": "#000000"
          },
          "showarrow": false,
          "text": "0",
          "x": "CAT",
          "xref": "x",
          "y": "ABT",
          "yref": "y"
         },
         {
          "font": {
           "color": "#000000"
          },
          "showarrow": false,
          "text": "0",
          "x": "CT",
          "xref": "x",
          "y": "ABT",
          "yref": "y"
         },
         {
          "font": {
           "color": "#000000"
          },
          "showarrow": false,
          "text": "0",
          "x": "AB",
          "xref": "x",
          "y": "ABC",
          "yref": "y"
         },
         {
          "font": {
           "color": "#FFFFFF"
          },
          "showarrow": false,
          "text": "18",
          "x": "ABC",
          "xref": "x",
          "y": "ABC",
          "yref": "y"
         },
         {
          "font": {
           "color": "#000000"
          },
          "showarrow": false,
          "text": "0",
          "x": "ABT",
          "xref": "x",
          "y": "ABC",
          "yref": "y"
         },
         {
          "font": {
           "color": "#000000"
          },
          "showarrow": false,
          "text": "0",
          "x": "AT",
          "xref": "x",
          "y": "ABC",
          "yref": "y"
         },
         {
          "font": {
           "color": "#000000"
          },
          "showarrow": false,
          "text": "0",
          "x": "BC",
          "xref": "x",
          "y": "ABC",
          "yref": "y"
         },
         {
          "font": {
           "color": "#000000"
          },
          "showarrow": false,
          "text": "0",
          "x": "BCT",
          "xref": "x",
          "y": "ABC",
          "yref": "y"
         },
         {
          "font": {
           "color": "#000000"
          },
          "showarrow": false,
          "text": "0",
          "x": "BT",
          "xref": "x",
          "y": "ABC",
          "yref": "y"
         },
         {
          "font": {
           "color": "#000000"
          },
          "showarrow": false,
          "text": "0",
          "x": "CA",
          "xref": "x",
          "y": "ABC",
          "yref": "y"
         },
         {
          "font": {
           "color": "#000000"
          },
          "showarrow": false,
          "text": "0",
          "x": "CAT",
          "xref": "x",
          "y": "ABC",
          "yref": "y"
         },
         {
          "font": {
           "color": "#000000"
          },
          "showarrow": false,
          "text": "0",
          "x": "CT",
          "xref": "x",
          "y": "ABC",
          "yref": "y"
         },
         {
          "font": {
           "color": "#FFFFFF"
          },
          "showarrow": false,
          "text": "19",
          "x": "AB",
          "xref": "x",
          "y": "AB",
          "yref": "y"
         },
         {
          "font": {
           "color": "#000000"
          },
          "showarrow": false,
          "text": "0",
          "x": "ABC",
          "xref": "x",
          "y": "AB",
          "yref": "y"
         },
         {
          "font": {
           "color": "#000000"
          },
          "showarrow": false,
          "text": "0",
          "x": "ABT",
          "xref": "x",
          "y": "AB",
          "yref": "y"
         },
         {
          "font": {
           "color": "#000000"
          },
          "showarrow": false,
          "text": "0",
          "x": "AT",
          "xref": "x",
          "y": "AB",
          "yref": "y"
         },
         {
          "font": {
           "color": "#000000"
          },
          "showarrow": false,
          "text": "0",
          "x": "BC",
          "xref": "x",
          "y": "AB",
          "yref": "y"
         },
         {
          "font": {
           "color": "#000000"
          },
          "showarrow": false,
          "text": "0",
          "x": "BCT",
          "xref": "x",
          "y": "AB",
          "yref": "y"
         },
         {
          "font": {
           "color": "#000000"
          },
          "showarrow": false,
          "text": "0",
          "x": "BT",
          "xref": "x",
          "y": "AB",
          "yref": "y"
         },
         {
          "font": {
           "color": "#000000"
          },
          "showarrow": false,
          "text": "0",
          "x": "CA",
          "xref": "x",
          "y": "AB",
          "yref": "y"
         },
         {
          "font": {
           "color": "#000000"
          },
          "showarrow": false,
          "text": "0",
          "x": "CAT",
          "xref": "x",
          "y": "AB",
          "yref": "y"
         },
         {
          "font": {
           "color": "#000000"
          },
          "showarrow": false,
          "text": "0",
          "x": "CT",
          "xref": "x",
          "y": "AB",
          "yref": "y"
         },
         {
          "font": {
           "color": "black",
           "size": 14
          },
          "showarrow": false,
          "text": "Valores Preditos",
          "x": 0.5,
          "xref": "paper",
          "y": -0.12,
          "yref": "paper"
         },
         {
          "font": {
           "color": "black",
           "size": 14
          },
          "showarrow": false,
          "text": "Valores Reais",
          "textangle": -90,
          "x": -0.2,
          "xref": "paper",
          "y": 0.5,
          "yref": "paper"
         }
        ],
        "autosize": false,
        "height": 500,
        "template": {
         "data": {
          "bar": [
           {
            "error_x": {
             "color": "#2a3f5f"
            },
            "error_y": {
             "color": "#2a3f5f"
            },
            "marker": {
             "line": {
              "color": "#E5ECF6",
              "width": 0.5
             }
            },
            "type": "bar"
           }
          ],
          "barpolar": [
           {
            "marker": {
             "line": {
              "color": "#E5ECF6",
              "width": 0.5
             }
            },
            "type": "barpolar"
           }
          ],
          "carpet": [
           {
            "aaxis": {
             "endlinecolor": "#2a3f5f",
             "gridcolor": "white",
             "linecolor": "white",
             "minorgridcolor": "white",
             "startlinecolor": "#2a3f5f"
            },
            "baxis": {
             "endlinecolor": "#2a3f5f",
             "gridcolor": "white",
             "linecolor": "white",
             "minorgridcolor": "white",
             "startlinecolor": "#2a3f5f"
            },
            "type": "carpet"
           }
          ],
          "choropleth": [
           {
            "colorbar": {
             "outlinewidth": 0,
             "ticks": ""
            },
            "type": "choropleth"
           }
          ],
          "contour": [
           {
            "colorbar": {
             "outlinewidth": 0,
             "ticks": ""
            },
            "colorscale": [
             [
              0,
              "#0d0887"
             ],
             [
              0.1111111111111111,
              "#46039f"
             ],
             [
              0.2222222222222222,
              "#7201a8"
             ],
             [
              0.3333333333333333,
              "#9c179e"
             ],
             [
              0.4444444444444444,
              "#bd3786"
             ],
             [
              0.5555555555555556,
              "#d8576b"
             ],
             [
              0.6666666666666666,
              "#ed7953"
             ],
             [
              0.7777777777777778,
              "#fb9f3a"
             ],
             [
              0.8888888888888888,
              "#fdca26"
             ],
             [
              1,
              "#f0f921"
             ]
            ],
            "type": "contour"
           }
          ],
          "contourcarpet": [
           {
            "colorbar": {
             "outlinewidth": 0,
             "ticks": ""
            },
            "type": "contourcarpet"
           }
          ],
          "heatmap": [
           {
            "colorbar": {
             "outlinewidth": 0,
             "ticks": ""
            },
            "colorscale": [
             [
              0,
              "#0d0887"
             ],
             [
              0.1111111111111111,
              "#46039f"
             ],
             [
              0.2222222222222222,
              "#7201a8"
             ],
             [
              0.3333333333333333,
              "#9c179e"
             ],
             [
              0.4444444444444444,
              "#bd3786"
             ],
             [
              0.5555555555555556,
              "#d8576b"
             ],
             [
              0.6666666666666666,
              "#ed7953"
             ],
             [
              0.7777777777777778,
              "#fb9f3a"
             ],
             [
              0.8888888888888888,
              "#fdca26"
             ],
             [
              1,
              "#f0f921"
             ]
            ],
            "type": "heatmap"
           }
          ],
          "heatmapgl": [
           {
            "colorbar": {
             "outlinewidth": 0,
             "ticks": ""
            },
            "colorscale": [
             [
              0,
              "#0d0887"
             ],
             [
              0.1111111111111111,
              "#46039f"
             ],
             [
              0.2222222222222222,
              "#7201a8"
             ],
             [
              0.3333333333333333,
              "#9c179e"
             ],
             [
              0.4444444444444444,
              "#bd3786"
             ],
             [
              0.5555555555555556,
              "#d8576b"
             ],
             [
              0.6666666666666666,
              "#ed7953"
             ],
             [
              0.7777777777777778,
              "#fb9f3a"
             ],
             [
              0.8888888888888888,
              "#fdca26"
             ],
             [
              1,
              "#f0f921"
             ]
            ],
            "type": "heatmapgl"
           }
          ],
          "histogram": [
           {
            "marker": {
             "colorbar": {
              "outlinewidth": 0,
              "ticks": ""
             }
            },
            "type": "histogram"
           }
          ],
          "histogram2d": [
           {
            "colorbar": {
             "outlinewidth": 0,
             "ticks": ""
            },
            "colorscale": [
             [
              0,
              "#0d0887"
             ],
             [
              0.1111111111111111,
              "#46039f"
             ],
             [
              0.2222222222222222,
              "#7201a8"
             ],
             [
              0.3333333333333333,
              "#9c179e"
             ],
             [
              0.4444444444444444,
              "#bd3786"
             ],
             [
              0.5555555555555556,
              "#d8576b"
             ],
             [
              0.6666666666666666,
              "#ed7953"
             ],
             [
              0.7777777777777778,
              "#fb9f3a"
             ],
             [
              0.8888888888888888,
              "#fdca26"
             ],
             [
              1,
              "#f0f921"
             ]
            ],
            "type": "histogram2d"
           }
          ],
          "histogram2dcontour": [
           {
            "colorbar": {
             "outlinewidth": 0,
             "ticks": ""
            },
            "colorscale": [
             [
              0,
              "#0d0887"
             ],
             [
              0.1111111111111111,
              "#46039f"
             ],
             [
              0.2222222222222222,
              "#7201a8"
             ],
             [
              0.3333333333333333,
              "#9c179e"
             ],
             [
              0.4444444444444444,
              "#bd3786"
             ],
             [
              0.5555555555555556,
              "#d8576b"
             ],
             [
              0.6666666666666666,
              "#ed7953"
             ],
             [
              0.7777777777777778,
              "#fb9f3a"
             ],
             [
              0.8888888888888888,
              "#fdca26"
             ],
             [
              1,
              "#f0f921"
             ]
            ],
            "type": "histogram2dcontour"
           }
          ],
          "mesh3d": [
           {
            "colorbar": {
             "outlinewidth": 0,
             "ticks": ""
            },
            "type": "mesh3d"
           }
          ],
          "parcoords": [
           {
            "line": {
             "colorbar": {
              "outlinewidth": 0,
              "ticks": ""
             }
            },
            "type": "parcoords"
           }
          ],
          "pie": [
           {
            "automargin": true,
            "type": "pie"
           }
          ],
          "scatter": [
           {
            "marker": {
             "colorbar": {
              "outlinewidth": 0,
              "ticks": ""
             }
            },
            "type": "scatter"
           }
          ],
          "scatter3d": [
           {
            "line": {
             "colorbar": {
              "outlinewidth": 0,
              "ticks": ""
             }
            },
            "marker": {
             "colorbar": {
              "outlinewidth": 0,
              "ticks": ""
             }
            },
            "type": "scatter3d"
           }
          ],
          "scattercarpet": [
           {
            "marker": {
             "colorbar": {
              "outlinewidth": 0,
              "ticks": ""
             }
            },
            "type": "scattercarpet"
           }
          ],
          "scattergeo": [
           {
            "marker": {
             "colorbar": {
              "outlinewidth": 0,
              "ticks": ""
             }
            },
            "type": "scattergeo"
           }
          ],
          "scattergl": [
           {
            "marker": {
             "colorbar": {
              "outlinewidth": 0,
              "ticks": ""
             }
            },
            "type": "scattergl"
           }
          ],
          "scattermapbox": [
           {
            "marker": {
             "colorbar": {
              "outlinewidth": 0,
              "ticks": ""
             }
            },
            "type": "scattermapbox"
           }
          ],
          "scatterpolar": [
           {
            "marker": {
             "colorbar": {
              "outlinewidth": 0,
              "ticks": ""
             }
            },
            "type": "scatterpolar"
           }
          ],
          "scatterpolargl": [
           {
            "marker": {
             "colorbar": {
              "outlinewidth": 0,
              "ticks": ""
             }
            },
            "type": "scatterpolargl"
           }
          ],
          "scatterternary": [
           {
            "marker": {
             "colorbar": {
              "outlinewidth": 0,
              "ticks": ""
             }
            },
            "type": "scatterternary"
           }
          ],
          "surface": [
           {
            "colorbar": {
             "outlinewidth": 0,
             "ticks": ""
            },
            "colorscale": [
             [
              0,
              "#0d0887"
             ],
             [
              0.1111111111111111,
              "#46039f"
             ],
             [
              0.2222222222222222,
              "#7201a8"
             ],
             [
              0.3333333333333333,
              "#9c179e"
             ],
             [
              0.4444444444444444,
              "#bd3786"
             ],
             [
              0.5555555555555556,
              "#d8576b"
             ],
             [
              0.6666666666666666,
              "#ed7953"
             ],
             [
              0.7777777777777778,
              "#fb9f3a"
             ],
             [
              0.8888888888888888,
              "#fdca26"
             ],
             [
              1,
              "#f0f921"
             ]
            ],
            "type": "surface"
           }
          ],
          "table": [
           {
            "cells": {
             "fill": {
              "color": "#EBF0F8"
             },
             "line": {
              "color": "white"
             }
            },
            "header": {
             "fill": {
              "color": "#C8D4E3"
             },
             "line": {
              "color": "white"
             }
            },
            "type": "table"
           }
          ]
         },
         "layout": {
          "annotationdefaults": {
           "arrowcolor": "#2a3f5f",
           "arrowhead": 0,
           "arrowwidth": 1
          },
          "coloraxis": {
           "colorbar": {
            "outlinewidth": 0,
            "ticks": ""
           }
          },
          "colorscale": {
           "diverging": [
            [
             0,
             "#8e0152"
            ],
            [
             0.1,
             "#c51b7d"
            ],
            [
             0.2,
             "#de77ae"
            ],
            [
             0.3,
             "#f1b6da"
            ],
            [
             0.4,
             "#fde0ef"
            ],
            [
             0.5,
             "#f7f7f7"
            ],
            [
             0.6,
             "#e6f5d0"
            ],
            [
             0.7,
             "#b8e186"
            ],
            [
             0.8,
             "#7fbc41"
            ],
            [
             0.9,
             "#4d9221"
            ],
            [
             1,
             "#276419"
            ]
           ],
           "sequential": [
            [
             0,
             "#0d0887"
            ],
            [
             0.1111111111111111,
             "#46039f"
            ],
            [
             0.2222222222222222,
             "#7201a8"
            ],
            [
             0.3333333333333333,
             "#9c179e"
            ],
            [
             0.4444444444444444,
             "#bd3786"
            ],
            [
             0.5555555555555556,
             "#d8576b"
            ],
            [
             0.6666666666666666,
             "#ed7953"
            ],
            [
             0.7777777777777778,
             "#fb9f3a"
            ],
            [
             0.8888888888888888,
             "#fdca26"
            ],
            [
             1,
             "#f0f921"
            ]
           ],
           "sequentialminus": [
            [
             0,
             "#0d0887"
            ],
            [
             0.1111111111111111,
             "#46039f"
            ],
            [
             0.2222222222222222,
             "#7201a8"
            ],
            [
             0.3333333333333333,
             "#9c179e"
            ],
            [
             0.4444444444444444,
             "#bd3786"
            ],
            [
             0.5555555555555556,
             "#d8576b"
            ],
            [
             0.6666666666666666,
             "#ed7953"
            ],
            [
             0.7777777777777778,
             "#fb9f3a"
            ],
            [
             0.8888888888888888,
             "#fdca26"
            ],
            [
             1,
             "#f0f921"
            ]
           ]
          },
          "colorway": [
           "#636efa",
           "#EF553B",
           "#00cc96",
           "#ab63fa",
           "#FFA15A",
           "#19d3f3",
           "#FF6692",
           "#B6E880",
           "#FF97FF",
           "#FECB52"
          ],
          "font": {
           "color": "#2a3f5f"
          },
          "geo": {
           "bgcolor": "white",
           "lakecolor": "white",
           "landcolor": "#E5ECF6",
           "showlakes": true,
           "showland": true,
           "subunitcolor": "white"
          },
          "hoverlabel": {
           "align": "left"
          },
          "hovermode": "closest",
          "mapbox": {
           "style": "light"
          },
          "paper_bgcolor": "white",
          "plot_bgcolor": "#E5ECF6",
          "polar": {
           "angularaxis": {
            "gridcolor": "white",
            "linecolor": "white",
            "ticks": ""
           },
           "bgcolor": "#E5ECF6",
           "radialaxis": {
            "gridcolor": "white",
            "linecolor": "white",
            "ticks": ""
           }
          },
          "scene": {
           "xaxis": {
            "backgroundcolor": "#E5ECF6",
            "gridcolor": "white",
            "gridwidth": 2,
            "linecolor": "white",
            "showbackground": true,
            "ticks": "",
            "zerolinecolor": "white"
           },
           "yaxis": {
            "backgroundcolor": "#E5ECF6",
            "gridcolor": "white",
            "gridwidth": 2,
            "linecolor": "white",
            "showbackground": true,
            "ticks": "",
            "zerolinecolor": "white"
           },
           "zaxis": {
            "backgroundcolor": "#E5ECF6",
            "gridcolor": "white",
            "gridwidth": 2,
            "linecolor": "white",
            "showbackground": true,
            "ticks": "",
            "zerolinecolor": "white"
           }
          },
          "shapedefaults": {
           "line": {
            "color": "#2a3f5f"
           }
          },
          "ternary": {
           "aaxis": {
            "gridcolor": "white",
            "linecolor": "white",
            "ticks": ""
           },
           "baxis": {
            "gridcolor": "white",
            "linecolor": "white",
            "ticks": ""
           },
           "bgcolor": "#E5ECF6",
           "caxis": {
            "gridcolor": "white",
            "linecolor": "white",
            "ticks": ""
           }
          },
          "title": {
           "x": 0.05
          },
          "xaxis": {
           "automargin": true,
           "gridcolor": "white",
           "linecolor": "white",
           "ticks": "",
           "title": {
            "standoff": 15
           },
           "zerolinecolor": "white",
           "zerolinewidth": 2
          },
          "yaxis": {
           "automargin": true,
           "gridcolor": "white",
           "linecolor": "white",
           "ticks": "",
           "title": {
            "standoff": 15
           },
           "zerolinecolor": "white",
           "zerolinewidth": 2
          }
         }
        },
        "title": {
         "text": "<i><b>Matriz de Confusão</b></i>",
         "x": 0.5
        },
        "width": 500,
        "xaxis": {
         "dtick": 1,
         "gridcolor": "rgb(0, 0, 0)",
         "side": "top",
         "ticks": ""
        },
        "yaxis": {
         "dtick": 1,
         "ticks": "",
         "ticksuffix": "  "
        }
       }
      }
     },
     "metadata": {}
    }
   ],
   "source": [
    "import plotly.figure_factory as ff\n",
    "\n",
    "data = {'Real':    y_val,\n",
    "        'Predito': y_pred}\n",
    "df = pd.DataFrame(data, columns=['Real','Predito'])\n",
    "confusion_matrix = pd.crosstab(df['Real'], df['Predito'], rownames=['Real'], colnames=['Predito'], margins = True)\n",
    "cm = confusion_matrix.drop('All', axis=1).drop('All', axis=0)\n",
    "\n",
    "c = cm.values[::-1]\n",
    "x = list(cm.index)\n",
    "y = x[::-1]\n",
    "c_text = [[str(y) for y in x] for x in c]\n",
    "\n",
    "fig = ff.create_annotated_heatmap(c, x=x, y=y, annotation_text=c_text, colorscale='blues')\n",
    "\n",
    "# add title\n",
    "fig.update_layout(title_text='<i><b>Matriz de Confusão</b></i>',\n",
    "                  #xaxis = dict(title='Valores Preditos'),\n",
    "                  #yaxis = dict(title='Valores Reais')\n",
    "                  title_x=0.5,\n",
    "                  autosize=False,\n",
    "                  width=500,\n",
    "                  height=500,\n",
    "                 )\n",
    "\n",
    "# add custom xaxis title\n",
    "fig.add_annotation(dict(font=dict(color=\"black\",size=14),\n",
    "                        x=0.5,\n",
    "                        y=-0.12,\n",
    "                        showarrow=False,\n",
    "                        text=\"Valores Preditos\",\n",
    "                        xref=\"paper\",\n",
    "                        yref=\"paper\"))\n",
    "\n",
    "fig.add_annotation(dict(font=dict(color=\"black\",size=14),\n",
    "                        x=-0.2,\n",
    "                        y=0.5,\n",
    "                        textangle=270,\n",
    "                        showarrow=False,\n",
    "                        text=\"Valores Reais\",\n",
    "                        xref=\"paper\",\n",
    "                        yref=\"paper\"))\n",
    "fig.write_image(\"fig1.svg\")\n",
    "fig.show()"
   ]
  },
  {
   "cell_type": "code",
   "execution_count": 16,
   "metadata": {},
   "outputs": [],
   "source": [
    "num_kernels = 10000\n",
    "rocket = Rocket(num_kernels=num_kernels)\n",
    "rocket.fit(X_train_norm)\n",
    "X_val_transform = rocket.transform(X_val_norm)"
   ]
  },
  {
   "cell_type": "code",
   "execution_count": 17,
   "metadata": {},
   "outputs": [
    {
     "output_type": "stream",
     "name": "stdout",
     "text": [
      "Acurácia em cada fold:\n [100. 100. 100. 100. 100. 100. 100. 100. 100. 100.]\n\nMédia da acurácia: 100.00%\nDesvio padrão da acurácia: 0.00%)\nTempo necessário para treinamento 473.60908007621765 segundos\n"
     ]
    }
   ],
   "source": [
    "scores = []\n",
    "count = -1\n",
    "s = time.time()\n",
    "for X_tr, y_tr, X_te, y_te in zip(train_X_cycle_1, train_y_cycle_1,\n",
    "                                  test_X_cycle_1, test_y_cycle_1):\n",
    "\n",
    "    # Normalização\n",
    "    X_tr_norm = X_tr.copy()\n",
    "    X_tr_norm['A'] = X_tr_norm['A'] / max_list[0]\n",
    "    X_tr_norm['B'] = X_tr_norm['B'] / max_list[1]\n",
    "    X_tr_norm['C'] = X_tr_norm['C'] / max_list[2]\n",
    "    X_tr_norm['Z'] = X_tr_norm['Z'] / max_list[3]\n",
    "\n",
    "    X_te_norm = X_te.copy()\n",
    "    X_te_norm['A'] = X_te_norm['A'] / max_list[0]\n",
    "    X_te_norm['B'] = X_te_norm['B'] / max_list[1]\n",
    "    X_te_norm['C'] = X_te_norm['C'] / max_list[2]\n",
    "    X_te_norm['Z'] = X_te_norm['Z'] / max_list[3]\n",
    "\n",
    "    # Treinamento\n",
    "    X_tr_transform = rocket.transform(X_tr_norm)\n",
    "    X_te_transform = rocket.transform(X_te_norm)\n",
    "    clf = RidgeClassifierCV(alphas=np.logspace(-3, 3, 10), normalize=True)\n",
    "    clf.fit(X_tr_transform, y_tr)\n",
    "\n",
    "    # Avaliação do modelo\n",
    "    score = clf.score(X_te_transform, y_te)\n",
    "    scores.append(score)\n",
    "    if len(scores) == 1:\n",
    "        pickle.dump(clf, open(MODEL_PATH + 'rocket_model_cycle_1.pkl', 'wb'))\n",
    "        # compressed_pickle(MODEL_PATH + 'rocket_model_cycle_1', clf)\n",
    "    else:\n",
    "        if score > scores[count]:\n",
    "            pickle.dump(clf, open(MODEL_PATH + 'rocket_model_cycle_1.pkl', 'wb'))\n",
    "            # compressed_pickle(MODEL_PATH + 'rocket_model_cycle_1', clf)\n",
    "    count += 1\n",
    "e = time.time()\n",
    "final_scores = np.array(scores)\n",
    "print(f'Acurácia em cada fold:\\n {np.round(final_scores * 100, decimals=2)}')\n",
    "print(f'\\nMédia da acurácia: {np.mean(final_scores) * 100:.2f}%')\n",
    "print(f'Desvio padrão da acurácia: {np.std(final_scores) * 100:.2f}%)')\n",
    "print(f'Tempo necessário para treinamento {e-s} segundos')"
   ]
  },
  {
   "cell_type": "code",
   "execution_count": 18,
   "metadata": {},
   "outputs": [],
   "source": [
    "with open(MODEL_PATH + 'rocket_model_cycle_1.pkl', 'rb') as f:\n",
    "    model = pickle.load(f)"
   ]
  },
  {
   "cell_type": "code",
   "execution_count": 19,
   "metadata": {},
   "outputs": [
    {
     "output_type": "execute_result",
     "data": {
      "text/plain": [
       "1.0"
      ]
     },
     "metadata": {},
     "execution_count": 19
    }
   ],
   "source": [
    "model.score(X_val_transform, y_val)"
   ]
  },
  {
   "source": [
    "# Using pipelines"
   ],
   "cell_type": "markdown",
   "metadata": {}
  },
  {
   "source": [
    "https://www.kaggle.com/baghern/a-deep-dive-into-sklearn-pipelines"
   ],
   "cell_type": "markdown",
   "metadata": {}
  },
  {
   "cell_type": "code",
   "execution_count": null,
   "metadata": {},
   "outputs": [],
   "source": []
  }
 ],
 "metadata": {
  "kernelspec": {
   "name": "python38764bitmestrado93452fa44c9a400d9f916e3ee858cfd5",
   "display_name": "Python 3.8.7 64-bit ('mestrado')",
   "language": "python"
  }
 },
 "nbformat": 4,
 "nbformat_minor": 5
}