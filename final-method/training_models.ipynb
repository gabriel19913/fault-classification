{
 "cells": [
  {
   "cell_type": "code",
   "execution_count": 1,
   "id": "5ea25df1-9151-4b19-9dc7-4e9e922e9c8c",
   "metadata": {},
   "outputs": [],
   "source": [
    "import numpy as np\n",
    "from sklearn.linear_model import RidgeClassifierCV\n",
    "from sklearn.pipeline import make_pipeline\n",
    "from sklearn.model_selection import train_test_split\n",
    "import pickle\n",
    "\n",
    "import pandas as pd\n",
    "from sktime.transformations.panel.rocket import Rocket, MiniRocketMultivariate\n",
    "from glob import glob\n",
    "from noise import decompress_pickle, compressed_pickle\n",
    "import time\n",
    "INPUT_DATA_PATH = '../input-data/'\n",
    "MODEL_PATH = './models/'"
   ]
  },
  {
   "cell_type": "code",
   "execution_count": 2,
   "id": "663f7266-b471-408d-b584-cb5497e51e81",
   "metadata": {},
   "outputs": [],
   "source": [
    "def open_folds(cycle, train_test, X_y, v_i):\n",
    "    \"\"\"\n",
    "    Parameters:\n",
    "        cycle      : which cycle, ex.: 'cycle_1' (1, 2, 4, 8, 16, 32)\n",
    "        train_test : if it is the train ot test set, ex: 'train' (train, test)\n",
    "        X_y        : if it is the X or y set, ex.: 'X' (X, y)\n",
    "        v_i        : if it is a voltage or current signal, ex.: 'i' (v, i)\n",
    "    Return:\n",
    "        list : each fold is in a position.\n",
    "    \"\"\"\n",
    "    paths = list(map(lambda x: x.split('.pbz2')[0], glob(INPUT_DATA_PATH + \n",
    "                                                         f'folds/{v_i}/{cycle}/{X_y}_{train_test}_fold_[0-9]*.pbz2')))\n",
    "    data_list = []\n",
    "    for path in paths:\n",
    "        folder_pos = int(path.split('/')[-1].split('_')[-1]) - 1\n",
    "        fold = decompress_pickle(path)\n",
    "        data_list.insert(folder_pos, fold)\n",
    "    return data_list\n",
    "\n",
    "\n",
    "def transform_data(X, num_kernels=10000):\n",
    "    rocket = Rocket(num_kernels=num_kernels, n_jobs=-1)\n",
    "    rocket.fit(X)\n",
    "    X_transform = rocket.transform(X)\n",
    "    return X_transform, rocket\n",
    "\n",
    "\n",
    "def train_model(data_name, model_name, model, parameters, X_data_train, y_data_train, X_data_test,\n",
    "                y_data_test):\n",
    "    scores = []\n",
    "    count = -1\n",
    "    for X_train, y_train, X_test, y_test in zip(X_data_train, y_data_train,\n",
    "                                                X_data_test, y_data_test):\n",
    "        clf = model(**parameters)\n",
    "        clf.fit(X_train, y_train)\n",
    "        score = clf.score(X_test, y_test)\n",
    "        scores.append(score)\n",
    "        if len(scores) == 1:\n",
    "            s = pickle.dump(clf, open(model_path + f'clf_model_{data_name}.pkl', 'wb'))\n",
    "        else:\n",
    "            if score > scores[count]:\n",
    "                s = pickle.dump(clf, open(model_path + f'clf_model_{data_name}.pkl', 'wb'))\n",
    "        count += 1\n",
    "    #final_scores.append(sum(scores)/len(scores))\n",
    "    final_scores = np.array(scores)\n",
    "    print(f'Acurácia em cada fold:\\n {np.round(final_scores * 100, decimals=2)}')\n",
    "    print(f'\\nMédia da acurácia: {np.mean(final_scores) * 100:.2f}%')\n",
    "    print(f'Desvio padrão da acurácia: {np.std(final_scores) * 100:.2f}%)')"
   ]
  },
  {
   "cell_type": "code",
   "execution_count": 3,
   "id": "0e7a5810-84a9-47a8-acae-502c162ee0ef",
   "metadata": {},
   "outputs": [],
   "source": [
    "train_X_cycle_1 = open_folds('cycle_1', 'train', 'X', 'i')\n",
    "train_y_cycle_1 = open_folds('cycle_1', 'train', 'y', 'i')\n",
    "test_X_cycle_1 = open_folds('cycle_1', 'test', 'X', 'i')\n",
    "test_y_cycle_1 = open_folds('cycle_1', 'test', 'y', 'i')\n",
    "val_X_cycle_1 = decompress_pickle(INPUT_DATA_PATH + 'folds/i/cycle_1/X_test')\n",
    "val_y_cycle_1 = decompress_pickle(INPUT_DATA_PATH + 'folds/i/cycle_1/y_test')"
   ]
  },
  {
   "cell_type": "code",
   "execution_count": 4,
   "id": "52659e8a-eebe-44f3-acb4-0b4a0da0e7ce",
   "metadata": {},
   "outputs": [
    {
     "output_type": "execute_result",
     "data": {
      "text/plain": [
       "                                                     A  \\\n",
       "878  0      0.183277\n",
       "1      0.179079\n",
       "2      0.17420...   \n",
       "279  0     -0.138425\n",
       "1     -0.141367\n",
       "2     -0.14445...   \n",
       "553  0     -0.157581\n",
       "1     -0.158188\n",
       "2     -0.15826...   \n",
       "832  0     -0.346019\n",
       "1     -0.346542\n",
       "2     -0.34805...   \n",
       "888  0      0.164698\n",
       "1      0.161594\n",
       "2      0.15879...   \n",
       "\n",
       "                                                     B  \\\n",
       "878  0      0.064567\n",
       "1      0.070880\n",
       "2      0.07583...   \n",
       "279  0      0.185232\n",
       "1      0.183684\n",
       "2      0.18219...   \n",
       "553  0      0.090170\n",
       "1      0.086713\n",
       "2      0.08365...   \n",
       "832  0      0.487940\n",
       "1      0.470473\n",
       "2      0.45347...   \n",
       "888  0      0.015596\n",
       "1      0.022110\n",
       "2      0.02602...   \n",
       "\n",
       "                                                     C  \\\n",
       "878  0     -0.247976\n",
       "1     -0.249467\n",
       "2     -0.25140...   \n",
       "279  0     -0.046927\n",
       "1     -0.042106\n",
       "2     -0.03757...   \n",
       "553  0      0.067552\n",
       "1      0.070677\n",
       "2      0.07447...   \n",
       "832  0     -0.142555\n",
       "1     -0.124596\n",
       "2     -0.10626...   \n",
       "888  0     -0.181084\n",
       "1     -0.182660\n",
       "2     -0.18649...   \n",
       "\n",
       "                                                     Z  \n",
       "878  0     -7.361398e-09\n",
       "1      4.957016e-09\n",
       "2     ...  \n",
       "279  0     -0.000519\n",
       "1     -0.000698\n",
       "2      0.00047...  \n",
       "553  0     -0.000042\n",
       "1      0.000016\n",
       "2     -0.00006...  \n",
       "832  0      0.000015\n",
       "1      0.000050\n",
       "2      0.00005...  \n",
       "888  0      4.946188e-09\n",
       "1      2.372673e-09\n",
       "2     ...  "
      ],
      "text/html": "<div>\n<style scoped>\n    .dataframe tbody tr th:only-of-type {\n        vertical-align: middle;\n    }\n\n    .dataframe tbody tr th {\n        vertical-align: top;\n    }\n\n    .dataframe thead th {\n        text-align: right;\n    }\n</style>\n<table border=\"1\" class=\"dataframe\">\n  <thead>\n    <tr style=\"text-align: right;\">\n      <th></th>\n      <th>A</th>\n      <th>B</th>\n      <th>C</th>\n      <th>Z</th>\n    </tr>\n  </thead>\n  <tbody>\n    <tr>\n      <th>878</th>\n      <td>0      0.183277\n1      0.179079\n2      0.17420...</td>\n      <td>0      0.064567\n1      0.070880\n2      0.07583...</td>\n      <td>0     -0.247976\n1     -0.249467\n2     -0.25140...</td>\n      <td>0     -7.361398e-09\n1      4.957016e-09\n2     ...</td>\n    </tr>\n    <tr>\n      <th>279</th>\n      <td>0     -0.138425\n1     -0.141367\n2     -0.14445...</td>\n      <td>0      0.185232\n1      0.183684\n2      0.18219...</td>\n      <td>0     -0.046927\n1     -0.042106\n2     -0.03757...</td>\n      <td>0     -0.000519\n1     -0.000698\n2      0.00047...</td>\n    </tr>\n    <tr>\n      <th>553</th>\n      <td>0     -0.157581\n1     -0.158188\n2     -0.15826...</td>\n      <td>0      0.090170\n1      0.086713\n2      0.08365...</td>\n      <td>0      0.067552\n1      0.070677\n2      0.07447...</td>\n      <td>0     -0.000042\n1      0.000016\n2     -0.00006...</td>\n    </tr>\n    <tr>\n      <th>832</th>\n      <td>0     -0.346019\n1     -0.346542\n2     -0.34805...</td>\n      <td>0      0.487940\n1      0.470473\n2      0.45347...</td>\n      <td>0     -0.142555\n1     -0.124596\n2     -0.10626...</td>\n      <td>0      0.000015\n1      0.000050\n2      0.00005...</td>\n    </tr>\n    <tr>\n      <th>888</th>\n      <td>0      0.164698\n1      0.161594\n2      0.15879...</td>\n      <td>0      0.015596\n1      0.022110\n2      0.02602...</td>\n      <td>0     -0.181084\n1     -0.182660\n2     -0.18649...</td>\n      <td>0      4.946188e-09\n1      2.372673e-09\n2     ...</td>\n    </tr>\n  </tbody>\n</table>\n</div>"
     },
     "metadata": {},
     "execution_count": 4
    }
   ],
   "source": [
    "train_X_cycle_1[1].sample(5)"
   ]
  },
  {
   "cell_type": "code",
   "execution_count": 5,
   "metadata": {},
   "outputs": [
    {
     "output_type": "stream",
     "name": "stdout",
     "text": [
      "Acurácia em cada fold:\n [100.    12.   100.   100.    21.33  21.33  18.67  16.    17.33  98.67]\n\nMédia da acurácia: 50.53%\nDesvio padrão da acurácia: 40.20%)\nTempo necessário para treinamento 468.3053648471832 segundos\n"
     ]
    }
   ],
   "source": [
    "scores = []\n",
    "count = -1\n",
    "num_kernels = 10000\n",
    "s = time.time()\n",
    "for X_train, y_train, X_test, y_test in zip(train_X_cycle_1, train_y_cycle_1,\n",
    "                                            test_X_cycle_1, test_y_cycle_1):\n",
    "    rocket = Rocket(num_kernels=num_kernels)\n",
    "    rocket.fit(X_train)\n",
    "    X_train_transform = rocket.transform(X_train)\n",
    "    X_test_transform = rocket.transform(X_test)\n",
    "\n",
    "    clf = RidgeClassifierCV(alphas=np.logspace(-3, 3, 10), normalize=True)\n",
    "    clf.fit(X_train_transform, y_train)\n",
    "\n",
    "    score = clf.score(X_test_transform, y_test)\n",
    "    scores.append(score)\n",
    "    if len(scores) == 1:\n",
    "        pickle.dump(clf, open(MODEL_PATH + 'rocket_model_cycle_1', 'wb'))\n",
    "        # compressed_pickle(MODEL_PATH + 'rocket_model_cycle_1', clf)\n",
    "    else:\n",
    "        if score > scores[count]:\n",
    "            pickle.dump(clf, open(MODEL_PATH + 'rocket_model_cycle_1', 'wb'))\n",
    "            # compressed_pickle(MODEL_PATH + 'rocket_model_cycle_1', clf)\n",
    "    count += 1\n",
    "e = time.time()\n",
    "final_scores = np.array(scores)\n",
    "print(f'Acurácia em cada fold:\\n {np.round(final_scores * 100, decimals=2)}')\n",
    "print(f'\\nMédia da acurácia: {np.mean(final_scores) * 100:.2f}%')\n",
    "print(f'Desvio padrão da acurácia: {np.std(final_scores) * 100:.2f}%)')\n",
    "print(f'Tempo necessário para treinamento {e-s} segundos')"
   ]
  },
  {
   "cell_type": "code",
   "execution_count": 6,
   "metadata": {},
   "outputs": [
    {
     "output_type": "stream",
     "name": "stdout",
     "text": [
      "Acurácia em cada fold:\n [100.    12.   100.   100.    21.33  22.67  18.67  16.    17.33  90.67]\n\nMédia da acurácia: 49.87%\nDesvio padrão da acurácia: 39.21%)\nTempo necessário para treinamento 214.22762966156006 segundos\n"
     ]
    }
   ],
   "source": [
    "scores = []\n",
    "count = -1\n",
    "num_kernels = 5000\n",
    "s = time.time()\n",
    "for X_train, y_train, X_test, y_test in zip(train_X_cycle_1, train_y_cycle_1,\n",
    "                                            test_X_cycle_1, test_y_cycle_1):\n",
    "    rocket = Rocket(num_kernels=num_kernels)\n",
    "    rocket.fit(X_train)\n",
    "    X_train_transform = rocket.transform(X_train)\n",
    "    X_test_transform = rocket.transform(X_test)\n",
    "\n",
    "    clf = RidgeClassifierCV(alphas=np.logspace(-3, 3, 10), normalize=True)\n",
    "    clf.fit(X_train_transform, y_train)\n",
    "\n",
    "    score = clf.score(X_test_transform, y_test)\n",
    "    scores.append(score)\n",
    "    if len(scores) == 1:\n",
    "        pickle.dump(clf, open(MODEL_PATH + 'rocket_model_less_kernels_cycle_1', 'wb'))\n",
    "        # compressed_pickle(MODEL_PATH + 'rocket_model_cycle_1', clf)\n",
    "    else:\n",
    "        if score > scores[count]:\n",
    "            pickle.dump(clf, open(MODEL_PATH + 'rocket_model_less_kernels_cycle_1', 'wb'))\n",
    "            # compressed_pickle(MODEL_PATH + 'rocket_model_cycle_1', clf)\n",
    "    count += 1\n",
    "e = time.time()\n",
    "final_scores = np.array(scores)\n",
    "print(f'Acurácia em cada fold:\\n {np.round(final_scores * 100, decimals=2)}')\n",
    "print(f'\\nMédia da acurácia: {np.mean(final_scores) * 100:.2f}%')\n",
    "print(f'Desvio padrão da acurácia: {np.std(final_scores) * 100:.2f}%)')\n",
    "print(f'Tempo necessário para treinamento {e-s} segundos')"
   ]
  },
  {
   "cell_type": "code",
   "execution_count": 9,
   "metadata": {},
   "outputs": [
    {
     "output_type": "stream",
     "name": "stdout",
     "text": [
      "Acurácia em cada fold:\n [100.    12.   100.   100.    21.33  21.33  17.33  16.    17.33 100.  ]\n\nMédia da acurácia: 50.53%\nDesvio padrão da acurácia: 40.47%)\nTempo necessário para treinamento 23.90195345878601 segundos\n"
     ]
    }
   ],
   "source": [
    "scores = []\n",
    "count = -1\n",
    "num_features = 2000\n",
    "s = time.time()\n",
    "for X_train, y_train, X_test, y_test in zip(train_X_cycle_1, train_y_cycle_1,\n",
    "                                            test_X_cycle_1, test_y_cycle_1):\n",
    "    rocket = MiniRocketMultivariate(num_features=num_features, max_dilations_per_kernel=64)\n",
    "    rocket.fit(X_train)\n",
    "    X_train_transform = rocket.transform(X_train)\n",
    "    X_test_transform = rocket.transform(X_test)\n",
    "\n",
    "    clf = RidgeClassifierCV(alphas=np.logspace(-3, 3, 10), normalize=True)\n",
    "    clf.fit(X_train_transform, y_train)\n",
    "\n",
    "    score = clf.score(X_test_transform, y_test)\n",
    "    scores.append(score)\n",
    "    if len(scores) == 1:\n",
    "        pickle.dump(clf, open(MODEL_PATH + 'rocket_model_less_kernels_cycle_1', 'wb'))\n",
    "        # compressed_pickle(MODEL_PATH + 'rocket_model_cycle_1', clf)\n",
    "    else:\n",
    "        if score > scores[count]:\n",
    "            pickle.dump(clf, open(MODEL_PATH + 'rocket_model_less_kernels_cycle_1', 'wb'))\n",
    "            # compressed_pickle(MODEL_PATH + 'rocket_model_cycle_1', clf)\n",
    "    count += 1\n",
    "e = time.time()\n",
    "final_scores = np.array(scores)\n",
    "print(f'Acurácia em cada fold:\\n {np.round(final_scores * 100, decimals=2)}')\n",
    "print(f'\\nMédia da acurácia: {np.mean(final_scores) * 100:.2f}%')\n",
    "print(f'Desvio padrão da acurácia: {np.std(final_scores) * 100:.2f}%)')\n",
    "print(f'Tempo necessário para treinamento {e-s} segundos')"
   ]
  },
  {
   "cell_type": "code",
   "execution_count": 10,
   "metadata": {},
   "outputs": [
    {
     "output_type": "stream",
     "name": "stdout",
     "text": [
      "Acurácia em cada fold:\n [100.    12.   100.   100.    21.33  21.33  20.    16.    17.33 100.  ]\n\nMédia da acurácia: 50.80%\nDesvio padrão da acurácia: 40.25%)\nTempo necessário para treinamento 49.76265001296997 segundos\n"
     ]
    }
   ],
   "source": [
    "scores = []\n",
    "count = -1\n",
    "num_features = 5000\n",
    "s = time.time()\n",
    "for X_train, y_train, X_test, y_test in zip(train_X_cycle_1, train_y_cycle_1,\n",
    "                                            test_X_cycle_1, test_y_cycle_1):\n",
    "    rocket = MiniRocketMultivariate(num_features=num_features, max_dilations_per_kernel=64)\n",
    "    rocket.fit(X_train)\n",
    "    X_train_transform = rocket.transform(X_train)\n",
    "    X_test_transform = rocket.transform(X_test)\n",
    "\n",
    "    clf = RidgeClassifierCV(alphas=np.logspace(-3, 3, 10), normalize=True)\n",
    "    clf.fit(X_train_transform, y_train)\n",
    "\n",
    "    score = clf.score(X_test_transform, y_test)\n",
    "    scores.append(score)\n",
    "    if len(scores) == 1:\n",
    "        pickle.dump(clf, open(MODEL_PATH + 'rocket_model_less_kernels_cycle_1', 'wb'))\n",
    "        # compressed_pickle(MODEL_PATH + 'rocket_model_cycle_1', clf)\n",
    "    else:\n",
    "        if score > scores[count]:\n",
    "            pickle.dump(clf, open(MODEL_PATH + 'rocket_model_less_kernels_cycle_1', 'wb'))\n",
    "            # compressed_pickle(MODEL_PATH + 'rocket_model_cycle_1', clf)\n",
    "    count += 1\n",
    "e = time.time()\n",
    "final_scores = np.array(scores)\n",
    "print(f'Acurácia em cada fold:\\n {np.round(final_scores * 100, decimals=2)}')\n",
    "print(f'\\nMédia da acurácia: {np.mean(final_scores) * 100:.2f}%')\n",
    "print(f'Desvio padrão da acurácia: {np.std(final_scores) * 100:.2f}%)')\n",
    "print(f'Tempo necessário para treinamento {e-s} segundos')"
   ]
  },
  {
   "cell_type": "code",
   "execution_count": 55,
   "metadata": {},
   "outputs": [],
   "source": [
    "X_train = train_X_cycle_1[0]\n",
    "y_train = train_y_cycle_1[0]\n",
    "X_test = test_X_cycle_1[0]\n",
    "y_test = test_y_cycle_1[0]"
   ]
  },
  {
   "cell_type": "code",
   "execution_count": 56,
   "metadata": {},
   "outputs": [
    {
     "output_type": "execute_result",
     "data": {
      "text/plain": [
       "                                                     A  \\\n",
       "202  0     -0.138458\n",
       "1     -0.138814\n",
       "2     -0.13715...   \n",
       "141  0     -0.184703\n",
       "1     -0.184598\n",
       "2     -0.18524...   \n",
       "755  0      0.027851\n",
       "1      0.025150\n",
       "2      0.02250...   \n",
       "801  0     -0.173841\n",
       "1     -0.173105\n",
       "2     -0.17254...   \n",
       "433  0     -0.058709\n",
       "1     -0.051728\n",
       "2     -0.04588...   \n",
       "..                                                 ...   \n",
       "539  0      0.045237\n",
       "1      0.035806\n",
       "2      0.02514...   \n",
       "562  0     -0.179650\n",
       "1     -0.186785\n",
       "2     -0.19425...   \n",
       "712  0     -0.135308\n",
       "1     -0.133917\n",
       "2     -0.13299...   \n",
       "611  0      0.028178\n",
       "1      0.025055\n",
       "2      0.02151...   \n",
       "339  0     -0.141523\n",
       "1     -0.142413\n",
       "2     -0.14300...   \n",
       "\n",
       "                                                     B  \\\n",
       "202  0      0.043562\n",
       "1      0.040369\n",
       "2      0.03636...   \n",
       "141  0      0.110263\n",
       "1      0.105860\n",
       "2      0.10209...   \n",
       "755  0      0.078763\n",
       "1      0.080624\n",
       "2      0.08241...   \n",
       "801  0      0.268997\n",
       "1      0.256967\n",
       "2      0.24510...   \n",
       "433  0     -0.184728\n",
       "1     -0.189122\n",
       "2     -0.19314...   \n",
       "..                                                 ...   \n",
       "539  0      0.341439\n",
       "1      0.347612\n",
       "2      0.35271...   \n",
       "562  0      0.341001\n",
       "1      0.340607\n",
       "2      0.34055...   \n",
       "712  0      0.023621\n",
       "1      0.020090\n",
       "2      0.01665...   \n",
       "611  0      0.104140\n",
       "1      0.106141\n",
       "2      0.10909...   \n",
       "339  0      0.099148\n",
       "1      0.097013\n",
       "2      0.09436...   \n",
       "\n",
       "                                                     C  \\\n",
       "202  0      0.095490\n",
       "1      0.098043\n",
       "2      0.10046...   \n",
       "141  0      0.074936\n",
       "1      0.079141\n",
       "2      0.08331...   \n",
       "755  0     -0.106236\n",
       "1     -0.105946\n",
       "2     -0.10451...   \n",
       "801  0      0.113716\n",
       "1      0.117051\n",
       "2      0.12025...   \n",
       "433  0      0.242317\n",
       "1      0.240868\n",
       "2      0.23892...   \n",
       "..                                                 ...   \n",
       "539  0     -0.386196\n",
       "1     -0.381741\n",
       "2     -0.37767...   \n",
       "562  0     -0.161014\n",
       "1     -0.153341\n",
       "2     -0.14657...   \n",
       "712  0      0.112190\n",
       "1      0.113692\n",
       "2      0.11618...   \n",
       "611  0     -0.132071\n",
       "1     -0.130757\n",
       "2     -0.12928...   \n",
       "339  0      0.042520\n",
       "1      0.045819\n",
       "2      0.04896...   \n",
       "\n",
       "                                                     Z  \n",
       "202  0     -0.000013\n",
       "1      0.000074\n",
       "2      0.00028...  \n",
       "141  0      0.000152\n",
       "1     -0.000134\n",
       "2     -0.00133...  \n",
       "755  0     -1.441403e-09\n",
       "1      6.294212e-09\n",
       "2     ...  \n",
       "801  0      0.208661\n",
       "1      0.200896\n",
       "2      0.19299...  \n",
       "433  0     -0.000544\n",
       "1      0.000378\n",
       "2     -0.00009...  \n",
       "..                                                 ...  \n",
       "539  0      0.000359\n",
       "1      0.000379\n",
       "2      0.00005...  \n",
       "562  0     -0.000038\n",
       "1      0.000670\n",
       "2      0.00031...  \n",
       "712  0      1.047495e-08\n",
       "1      1.020776e-08\n",
       "2     ...  \n",
       "611  0      0.000061\n",
       "1     -0.000115\n",
       "2     -0.00005...  \n",
       "339  0      0.000080\n",
       "1      0.000052\n",
       "2      0.00003...  \n",
       "\n",
       "[76 rows x 4 columns]"
      ],
      "text/html": "<div>\n<style scoped>\n    .dataframe tbody tr th:only-of-type {\n        vertical-align: middle;\n    }\n\n    .dataframe tbody tr th {\n        vertical-align: top;\n    }\n\n    .dataframe thead th {\n        text-align: right;\n    }\n</style>\n<table border=\"1\" class=\"dataframe\">\n  <thead>\n    <tr style=\"text-align: right;\">\n      <th></th>\n      <th>A</th>\n      <th>B</th>\n      <th>C</th>\n      <th>Z</th>\n    </tr>\n  </thead>\n  <tbody>\n    <tr>\n      <th>202</th>\n      <td>0     -0.138458\n1     -0.138814\n2     -0.13715...</td>\n      <td>0      0.043562\n1      0.040369\n2      0.03636...</td>\n      <td>0      0.095490\n1      0.098043\n2      0.10046...</td>\n      <td>0     -0.000013\n1      0.000074\n2      0.00028...</td>\n    </tr>\n    <tr>\n      <th>141</th>\n      <td>0     -0.184703\n1     -0.184598\n2     -0.18524...</td>\n      <td>0      0.110263\n1      0.105860\n2      0.10209...</td>\n      <td>0      0.074936\n1      0.079141\n2      0.08331...</td>\n      <td>0      0.000152\n1     -0.000134\n2     -0.00133...</td>\n    </tr>\n    <tr>\n      <th>755</th>\n      <td>0      0.027851\n1      0.025150\n2      0.02250...</td>\n      <td>0      0.078763\n1      0.080624\n2      0.08241...</td>\n      <td>0     -0.106236\n1     -0.105946\n2     -0.10451...</td>\n      <td>0     -1.441403e-09\n1      6.294212e-09\n2     ...</td>\n    </tr>\n    <tr>\n      <th>801</th>\n      <td>0     -0.173841\n1     -0.173105\n2     -0.17254...</td>\n      <td>0      0.268997\n1      0.256967\n2      0.24510...</td>\n      <td>0      0.113716\n1      0.117051\n2      0.12025...</td>\n      <td>0      0.208661\n1      0.200896\n2      0.19299...</td>\n    </tr>\n    <tr>\n      <th>433</th>\n      <td>0     -0.058709\n1     -0.051728\n2     -0.04588...</td>\n      <td>0     -0.184728\n1     -0.189122\n2     -0.19314...</td>\n      <td>0      0.242317\n1      0.240868\n2      0.23892...</td>\n      <td>0     -0.000544\n1      0.000378\n2     -0.00009...</td>\n    </tr>\n    <tr>\n      <th>...</th>\n      <td>...</td>\n      <td>...</td>\n      <td>...</td>\n      <td>...</td>\n    </tr>\n    <tr>\n      <th>539</th>\n      <td>0      0.045237\n1      0.035806\n2      0.02514...</td>\n      <td>0      0.341439\n1      0.347612\n2      0.35271...</td>\n      <td>0     -0.386196\n1     -0.381741\n2     -0.37767...</td>\n      <td>0      0.000359\n1      0.000379\n2      0.00005...</td>\n    </tr>\n    <tr>\n      <th>562</th>\n      <td>0     -0.179650\n1     -0.186785\n2     -0.19425...</td>\n      <td>0      0.341001\n1      0.340607\n2      0.34055...</td>\n      <td>0     -0.161014\n1     -0.153341\n2     -0.14657...</td>\n      <td>0     -0.000038\n1      0.000670\n2      0.00031...</td>\n    </tr>\n    <tr>\n      <th>712</th>\n      <td>0     -0.135308\n1     -0.133917\n2     -0.13299...</td>\n      <td>0      0.023621\n1      0.020090\n2      0.01665...</td>\n      <td>0      0.112190\n1      0.113692\n2      0.11618...</td>\n      <td>0      1.047495e-08\n1      1.020776e-08\n2     ...</td>\n    </tr>\n    <tr>\n      <th>611</th>\n      <td>0      0.028178\n1      0.025055\n2      0.02151...</td>\n      <td>0      0.104140\n1      0.106141\n2      0.10909...</td>\n      <td>0     -0.132071\n1     -0.130757\n2     -0.12928...</td>\n      <td>0      0.000061\n1     -0.000115\n2     -0.00005...</td>\n    </tr>\n    <tr>\n      <th>339</th>\n      <td>0     -0.141523\n1     -0.142413\n2     -0.14300...</td>\n      <td>0      0.099148\n1      0.097013\n2      0.09436...</td>\n      <td>0      0.042520\n1      0.045819\n2      0.04896...</td>\n      <td>0      0.000080\n1      0.000052\n2      0.00003...</td>\n    </tr>\n  </tbody>\n</table>\n<p>76 rows × 4 columns</p>\n</div>"
     },
     "metadata": {},
     "execution_count": 56
    }
   ],
   "source": [
    "X_test"
   ]
  },
  {
   "cell_type": "code",
   "execution_count": 57,
   "metadata": {},
   "outputs": [
    {
     "output_type": "execute_result",
     "data": {
      "text/plain": [
       "array(['ABT', 'BT', 'CA', 'BT', 'AT', 'BC', 'CA', 'ABT', 'ABC', 'BC',\n",
       "       'CAT', 'BT', 'CT', 'AB', 'BC', 'CA', 'CA', 'AT', 'CAT', 'AT',\n",
       "       'ABC', 'BC', 'BC', 'BC', 'BT', 'CAT', 'ABC', 'ABT', 'CAT', 'CAT',\n",
       "       'CT', 'BT', 'CAT', 'ABT', 'AT', 'CT', 'CT', 'BT', 'AB', 'ABC',\n",
       "       'ABT', 'BCT', 'CT', 'CA', 'CAT', 'BC', 'ABC', 'ABC', 'BCT', 'BCT',\n",
       "       'AB', 'BCT', 'CT', 'ABT', 'AT', 'CT', 'ABC', 'AT', 'CA', 'BT',\n",
       "       'AB', 'CT', 'ABC', 'AB', 'AB', 'CA', 'BCT', 'ABT', 'BCT', 'AB',\n",
       "       'ABT', 'AT', 'AT', 'CA', 'BCT', 'BCT'], dtype='<U3')"
      ]
     },
     "metadata": {},
     "execution_count": 57
    }
   ],
   "source": [
    "y_test"
   ]
  },
  {
   "cell_type": "code",
   "execution_count": 58,
   "metadata": {},
   "outputs": [],
   "source": [
    "from sklearn.linear_model import RidgeClassifier\n",
    "rocket = MiniRocketMultivariate(num_features=20000, max_dilations_per_kernel=32)\n",
    "rocket.fit(X_train)\n",
    "X_train_transform = rocket.transform(X_train)\n",
    "X_test_transform = rocket.transform(X_test)\n",
    "\n",
    "clf = RidgeClassifier()\n",
    "clf.fit(X_train_transform, y_train)\n",
    "\n",
    "score = clf.score(X_test_transform, y_test)"
   ]
  },
  {
   "cell_type": "code",
   "execution_count": 59,
   "metadata": {},
   "outputs": [
    {
     "output_type": "execute_result",
     "data": {
      "text/plain": [
       "1.0"
      ]
     },
     "metadata": {},
     "execution_count": 59
    }
   ],
   "source": [
    "score"
   ]
  },
  {
   "cell_type": "code",
   "execution_count": 48,
   "metadata": {},
   "outputs": [],
   "source": [
    "import numpy as np\n",
    "from sklearn.model_selection import train_test_split\n",
    "from sklearn.pipeline import Pipeline\n",
    "\n",
    "from sktime.classification.compose import ColumnEnsembleClassifier\n",
    "from sktime.classification.dictionary_based import BOSSEnsemble\n",
    "from sktime.classification.interval_based import TimeSeriesForestClassifier\n",
    "from sktime.classification.shapelet_based import MrSEQLClassifier\n",
    "from sktime.datasets import load_basic_motions\n",
    "from sktime.transformations.panel.compose import ColumnConcatenator"
   ]
  },
  {
   "cell_type": "code",
   "execution_count": 49,
   "metadata": {},
   "outputs": [],
   "source": [
    "steps = [\n",
    "    (\"concatenate\", ColumnConcatenator()),\n",
    "    (\"classify\", TimeSeriesForestClassifier(n_estimators=100)),\n",
    "]"
   ]
  },
  {
   "cell_type": "code",
   "execution_count": 50,
   "metadata": {},
   "outputs": [
    {
     "output_type": "execute_result",
     "data": {
      "text/plain": [
       "0.13333333333333333"
      ]
     },
     "metadata": {},
     "execution_count": 50
    }
   ],
   "source": [
    "clf = Pipeline(steps)\n",
    "clf.fit(X_train, y_train)\n",
    "clf.score(X_test, y_test)"
   ]
  },
  {
   "cell_type": "code",
   "execution_count": null,
   "metadata": {},
   "outputs": [],
   "source": []
  },
  {
   "cell_type": "code",
   "execution_count": null,
   "metadata": {},
   "outputs": [],
   "source": []
  },
  {
   "cell_type": "code",
   "execution_count": 53,
   "metadata": {},
   "outputs": [
    {
     "output_type": "execute_result",
     "data": {
      "text/plain": [
       "array(['CAT', 'BC', 'AT', 'BT', 'ABC', 'BT', 'AB', 'AT', 'ABC', 'BT',\n",
       "       'AT', 'ABC', 'CA', 'BT', 'BT', 'AB', 'CAT', 'AB', 'BT', 'CA', 'CA',\n",
       "       'AB', 'AT', 'ABC', 'BT', 'AB', 'CA', 'CAT', 'CT', 'CT', 'CT',\n",
       "       'ABC', 'BCT', 'CT', 'AB', 'AB', 'CT', 'BCT', 'ABC', 'CA', 'ABC',\n",
       "       'CAT', 'BC', 'ABT', 'AB', 'BC', 'CAT', 'CA', 'ABC', 'CA', 'AT',\n",
       "       'ABT', 'AB', 'BC', 'CAT', 'ABT', 'ABT', 'BCT', 'CA', 'BCT', 'CA',\n",
       "       'CA', 'BCT', 'BCT', 'BCT', 'CAT', 'CAT', 'ABT', 'BC', 'ABT', 'BCT',\n",
       "       'BC', 'BC', 'BC', 'BC'], dtype='<U3')"
      ]
     },
     "metadata": {},
     "execution_count": 53
    }
   ],
   "source": [
    "clf.predict(X_test)"
   ]
  },
  {
   "cell_type": "code",
   "execution_count": 68,
   "metadata": {},
   "outputs": [],
   "source": [
    "X_train = train_X_cycle_1[0]\n",
    "y_train = train_y_cycle_1[0]\n",
    "X_test = test_X_cycle_1[0]\n",
    "y_test = test_y_cycle_1[0]"
   ]
  },
  {
   "cell_type": "code",
   "execution_count": 69,
   "metadata": {},
   "outputs": [
    {
     "output_type": "execute_result",
     "data": {
      "text/plain": [
       "BCT    8\n",
       "CA     8\n",
       "ABT    8\n",
       "ABC    8\n",
       "CT     8\n",
       "AT     8\n",
       "CAT    7\n",
       "BT     7\n",
       "BC     7\n",
       "AB     7\n",
       "dtype: int64"
      ]
     },
     "metadata": {},
     "execution_count": 69
    }
   ],
   "source": [
    "pd.Series(y_test).value_counts()"
   ]
  },
  {
   "cell_type": "code",
   "execution_count": 70,
   "metadata": {},
   "outputs": [
    {
     "output_type": "execute_result",
     "data": {
      "text/plain": [
       "AB     69\n",
       "CAT    68\n",
       "BT     68\n",
       "CA     68\n",
       "BC     68\n",
       "BCT    67\n",
       "AT     67\n",
       "CT     67\n",
       "ABT    67\n",
       "ABC    67\n",
       "dtype: int64"
      ]
     },
     "metadata": {},
     "execution_count": 70
    }
   ],
   "source": [
    "pd.Series(y_train).value_counts()"
   ]
  },
  {
   "cell_type": "code",
   "execution_count": 71,
   "metadata": {},
   "outputs": [],
   "source": [
    "X_train = train_X_cycle_1[1]\n",
    "y_train = train_y_cycle_1[1]\n",
    "X_test = test_X_cycle_1[1]\n",
    "y_test = test_y_cycle_1[1]"
   ]
  },
  {
   "cell_type": "code",
   "execution_count": 72,
   "metadata": {},
   "outputs": [
    {
     "output_type": "execute_result",
     "data": {
      "text/plain": [
       "CT     8\n",
       "ABC    8\n",
       "BT     8\n",
       "BCT    8\n",
       "AT     8\n",
       "CA     7\n",
       "AB     7\n",
       "BC     7\n",
       "ABT    7\n",
       "CAT    7\n",
       "dtype: int64"
      ]
     },
     "metadata": {},
     "execution_count": 72
    }
   ],
   "source": [
    "pd.Series(y_test).value_counts()"
   ]
  },
  {
   "cell_type": "code",
   "execution_count": 73,
   "metadata": {},
   "outputs": [
    {
     "output_type": "execute_result",
     "data": {
      "text/plain": [
       "CA     69\n",
       "AB     68\n",
       "CAT    68\n",
       "BCT    68\n",
       "ABT    68\n",
       "BC     68\n",
       "BT     67\n",
       "AT     67\n",
       "CT     67\n",
       "ABC    67\n",
       "dtype: int64"
      ]
     },
     "metadata": {},
     "execution_count": 73
    }
   ],
   "source": [
    "pd.Series(y_train).value_counts()"
   ]
  },
  {
   "cell_type": "code",
   "execution_count": null,
   "metadata": {},
   "outputs": [],
   "source": []
  }
 ],
 "metadata": {
  "kernelspec": {
   "display_name": "Python 3.8.7 64-bit ('mestrado')",
   "language": "python",
   "name": "python38764bitmestrado93452fa44c9a400d9f916e3ee858cfd5"
  },
  "language_info": {
   "codemirror_mode": {
    "name": "ipython",
    "version": 3
   },
   "file_extension": ".py",
   "mimetype": "text/x-python",
   "name": "python",
   "nbconvert_exporter": "python",
   "pygments_lexer": "ipython3",
   "version": "3.8.7"
  }
 },
 "nbformat": 4,
 "nbformat_minor": 5
}