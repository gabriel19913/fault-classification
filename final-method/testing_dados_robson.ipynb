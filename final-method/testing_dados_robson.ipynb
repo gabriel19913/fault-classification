{
 "cells": [
  {
   "cell_type": "code",
   "execution_count": 1,
   "metadata": {},
   "outputs": [],
   "source": [
    "from glob import glob\n",
    "from itertools import product\n",
    "from noise import add_noise, decompress_pickle\n",
    "import mat73\n",
    "import scipy.io as sio\n",
    "import numpy as np\n",
    "import matplotlib.pyplot as plt\n",
    "import pandas as pd\n",
    "from training_sktime import normalizing, format_dataframe\n",
    "from sklearn.metrics import accuracy_score\n",
    "import pickle\n",
    "MODEL_PATH = './models/new_dataset/'\n",
    "INPUT_DATA_PATH = '../input-data/'"
   ]
  },
  {
   "cell_type": "code",
   "execution_count": 2,
   "metadata": {},
   "outputs": [
    {
     "name": "stdout",
     "output_type": "stream",
     "text": [
      "cycle_32\n",
      "66.75531914893617\n",
      "Erros para o primeiro dataset: 2\n",
      "Erros para o segundo dataset: 123\n",
      "\n",
      "\n",
      "**********\n",
      "cycle_64\n",
      "57.97872340425532\n",
      "Erros para o primeiro dataset: 4\n",
      "Erros para o segundo dataset: 154\n",
      "\n",
      "\n",
      "**********\n",
      "cycle_128\n",
      "53.72340425531915\n",
      "Erros para o primeiro dataset: 5\n",
      "Erros para o segundo dataset: 169\n",
      "\n",
      "\n",
      "**********\n"
     ]
    }
   ],
   "source": [
    "signal = 'i'\n",
    "# cycle = 'cycle_32'\n",
    "\n",
    "for cycle in ['cycle_32', 'cycle_64', 'cycle_128']:\n",
    "    X_train_flavio = decompress_pickle(INPUT_DATA_PATH + f'folds/{signal}/{cycle}/X_train')\n",
    "    X_val_flavio = decompress_pickle(INPUT_DATA_PATH + f'folds/{signal}/{cycle}/X_val')\n",
    "    y_val_flavio = decompress_pickle(INPUT_DATA_PATH + f'folds/{signal}/{cycle}/y_val')\n",
    "\n",
    "    X_train_robson = decompress_pickle(INPUT_DATA_PATH + f'folds-robson/{signal}/{cycle}/X_train')\n",
    "    X_val_robson = decompress_pickle(INPUT_DATA_PATH + f'folds-robson/{signal}/{cycle}/X_val')\n",
    "    y_val_robson = decompress_pickle(INPUT_DATA_PATH + f'folds-robson/{signal}/{cycle}/y_val')\n",
    "\n",
    "    X_train = pd.concat([X_train_flavio, X_train_robson]).reset_index(drop=True)\n",
    "    X_val = pd.concat([X_val_flavio, X_val_robson]).reset_index(drop=True)\n",
    "    y_val = np.concatenate([y_val_flavio, y_val_robson])\n",
    "            \n",
    "    max_cycle_1 = pickle.load(open(MODEL_PATH + f'minirocket_{cycle}_max_values.pkl', 'rb'))\n",
    "    minirocket = pickle.load(open(MODEL_PATH + f'minirocket_{cycle}.pkl', 'rb'))\n",
    "    model = pickle.load(open(MODEL_PATH + f'minirocket_classifier_{cycle}.pkl', 'rb'))\n",
    "    X_val_norm = normalizing(X_val, max_cycle_1)\n",
    "    X_trans = minirocket.transform(X_val_norm)\n",
    "    y_pred = model.predict(X_trans)\n",
    "    \n",
    "    print(cycle)\n",
    "    print(accuracy_score(y_val, y_pred) * 100)\n",
    "    indexes = np.where((y_val == y_pred) == False)[0]\n",
    "    first_dataset = (indexes <= 187).sum()\n",
    "    second_dataset = len(indexes) - first_dataset\n",
    "    print(f'Erros para o primeiro dataset: {first_dataset}')\n",
    "    print(f'Erros para o segundo dataset: {second_dataset}')\n",
    "    print('\\n')\n",
    "    print('*'*10)"
   ]
  },
  {
   "cell_type": "code",
   "execution_count": 5,
   "metadata": {},
   "outputs": [
    {
     "data": {
      "text/plain": [
       "5"
      ]
     },
     "execution_count": 5,
     "metadata": {},
     "output_type": "execute_result"
    }
   ],
   "source": [
    "(np.where((y_val == y_pred) == False)[0] <= 187).sum()"
   ]
  },
  {
   "cell_type": "code",
   "execution_count": 3,
   "metadata": {},
   "outputs": [
    {
     "data": {
      "text/plain": [
       "66.75531914893617"
      ]
     },
     "execution_count": 3,
     "metadata": {},
     "output_type": "execute_result"
    }
   ],
   "source": []
  },
  {
   "cell_type": "code",
   "execution_count": 4,
   "metadata": {},
   "outputs": [
    {
     "data": {
      "text/plain": [
       "188"
      ]
     },
     "metadata": {},
     "output_type": "display_data"
    },
    {
     "data": {
      "text/plain": [
       "188"
      ]
     },
     "metadata": {},
     "output_type": "display_data"
    },
    {
     "data": {
      "text/plain": [
       "376"
      ]
     },
     "metadata": {},
     "output_type": "display_data"
    }
   ],
   "source": [
    "display(len(y_val_flavio))\n",
    "display(len(y_val_robson))\n",
    "display(len(y_val))"
   ]
  },
  {
   "cell_type": "code",
   "execution_count": 6,
   "metadata": {},
   "outputs": [
    {
     "data": {
      "text/plain": [
       "array([ 17, 140, 188, 189, 190, 191, 192, 193, 194, 196, 197, 198, 199,\n",
       "       200, 202, 203, 204, 205, 206, 207, 208, 210, 213, 214, 216, 217,\n",
       "       220, 221, 222, 223, 224, 226, 228, 229, 230, 231, 232, 233, 234,\n",
       "       235, 236, 237, 239, 240, 243, 244, 245, 246, 247, 248, 249, 252,\n",
       "       253, 256, 259, 260, 261, 265, 266, 268, 269, 270, 273, 275, 276,\n",
       "       277, 279, 280, 281, 282, 283, 284, 285, 286, 288, 291, 292, 293,\n",
       "       296, 297, 298, 300, 302, 303, 305, 307, 308, 310, 311, 312, 313,\n",
       "       315, 316, 317, 318, 320, 326, 328, 329, 330, 331, 334, 335, 336,\n",
       "       340, 342, 343, 349, 350, 351, 352, 353, 354, 356, 357, 359, 360,\n",
       "       362, 363, 364, 366, 367, 370, 371, 374])"
      ]
     },
     "execution_count": 6,
     "metadata": {},
     "output_type": "execute_result"
    }
   ],
   "source": [
    "np.where((y_val == y_pred) == False)[0]"
   ]
  },
  {
   "cell_type": "code",
   "execution_count": null,
   "metadata": {},
   "outputs": [],
   "source": []
  },
  {
   "cell_type": "code",
   "execution_count": 4,
   "metadata": {},
   "outputs": [
    {
     "ename": "ValueError",
     "evalue": "2 columns passed, passed data had 376 columns",
     "output_type": "error",
     "traceback": [
      "\u001b[0;31m---------------------------------------------------------------------------\u001b[0m",
      "\u001b[0;31mAssertionError\u001b[0m                            Traceback (most recent call last)",
      "\u001b[0;32m~/.pyenv/versions/3.8.7/envs/mestrado/lib/python3.8/site-packages/pandas/core/internals/construction.py\u001b[0m in \u001b[0;36m_list_to_arrays\u001b[0;34m(data, columns, coerce_float, dtype)\u001b[0m\n\u001b[1;32m    567\u001b[0m     \u001b[0;32mtry\u001b[0m\u001b[0;34m:\u001b[0m\u001b[0;34m\u001b[0m\u001b[0;34m\u001b[0m\u001b[0m\n\u001b[0;32m--> 568\u001b[0;31m         \u001b[0mcolumns\u001b[0m \u001b[0;34m=\u001b[0m \u001b[0m_validate_or_indexify_columns\u001b[0m\u001b[0;34m(\u001b[0m\u001b[0mcontent\u001b[0m\u001b[0;34m,\u001b[0m \u001b[0mcolumns\u001b[0m\u001b[0;34m)\u001b[0m\u001b[0;34m\u001b[0m\u001b[0;34m\u001b[0m\u001b[0m\n\u001b[0m\u001b[1;32m    569\u001b[0m         \u001b[0mresult\u001b[0m \u001b[0;34m=\u001b[0m \u001b[0m_convert_object_array\u001b[0m\u001b[0;34m(\u001b[0m\u001b[0mcontent\u001b[0m\u001b[0;34m,\u001b[0m \u001b[0mdtype\u001b[0m\u001b[0;34m=\u001b[0m\u001b[0mdtype\u001b[0m\u001b[0;34m,\u001b[0m \u001b[0mcoerce_float\u001b[0m\u001b[0;34m=\u001b[0m\u001b[0mcoerce_float\u001b[0m\u001b[0;34m)\u001b[0m\u001b[0;34m\u001b[0m\u001b[0;34m\u001b[0m\u001b[0m\n",
      "\u001b[0;32m~/.pyenv/versions/3.8.7/envs/mestrado/lib/python3.8/site-packages/pandas/core/internals/construction.py\u001b[0m in \u001b[0;36m_validate_or_indexify_columns\u001b[0;34m(content, columns)\u001b[0m\n\u001b[1;32m    691\u001b[0m             \u001b[0;31m# caller's responsibility to check for this...\u001b[0m\u001b[0;34m\u001b[0m\u001b[0;34m\u001b[0m\u001b[0;34m\u001b[0m\u001b[0m\n\u001b[0;32m--> 692\u001b[0;31m             raise AssertionError(\n\u001b[0m\u001b[1;32m    693\u001b[0m                 \u001b[0;34mf\"{len(columns)} columns passed, passed data had \"\u001b[0m\u001b[0;34m\u001b[0m\u001b[0;34m\u001b[0m\u001b[0m\n",
      "\u001b[0;31mAssertionError\u001b[0m: 2 columns passed, passed data had 376 columns",
      "\nThe above exception was the direct cause of the following exception:\n",
      "\u001b[0;31mValueError\u001b[0m                                Traceback (most recent call last)",
      "\u001b[0;32m<ipython-input-4-00015772d013>\u001b[0m in \u001b[0;36m<module>\u001b[0;34m\u001b[0m\n\u001b[0;32m----> 1\u001b[0;31m \u001b[0mpd\u001b[0m\u001b[0;34m.\u001b[0m\u001b[0mDataFrame\u001b[0m\u001b[0;34m(\u001b[0m\u001b[0;34m[\u001b[0m\u001b[0my_val\u001b[0m\u001b[0;34m,\u001b[0m \u001b[0my_pred\u001b[0m\u001b[0;34m]\u001b[0m\u001b[0;34m,\u001b[0m \u001b[0mcolumns\u001b[0m\u001b[0;34m=\u001b[0m\u001b[0;34m[\u001b[0m\u001b[0;34m'True'\u001b[0m\u001b[0;34m,\u001b[0m \u001b[0;34m'Predicted'\u001b[0m\u001b[0;34m]\u001b[0m\u001b[0;34m)\u001b[0m\u001b[0;34m\u001b[0m\u001b[0;34m\u001b[0m\u001b[0m\n\u001b[0m",
      "\u001b[0;32m~/.pyenv/versions/3.8.7/envs/mestrado/lib/python3.8/site-packages/pandas/core/frame.py\u001b[0m in \u001b[0;36m__init__\u001b[0;34m(self, data, index, columns, dtype, copy)\u001b[0m\n\u001b[1;32m    568\u001b[0m                     \u001b[0;32mif\u001b[0m \u001b[0mis_named_tuple\u001b[0m\u001b[0;34m(\u001b[0m\u001b[0mdata\u001b[0m\u001b[0;34m[\u001b[0m\u001b[0;36m0\u001b[0m\u001b[0;34m]\u001b[0m\u001b[0;34m)\u001b[0m \u001b[0;32mand\u001b[0m \u001b[0mcolumns\u001b[0m \u001b[0;32mis\u001b[0m \u001b[0;32mNone\u001b[0m\u001b[0;34m:\u001b[0m\u001b[0;34m\u001b[0m\u001b[0;34m\u001b[0m\u001b[0m\n\u001b[1;32m    569\u001b[0m                         \u001b[0mcolumns\u001b[0m \u001b[0;34m=\u001b[0m \u001b[0mdata\u001b[0m\u001b[0;34m[\u001b[0m\u001b[0;36m0\u001b[0m\u001b[0;34m]\u001b[0m\u001b[0;34m.\u001b[0m\u001b[0m_fields\u001b[0m\u001b[0;34m\u001b[0m\u001b[0;34m\u001b[0m\u001b[0m\n\u001b[0;32m--> 570\u001b[0;31m                     \u001b[0marrays\u001b[0m\u001b[0;34m,\u001b[0m \u001b[0mcolumns\u001b[0m \u001b[0;34m=\u001b[0m \u001b[0mto_arrays\u001b[0m\u001b[0;34m(\u001b[0m\u001b[0mdata\u001b[0m\u001b[0;34m,\u001b[0m \u001b[0mcolumns\u001b[0m\u001b[0;34m,\u001b[0m \u001b[0mdtype\u001b[0m\u001b[0;34m=\u001b[0m\u001b[0mdtype\u001b[0m\u001b[0;34m)\u001b[0m\u001b[0;34m\u001b[0m\u001b[0;34m\u001b[0m\u001b[0m\n\u001b[0m\u001b[1;32m    571\u001b[0m                     \u001b[0mcolumns\u001b[0m \u001b[0;34m=\u001b[0m \u001b[0mensure_index\u001b[0m\u001b[0;34m(\u001b[0m\u001b[0mcolumns\u001b[0m\u001b[0;34m)\u001b[0m\u001b[0;34m\u001b[0m\u001b[0;34m\u001b[0m\u001b[0m\n\u001b[1;32m    572\u001b[0m \u001b[0;34m\u001b[0m\u001b[0m\n",
      "\u001b[0;32m~/.pyenv/versions/3.8.7/envs/mestrado/lib/python3.8/site-packages/pandas/core/internals/construction.py\u001b[0m in \u001b[0;36mto_arrays\u001b[0;34m(data, columns, coerce_float, dtype)\u001b[0m\n\u001b[1;32m    550\u001b[0m         \u001b[0;31m# last ditch effort\u001b[0m\u001b[0;34m\u001b[0m\u001b[0;34m\u001b[0m\u001b[0;34m\u001b[0m\u001b[0m\n\u001b[1;32m    551\u001b[0m         \u001b[0mdata\u001b[0m \u001b[0;34m=\u001b[0m \u001b[0;34m[\u001b[0m\u001b[0mtuple\u001b[0m\u001b[0;34m(\u001b[0m\u001b[0mx\u001b[0m\u001b[0;34m)\u001b[0m \u001b[0;32mfor\u001b[0m \u001b[0mx\u001b[0m \u001b[0;32min\u001b[0m \u001b[0mdata\u001b[0m\u001b[0;34m]\u001b[0m\u001b[0;34m\u001b[0m\u001b[0;34m\u001b[0m\u001b[0m\n\u001b[0;32m--> 552\u001b[0;31m         \u001b[0;32mreturn\u001b[0m \u001b[0m_list_to_arrays\u001b[0m\u001b[0;34m(\u001b[0m\u001b[0mdata\u001b[0m\u001b[0;34m,\u001b[0m \u001b[0mcolumns\u001b[0m\u001b[0;34m,\u001b[0m \u001b[0mcoerce_float\u001b[0m\u001b[0;34m=\u001b[0m\u001b[0mcoerce_float\u001b[0m\u001b[0;34m,\u001b[0m \u001b[0mdtype\u001b[0m\u001b[0;34m=\u001b[0m\u001b[0mdtype\u001b[0m\u001b[0;34m)\u001b[0m\u001b[0;34m\u001b[0m\u001b[0;34m\u001b[0m\u001b[0m\n\u001b[0m\u001b[1;32m    553\u001b[0m \u001b[0;34m\u001b[0m\u001b[0m\n\u001b[1;32m    554\u001b[0m \u001b[0;34m\u001b[0m\u001b[0m\n",
      "\u001b[0;32m~/.pyenv/versions/3.8.7/envs/mestrado/lib/python3.8/site-packages/pandas/core/internals/construction.py\u001b[0m in \u001b[0;36m_list_to_arrays\u001b[0;34m(data, columns, coerce_float, dtype)\u001b[0m\n\u001b[1;32m    569\u001b[0m         \u001b[0mresult\u001b[0m \u001b[0;34m=\u001b[0m \u001b[0m_convert_object_array\u001b[0m\u001b[0;34m(\u001b[0m\u001b[0mcontent\u001b[0m\u001b[0;34m,\u001b[0m \u001b[0mdtype\u001b[0m\u001b[0;34m=\u001b[0m\u001b[0mdtype\u001b[0m\u001b[0;34m,\u001b[0m \u001b[0mcoerce_float\u001b[0m\u001b[0;34m=\u001b[0m\u001b[0mcoerce_float\u001b[0m\u001b[0;34m)\u001b[0m\u001b[0;34m\u001b[0m\u001b[0;34m\u001b[0m\u001b[0m\n\u001b[1;32m    570\u001b[0m     \u001b[0;32mexcept\u001b[0m \u001b[0mAssertionError\u001b[0m \u001b[0;32mas\u001b[0m \u001b[0me\u001b[0m\u001b[0;34m:\u001b[0m\u001b[0;34m\u001b[0m\u001b[0;34m\u001b[0m\u001b[0m\n\u001b[0;32m--> 571\u001b[0;31m         \u001b[0;32mraise\u001b[0m \u001b[0mValueError\u001b[0m\u001b[0;34m(\u001b[0m\u001b[0me\u001b[0m\u001b[0;34m)\u001b[0m \u001b[0;32mfrom\u001b[0m \u001b[0me\u001b[0m\u001b[0;34m\u001b[0m\u001b[0;34m\u001b[0m\u001b[0m\n\u001b[0m\u001b[1;32m    572\u001b[0m     \u001b[0;32mreturn\u001b[0m \u001b[0mresult\u001b[0m\u001b[0;34m,\u001b[0m \u001b[0mcolumns\u001b[0m\u001b[0;34m\u001b[0m\u001b[0;34m\u001b[0m\u001b[0m\n\u001b[1;32m    573\u001b[0m \u001b[0;34m\u001b[0m\u001b[0m\n",
      "\u001b[0;31mValueError\u001b[0m: 2 columns passed, passed data had 376 columns"
     ]
    }
   ],
   "source": [
    "pd.DataFrame([y_val, y_pred], columns=['True', 'Predicted'])"
   ]
  },
  {
   "cell_type": "code",
   "execution_count": null,
   "metadata": {},
   "outputs": [],
   "source": []
  },
  {
   "cell_type": "code",
   "execution_count": 6,
   "metadata": {},
   "outputs": [
    {
     "data": {
      "text/plain": [
       "RidgeClassifierCV(alphas=array([1.00000000e-03, 4.64158883e-03, 2.15443469e-02, 1.00000000e-01,\n",
       "       4.64158883e-01, 2.15443469e+00, 1.00000000e+01, 4.64158883e+01,\n",
       "       2.15443469e+02, 1.00000000e+03]),\n",
       "                  normalize=True)"
      ]
     },
     "execution_count": 6,
     "metadata": {},
     "output_type": "execute_result"
    }
   ],
   "source": [
    "model"
   ]
  },
  {
   "cell_type": "code",
   "execution_count": 14,
   "metadata": {},
   "outputs": [],
   "source": [
    "X_trans = minirocket.transform(X_val_norm)\n",
    "\n",
    "y_pred = model.predict(X_trans)"
   ]
  },
  {
   "cell_type": "code",
   "execution_count": 18,
   "metadata": {},
   "outputs": [
    {
     "data": {
      "text/plain": [
       "9.574468085106384"
      ]
     },
     "execution_count": 18,
     "metadata": {},
     "output_type": "execute_result"
    }
   ],
   "source": [
    "\n",
    "accuracy_score(y_val, y_pred)"
   ]
  },
  {
   "cell_type": "code",
   "execution_count": null,
   "metadata": {},
   "outputs": [],
   "source": []
  },
  {
   "cell_type": "code",
   "execution_count": null,
   "metadata": {},
   "outputs": [],
   "source": []
  },
  {
   "cell_type": "code",
   "execution_count": null,
   "metadata": {},
   "outputs": [],
   "source": []
  },
  {
   "cell_type": "code",
   "execution_count": null,
   "metadata": {},
   "outputs": [],
   "source": []
  },
  {
   "cell_type": "markdown",
   "metadata": {},
   "source": [
    "# Testando antes"
   ]
  },
  {
   "cell_type": "code",
   "execution_count": 2,
   "metadata": {},
   "outputs": [],
   "source": [
    "path = '../input-data/dados_robson/Sinais_Robson/'\n",
    "files = glob(path + '*.mat')"
   ]
  },
  {
   "cell_type": "code",
   "execution_count": 3,
   "metadata": {},
   "outputs": [],
   "source": [
    "disparo = [file for file in files if 'disparo' in file ][0]"
   ]
  },
  {
   "cell_type": "code",
   "execution_count": 4,
   "metadata": {},
   "outputs": [],
   "source": [
    "for i, file in enumerate(files):\n",
    "    if 'disparo' in file:\n",
    "        disparo = file\n",
    "        del files[i]"
   ]
  },
  {
   "cell_type": "code",
   "execution_count": 5,
   "metadata": {},
   "outputs": [],
   "source": [
    "distance = range(3)\n",
    "resistance = range(3)\n",
    "compensation = range(4)\n",
    "angle = range(19)\n",
    "\n",
    "indexes = list(product(distance, resistance, compensation, angle))"
   ]
  },
  {
   "cell_type": "code",
   "execution_count": 6,
   "metadata": {},
   "outputs": [],
   "source": [
    "i_v = 'I'\n",
    "signal_dict = {}\n",
    "for file in files:\n",
    "    data = mat73.loadmat(file)\n",
    "    fault_type = file.split('_')[-1].split('.')[0]\n",
    "    signal = data[f'{i_v}_{fault_type}']\n",
    "    signals = []\n",
    "    for i in indexes:\n",
    "        # Adiciona ruído\n",
    "        phase = signal[:,:, i[0], i[1], i[2], i[3]]\n",
    "        noiseA = add_noise(phase[:, 0], 60)\n",
    "        noiseB = add_noise(phase[:, 1], 60)\n",
    "        noiseC = add_noise(phase[:, 2], 60)\n",
    "        three_phase_signal = np.vstack((noiseA, noiseB, noiseC)).T\n",
    "        signals.append({i[3]: three_phase_signal})\n",
    "    signal_dict[fault_type] = signals"
   ]
  },
  {
   "cell_type": "code",
   "execution_count": 7,
   "metadata": {},
   "outputs": [],
   "source": [
    "angle_dict = {}\n",
    "for i, item in enumerate(sio.loadmat(disparo)['Flt_trip']):\n",
    "    value = np.where(item[:-1] != item[1:])[0][0]\n",
    "    angle_dict[i] = value"
   ]
  },
  {
   "cell_type": "code",
   "execution_count": 8,
   "metadata": {},
   "outputs": [],
   "source": [
    "detected_signal_dict = {}\n",
    "for key in signal_dict.keys():\n",
    "    detected_signals = []\n",
    "    for item in signal_dict[key]:\n",
    "        a = list(item.keys())[0]\n",
    "        index = angle_dict[a]\n",
    "        # Pega 1/4 pré falta e 1 ciclo pós falta\n",
    "        detected_signal = item[a][index-64:index+256]\n",
    "        detected_signals.append(detected_signal)\n",
    "    detected_signal_dict[key] = detected_signals"
   ]
  },
  {
   "cell_type": "code",
   "execution_count": 9,
   "metadata": {},
   "outputs": [
    {
     "data": {
      "text/plain": [
       "dict_keys(['BCG', 'BC', 'ABG', 'CA', 'CG', 'AG', 'CAG', 'BG', 'AB', 'ABC'])"
      ]
     },
     "execution_count": 9,
     "metadata": {},
     "output_type": "execute_result"
    }
   ],
   "source": [
    "detected_signal_dict.keys()"
   ]
  },
  {
   "cell_type": "code",
   "execution_count": 10,
   "metadata": {},
   "outputs": [
    {
     "data": {
      "text/plain": [
       "(320, 3)"
      ]
     },
     "execution_count": 10,
     "metadata": {},
     "output_type": "execute_result"
    }
   ],
   "source": [
    "detected_signal_dict['ABG'][0].shape"
   ]
  },
  {
   "cell_type": "code",
   "execution_count": 11,
   "metadata": {},
   "outputs": [
    {
     "data": {
      "image/png": "[encoded data removed]",
      "text/plain": [
       "<Figure size 432x288 with 1 Axes>"
      ]
     },
     "metadata": {
      "needs_background": "light"
     },
     "output_type": "display_data"
    }
   ],
   "source": [
    "plt.plot(detected_signal_dict['ABG'][0]);"
   ]
  },
  {
   "cell_type": "code",
   "execution_count": 12,
   "metadata": {},
   "outputs": [],
   "source": [
    "MODEL_PATH = './models/'"
   ]
  },
  {
   "cell_type": "code",
   "execution_count": 13,
   "metadata": {},
   "outputs": [],
   "source": [
    "import pickle\n",
    "a = pickle.load(open(MODEL_PATH + 'minirocket_cycle_1_max_values.pkl', 'rb'))"
   ]
  },
  {
   "cell_type": "code",
   "execution_count": 14,
   "metadata": {},
   "outputs": [],
   "source": [
    "signal_1cycle = []\n",
    "for key in detected_signal_dict.keys():\n",
    "    s = detected_signal_dict[key]\n",
    "    fault_type = key\n",
    "    for i, item in enumerate(s):\n",
    "        Xa = item[:, 0]\n",
    "        Xb = item[:, 1]\n",
    "        Xc = item[:, 2]\n",
    "        Xz = Xa + Xb + Xc\n",
    "        X = normalizing({'A': Xa, 'B': Xb, 'C': Xc, 'Z': Xz}, a)\n",
    "        stacked_signal = np.hstack([X['A'], X['B'], X['C'], X['Z']])\n",
    "        signal_1cycle.append({'signal': stacked_signal, 'fault_type': fault_type})"
   ]
  },
  {
   "cell_type": "code",
   "execution_count": 15,
   "metadata": {},
   "outputs": [
    {
     "data": {
      "text/plain": [
       "6840"
      ]
     },
     "execution_count": 15,
     "metadata": {},
     "output_type": "execute_result"
    }
   ],
   "source": [
    "len(signal_1cycle)"
   ]
  },
  {
   "cell_type": "code",
   "execution_count": 16,
   "metadata": {},
   "outputs": [
    {
     "data": {
      "text/plain": [
       "dict_keys(['signal', 'fault_type'])"
      ]
     },
     "execution_count": 16,
     "metadata": {},
     "output_type": "execute_result"
    }
   ],
   "source": [
    "signal_1cycle[0].keys()"
   ]
  },
  {
   "cell_type": "code",
   "execution_count": 17,
   "metadata": {},
   "outputs": [
    {
     "name": "stdout",
     "output_type": "stream",
     "text": [
      "BCG\n"
     ]
    },
    {
     "data": {
      "image/png": "[encoded data removed]",
      "text/plain": [
       "<Figure size 432x288 with 1 Axes>"
      ]
     },
     "metadata": {
      "needs_background": "light"
     },
     "output_type": "display_data"
    }
   ],
   "source": [
    "print(signal_1cycle[0]['fault_type'])\n",
    "plt.plot(signal_1cycle[0]['signal'][:320]);\n",
    "plt.plot(signal_1cycle[0]['signal'][320:640]);\n",
    "plt.plot(signal_1cycle[0]['signal'][640:960]);\n",
    "# plt.plot(signal_1cycle[0]['signal'][960:1280]);"
   ]
  },
  {
   "cell_type": "code",
   "execution_count": 18,
   "metadata": {},
   "outputs": [],
   "source": [
    "data_list = []\n",
    "target_list = []\n",
    "for d in signal_1cycle:\n",
    "    data_list.append(format_dataframe(d['signal']))\n",
    "    target_list.append(d['fault_type'])\n",
    "X = pd.concat(data_list).reset_index(drop=True)\n",
    "y = np.array(target_list)"
   ]
  },
  {
   "cell_type": "code",
   "execution_count": 19,
   "metadata": {},
   "outputs": [
    {
     "data": {
      "text/plain": [
       "array(['BCG', 'BCG', 'BCG', ..., 'ABC', 'ABC', 'ABC'], dtype='<U3')"
      ]
     },
     "execution_count": 19,
     "metadata": {},
     "output_type": "execute_result"
    }
   ],
   "source": [
    "y"
   ]
  },
  {
   "cell_type": "code",
   "execution_count": 20,
   "metadata": {},
   "outputs": [
    {
     "data": {
      "text/html": [
       "<div>\n",
       "<style scoped>\n",
       "    .dataframe tbody tr th:only-of-type {\n",
       "        vertical-align: middle;\n",
       "    }\n",
       "\n",
       "    .dataframe tbody tr th {\n",
       "        vertical-align: top;\n",
       "    }\n",
       "\n",
       "    .dataframe thead th {\n",
       "        text-align: right;\n",
       "    }\n",
       "</style>\n",
       "<table border=\"1\" class=\"dataframe\">\n",
       "  <thead>\n",
       "    <tr style=\"text-align: right;\">\n",
       "      <th></th>\n",
       "      <th>A</th>\n",
       "      <th>B</th>\n",
       "      <th>C</th>\n",
       "      <th>Z</th>\n",
       "    </tr>\n",
       "  </thead>\n",
       "  <tbody>\n",
       "    <tr>\n",
       "      <th>0</th>\n",
       "      <td>0      0.156751\n",
       "1      0.157302\n",
       "2      0.15812...</td>\n",
       "      <td>0     -0.107558\n",
       "1     -0.100911\n",
       "2     -0.09886...</td>\n",
       "      <td>0     -0.050333\n",
       "1     -0.054994\n",
       "2     -0.05827...</td>\n",
       "      <td>0     -0.002195\n",
       "1      0.002790\n",
       "2      0.00201...</td>\n",
       "    </tr>\n",
       "    <tr>\n",
       "      <th>1</th>\n",
       "      <td>0      0.159641\n",
       "1      0.159349\n",
       "2      0.15946...</td>\n",
       "      <td>0     -0.079632\n",
       "1     -0.076608\n",
       "2     -0.07013...</td>\n",
       "      <td>0     -0.080219\n",
       "1     -0.083299\n",
       "2     -0.08733...</td>\n",
       "      <td>0     -0.000290\n",
       "1     -0.000963\n",
       "2      0.00405...</td>\n",
       "    </tr>\n",
       "    <tr>\n",
       "      <th>2</th>\n",
       "      <td>0      0.157078\n",
       "1      0.156431\n",
       "2      0.15520...</td>\n",
       "      <td>0     -0.053764\n",
       "1     -0.050868\n",
       "2     -0.04573...</td>\n",
       "      <td>0     -0.103887\n",
       "1     -0.105501\n",
       "2     -0.10832...</td>\n",
       "      <td>0     -0.000932\n",
       "1      0.000317\n",
       "2      0.00243...</td>\n",
       "    </tr>\n",
       "    <tr>\n",
       "      <th>3</th>\n",
       "      <td>0      0.150021\n",
       "1      0.148668\n",
       "2      0.14688...</td>\n",
       "      <td>0     -0.025884\n",
       "1     -0.024340\n",
       "2     -0.02121...</td>\n",
       "      <td>0     -0.121566\n",
       "1     -0.124431\n",
       "2     -0.12684...</td>\n",
       "      <td>0      0.005283\n",
       "1      0.000052\n",
       "2     -0.00205...</td>\n",
       "    </tr>\n",
       "    <tr>\n",
       "      <th>4</th>\n",
       "      <td>0      0.138476\n",
       "1      0.136509\n",
       "2      0.13433...</td>\n",
       "      <td>0      0.001216\n",
       "1      0.003683\n",
       "2      0.00822...</td>\n",
       "      <td>0     -0.138651\n",
       "1     -0.140146\n",
       "2     -0.14158...</td>\n",
       "      <td>0      0.002341\n",
       "1      0.000398\n",
       "2      0.00221...</td>\n",
       "    </tr>\n",
       "    <tr>\n",
       "      <th>...</th>\n",
       "      <td>...</td>\n",
       "      <td>...</td>\n",
       "      <td>...</td>\n",
       "      <td>...</td>\n",
       "    </tr>\n",
       "    <tr>\n",
       "      <th>6835</th>\n",
       "      <td>0     -0.102127\n",
       "1     -0.105179\n",
       "2     -0.10809...</td>\n",
       "      <td>0      0.157417\n",
       "1      0.156708\n",
       "2      0.15593...</td>\n",
       "      <td>0     -0.055146\n",
       "1     -0.051768\n",
       "2     -0.04802...</td>\n",
       "      <td>0      0.000507\n",
       "1     -0.000253\n",
       "2     -0.00016...</td>\n",
       "    </tr>\n",
       "    <tr>\n",
       "      <th>6836</th>\n",
       "      <td>0     -0.121561\n",
       "1     -0.124110\n",
       "2     -0.12657...</td>\n",
       "      <td>0      0.150601\n",
       "1      0.149002\n",
       "2      0.14758...</td>\n",
       "      <td>0     -0.028940\n",
       "1     -0.025005\n",
       "2     -0.02110...</td>\n",
       "      <td>0      0.000359\n",
       "1     -0.000069\n",
       "2     -0.00005...</td>\n",
       "    </tr>\n",
       "    <tr>\n",
       "      <th>6837</th>\n",
       "      <td>0     -0.137615\n",
       "1     -0.139387\n",
       "2     -0.14131...</td>\n",
       "      <td>0      0.139023\n",
       "1      0.137136\n",
       "2      0.13506...</td>\n",
       "      <td>0     -0.001615\n",
       "1      0.002376\n",
       "2      0.00634...</td>\n",
       "      <td>0     -0.000310\n",
       "1      0.000331\n",
       "2      0.00026...</td>\n",
       "    </tr>\n",
       "    <tr>\n",
       "      <th>6838</th>\n",
       "      <td>0     -0.149435\n",
       "1     -0.150673\n",
       "2     -0.15213...</td>\n",
       "      <td>0      0.123472\n",
       "1      0.120966\n",
       "2      0.11837...</td>\n",
       "      <td>0      0.025879\n",
       "1      0.029667\n",
       "2      0.03353...</td>\n",
       "      <td>0     -0.000139\n",
       "1     -0.000063\n",
       "2     -0.00042...</td>\n",
       "    </tr>\n",
       "    <tr>\n",
       "      <th>6839</th>\n",
       "      <td>0     -0.156862\n",
       "1     -0.157657\n",
       "2     -0.15818...</td>\n",
       "      <td>0      0.104519\n",
       "1      0.101296\n",
       "2      0.09837...</td>\n",
       "      <td>0      0.052422\n",
       "1      0.056186\n",
       "2      0.05966...</td>\n",
       "      <td>0      0.000110\n",
       "1     -0.000398\n",
       "2     -0.00036...</td>\n",
       "    </tr>\n",
       "  </tbody>\n",
       "</table>\n",
       "<p>6840 rows × 4 columns</p>\n",
       "</div>"
      ],
      "text/plain": [
       "                                                      A  \\\n",
       "0     0      0.156751\n",
       "1      0.157302\n",
       "2      0.15812...   \n",
       "1     0      0.159641\n",
       "1      0.159349\n",
       "2      0.15946...   \n",
       "2     0      0.157078\n",
       "1      0.156431\n",
       "2      0.15520...   \n",
       "3     0      0.150021\n",
       "1      0.148668\n",
       "2      0.14688...   \n",
       "4     0      0.138476\n",
       "1      0.136509\n",
       "2      0.13433...   \n",
       "...                                                 ...   \n",
       "6835  0     -0.102127\n",
       "1     -0.105179\n",
       "2     -0.10809...   \n",
       "6836  0     -0.121561\n",
       "1     -0.124110\n",
       "2     -0.12657...   \n",
       "6837  0     -0.137615\n",
       "1     -0.139387\n",
       "2     -0.14131...   \n",
       "6838  0     -0.149435\n",
       "1     -0.150673\n",
       "2     -0.15213...   \n",
       "6839  0     -0.156862\n",
       "1     -0.157657\n",
       "2     -0.15818...   \n",
       "\n",
       "                                                      B  \\\n",
       "0     0     -0.107558\n",
       "1     -0.100911\n",
       "2     -0.09886...   \n",
       "1     0     -0.079632\n",
       "1     -0.076608\n",
       "2     -0.07013...   \n",
       "2     0     -0.053764\n",
       "1     -0.050868\n",
       "2     -0.04573...   \n",
       "3     0     -0.025884\n",
       "1     -0.024340\n",
       "2     -0.02121...   \n",
       "4     0      0.001216\n",
       "1      0.003683\n",
       "2      0.00822...   \n",
       "...                                                 ...   \n",
       "6835  0      0.157417\n",
       "1      0.156708\n",
       "2      0.15593...   \n",
       "6836  0      0.150601\n",
       "1      0.149002\n",
       "2      0.14758...   \n",
       "6837  0      0.139023\n",
       "1      0.137136\n",
       "2      0.13506...   \n",
       "6838  0      0.123472\n",
       "1      0.120966\n",
       "2      0.11837...   \n",
       "6839  0      0.104519\n",
       "1      0.101296\n",
       "2      0.09837...   \n",
       "\n",
       "                                                      C  \\\n",
       "0     0     -0.050333\n",
       "1     -0.054994\n",
       "2     -0.05827...   \n",
       "1     0     -0.080219\n",
       "1     -0.083299\n",
       "2     -0.08733...   \n",
       "2     0     -0.103887\n",
       "1     -0.105501\n",
       "2     -0.10832...   \n",
       "3     0     -0.121566\n",
       "1     -0.124431\n",
       "2     -0.12684...   \n",
       "4     0     -0.138651\n",
       "1     -0.140146\n",
       "2     -0.14158...   \n",
       "...                                                 ...   \n",
       "6835  0     -0.055146\n",
       "1     -0.051768\n",
       "2     -0.04802...   \n",
       "6836  0     -0.028940\n",
       "1     -0.025005\n",
       "2     -0.02110...   \n",
       "6837  0     -0.001615\n",
       "1      0.002376\n",
       "2      0.00634...   \n",
       "6838  0      0.025879\n",
       "1      0.029667\n",
       "2      0.03353...   \n",
       "6839  0      0.052422\n",
       "1      0.056186\n",
       "2      0.05966...   \n",
       "\n",
       "                                                      Z  \n",
       "0     0     -0.002195\n",
       "1      0.002790\n",
       "2      0.00201...  \n",
       "1     0     -0.000290\n",
       "1     -0.000963\n",
       "2      0.00405...  \n",
       "2     0     -0.000932\n",
       "1      0.000317\n",
       "2      0.00243...  \n",
       "3     0      0.005283\n",
       "1      0.000052\n",
       "2     -0.00205...  \n",
       "4     0      0.002341\n",
       "1      0.000398\n",
       "2      0.00221...  \n",
       "...                                                 ...  \n",
       "6835  0      0.000507\n",
       "1     -0.000253\n",
       "2     -0.00016...  \n",
       "6836  0      0.000359\n",
       "1     -0.000069\n",
       "2     -0.00005...  \n",
       "6837  0     -0.000310\n",
       "1      0.000331\n",
       "2      0.00026...  \n",
       "6838  0     -0.000139\n",
       "1     -0.000063\n",
       "2     -0.00042...  \n",
       "6839  0      0.000110\n",
       "1     -0.000398\n",
       "2     -0.00036...  \n",
       "\n",
       "[6840 rows x 4 columns]"
      ]
     },
     "execution_count": 20,
     "metadata": {},
     "output_type": "execute_result"
    }
   ],
   "source": [
    "X"
   ]
  },
  {
   "cell_type": "code",
   "execution_count": 21,
   "metadata": {},
   "outputs": [],
   "source": [
    "X['y'] = y"
   ]
  },
  {
   "cell_type": "code",
   "execution_count": 22,
   "metadata": {},
   "outputs": [],
   "source": [
    "X = X.sample(frac = 1).reset_index(drop=True)\n",
    "y = X['y'].values\n",
    "X = X.drop(columns='y')"
   ]
  },
  {
   "cell_type": "code",
   "execution_count": 23,
   "metadata": {},
   "outputs": [],
   "source": [
    "minirocket = pickle.load(open(MODEL_PATH + 'minirocket_cycle_1.pkl', 'rb'))"
   ]
  },
  {
   "cell_type": "code",
   "execution_count": 24,
   "metadata": {},
   "outputs": [
    {
     "data": {
      "text/plain": [
       "MiniRocketMultivariate(random_state=42)"
      ]
     },
     "execution_count": 24,
     "metadata": {},
     "output_type": "execute_result"
    }
   ],
   "source": [
    "minirocket"
   ]
  },
  {
   "cell_type": "code",
   "execution_count": 28,
   "metadata": {},
   "outputs": [],
   "source": [
    "X_trans = minirocket.transform(X)"
   ]
  },
  {
   "cell_type": "code",
   "execution_count": 29,
   "metadata": {},
   "outputs": [],
   "source": [
    "model = pickle.load(open(MODEL_PATH + 'minirocket_classifier_cycle_1.pkl', 'rb'))\n",
    "y_pred = model.predict(X_trans)"
   ]
  },
  {
   "cell_type": "code",
   "execution_count": 30,
   "metadata": {},
   "outputs": [
    {
     "data": {
      "text/plain": [
       "array(['AB', 'AB', 'AT', ..., 'BCT', 'CAT', 'BCT'], dtype='<U3')"
      ]
     },
     "execution_count": 30,
     "metadata": {},
     "output_type": "execute_result"
    }
   ],
   "source": [
    "y_pred"
   ]
  },
  {
   "cell_type": "code",
   "execution_count": 34,
   "metadata": {},
   "outputs": [],
   "source": [
    "y = np.array(list(map(lambda x: x.replace('G', 'T'), y)))"
   ]
  },
  {
   "cell_type": "code",
   "execution_count": 36,
   "metadata": {},
   "outputs": [
    {
     "data": {
      "text/plain": [
       "3262"
      ]
     },
     "execution_count": 36,
     "metadata": {},
     "output_type": "execute_result"
    }
   ],
   "source": [
    "from sklearn.metrics import accuracy_score\n",
    "accuracy_score(y, y_pred, normalize=False)"
   ]
  },
  {
   "cell_type": "code",
   "execution_count": null,
   "metadata": {},
   "outputs": [],
   "source": []
  }
 ],
 "metadata": {
  "interpreter": {
   "hash": "3bc6884c7bbd22f1bda6f4218e2a6ec5e650e2e0dc8622ce5d2ea70b578015ec"
  },
  "kernelspec": {
   "display_name": "Python 3.8.7 64-bit ('mestrado': pyenv)",
   "name": "python3"
  },
  "language_info": {
   "codemirror_mode": {
    "name": "ipython",
    "version": 3
   },
   "file_extension": ".py",
   "mimetype": "text/x-python",
   "name": "python",
   "nbconvert_exporter": "python",
   "pygments_lexer": "ipython3",
   "version": "3.8.7"
  },
  "orig_nbformat": 4
 },
 "nbformat": 4,
 "nbformat_minor": 2
}
