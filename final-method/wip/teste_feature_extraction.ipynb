{
 "cells": [
  {
   "cell_type": "code",
   "execution_count": 1,
   "id": "503d0e6e-637c-4a2d-90f5-472b4c885779",
   "metadata": {},
   "outputs": [],
   "source": [
    "from noise import decompress_pickle\n",
    "import matplotlib.pyplot as plt\n",
    "import numpy as np\n",
    "from sklearn.decomposition import FastICA, PCA\n",
    "import plotly.io as pio\n",
    "import plotly.graph_objects as go\n",
    "from scipy.fft import rfft, rfftfreq\n",
    "import numpy as np\n",
    "from sklearn.decomposition import PCA\n",
    "\n",
    "pio.renderers.default = 'iframe' # or 'notebook' or 'colab'\n",
    "\n",
    "INPUT_DATA_PATH = '../input-data/'\n",
    "data = decompress_pickle(INPUT_DATA_PATH + 'cycle_data')"
   ]
  },
  {
   "cell_type": "code",
   "execution_count": 2,
   "id": "434dec90-f882-4885-98ca-435f47cce49f",
   "metadata": {},
   "outputs": [],
   "source": [
    "def gen_component_fft(signal):\n",
    "    complement = np.zeros(512 - signal.shape[0])\n",
    "    new_signal = np.concatenate((signal, complement))\n",
    "    yf = rfft(new_signal)\n",
    "    xf = rfftfreq(new_signal.shape[0], 1 / 15360)\n",
    "    \n",
    "    max_y = np.max(np.abs(yf))\n",
    "    index = np.where(np.abs(yf) == max_y)[0][0]\n",
    "    common_freq = xf[index]\n",
    "    return xf, np.abs(yf), common_freq, max_y"
   ]
  },
  {
   "cell_type": "code",
   "execution_count": 4,
   "id": "cc202b74-df65-4f29-a720-5be4f6a9ffad",
   "metadata": {},
   "outputs": [],
   "source": [
    "sample = data[4]\n",
    "cols = int(sample['i_cycle_1'].shape[0] / 4)\n",
    "X = sample['i_cycle_1'].reshape((4, cols)).T\n",
    "pca = PCA(n_components=4)\n",
    "c_ = pca.fit_transform(X)"
   ]
  },
  {
   "cell_type": "code",
   "execution_count": 6,
   "id": "f2f79437-39fb-481c-9c7a-b7d91d475620",
   "metadata": {},
   "outputs": [
    {
     "data": {
      "text/plain": [
       "(320, 4)"
      ]
     },
     "execution_count": 6,
     "metadata": {},
     "output_type": "execute_result"
    }
   ],
   "source": [
    "c_.shape"
   ]
  },
  {
   "cell_type": "code",
   "execution_count": 7,
   "id": "5569eb6e-bcdd-4246-bd33-3650aff92993",
   "metadata": {},
   "outputs": [],
   "source": [
    "xf, yf, cf, max_y = gen_component_fft(c_[:,0])"
   ]
  },
  {
   "cell_type": "code",
   "execution_count": 8,
   "id": "3c9e7690-57a9-4202-a766-2ddfb655833e",
   "metadata": {},
   "outputs": [
    {
     "data": {
      "text/plain": [
       "array([   0.,   30.,   60.,   90.,  120.,  150.,  180.,  210.,  240.,\n",
       "        270.,  300.,  330.,  360.,  390.,  420.,  450.,  480.,  510.,\n",
       "        540.,  570.,  600.,  630.,  660.,  690.,  720.,  750.,  780.,\n",
       "        810.,  840.,  870.,  900.,  930.,  960.,  990., 1020., 1050.,\n",
       "       1080., 1110., 1140., 1170., 1200., 1230., 1260., 1290., 1320.,\n",
       "       1350., 1380., 1410., 1440., 1470., 1500., 1530., 1560., 1590.,\n",
       "       1620., 1650., 1680., 1710., 1740., 1770., 1800., 1830., 1860.,\n",
       "       1890., 1920., 1950., 1980., 2010., 2040., 2070., 2100., 2130.,\n",
       "       2160., 2190., 2220., 2250., 2280., 2310., 2340., 2370., 2400.,\n",
       "       2430., 2460., 2490., 2520., 2550., 2580., 2610., 2640., 2670.,\n",
       "       2700., 2730., 2760., 2790., 2820., 2850., 2880., 2910., 2940.,\n",
       "       2970., 3000., 3030., 3060., 3090., 3120., 3150., 3180., 3210.,\n",
       "       3240., 3270., 3300., 3330., 3360., 3390., 3420., 3450., 3480.,\n",
       "       3510., 3540., 3570., 3600., 3630., 3660., 3690., 3720., 3750.,\n",
       "       3780., 3810., 3840., 3870., 3900., 3930., 3960., 3990., 4020.,\n",
       "       4050., 4080., 4110., 4140., 4170., 4200., 4230., 4260., 4290.,\n",
       "       4320., 4350., 4380., 4410., 4440., 4470., 4500., 4530., 4560.,\n",
       "       4590., 4620., 4650., 4680., 4710., 4740., 4770., 4800., 4830.,\n",
       "       4860., 4890., 4920., 4950., 4980., 5010., 5040., 5070., 5100.,\n",
       "       5130., 5160., 5190., 5220., 5250., 5280., 5310., 5340., 5370.,\n",
       "       5400., 5430., 5460., 5490., 5520., 5550., 5580., 5610., 5640.,\n",
       "       5670., 5700., 5730., 5760., 5790., 5820., 5850., 5880., 5910.,\n",
       "       5940., 5970., 6000., 6030., 6060., 6090., 6120., 6150., 6180.,\n",
       "       6210., 6240., 6270., 6300., 6330., 6360., 6390., 6420., 6450.,\n",
       "       6480., 6510., 6540., 6570., 6600., 6630., 6660., 6690., 6720.,\n",
       "       6750., 6780., 6810., 6840., 6870., 6900., 6930., 6960., 6990.,\n",
       "       7020., 7050., 7080., 7110., 7140., 7170., 7200., 7230., 7260.,\n",
       "       7290., 7320., 7350., 7380., 7410., 7440., 7470., 7500., 7530.,\n",
       "       7560., 7590., 7620., 7650., 7680.])"
      ]
     },
     "execution_count": 8,
     "metadata": {},
     "output_type": "execute_result"
    }
   ],
   "source": [
    "xf"
   ]
  },
  {
   "cell_type": "code",
   "execution_count": null,
   "id": "02668d19-5ecd-4e60-99db-d35a06f1b33b",
   "metadata": {},
   "outputs": [],
   "source": []
  }
 ],
 "metadata": {
  "kernelspec": {
   "display_name": "Python 3.8.7 64-bit ('mestrado')",
   "language": "python",
   "name": "python38764bitmestrado93452fa44c9a400d9f916e3ee858cfd5"
  },
  "language_info": {
   "codemirror_mode": {
    "name": "ipython",
    "version": 3
   },
   "file_extension": ".py",
   "mimetype": "text/x-python",
   "name": "python",
   "nbconvert_exporter": "python",
   "pygments_lexer": "ipython3",
   "version": "3.8.7"
  }
 },
 "nbformat": 4,
 "nbformat_minor": 5
}
