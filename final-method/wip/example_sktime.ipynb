{
 "cells": [
  {
   "cell_type": "code",
   "execution_count": 54,
   "id": "a66a5cb5-5d80-4c63-a1ea-4f23f1b68eb3",
   "metadata": {},
   "outputs": [],
   "source": [
    "import numpy as np  \n",
    "from sklearn.linear_model import RidgeClassifierCV  \n",
    "from sktime.datasets import load_arrow_head  # univariate dataset\n",
    "from sktime.datasets.base import load_japanese_vowels \n",
    "from sktime.transformations.panel.rocket import Rocket, MiniRocket, MiniRocketMultivariate\n",
    "import matplotlib.pyplot as plt"
   ]
  },
  {
   "cell_type": "markdown",
   "id": "270e77b5-0a8e-433c-8555-f6aa9e9ee21a",
   "metadata": {},
   "source": [
    "# Examples"
   ]
  },
  {
   "cell_type": "markdown",
   "id": "45b42afd-bf07-475f-9981-dc371922da07",
   "metadata": {},
   "source": [
    "## Rocket univariate"
   ]
  },
  {
   "cell_type": "code",
   "execution_count": 21,
   "id": "538f5a37-f3f8-453c-95c3-73705bc45105",
   "metadata": {},
   "outputs": [
    {
     "name": "stdout",
     "output_type": "stream",
     "text": [
      "(175, 1) (36, 1)\n"
     ]
    }
   ],
   "source": [
    "X_train, y_train = load_arrow_head(split=\"test\", return_X_y=True)  \n",
    "X_test, y_test = load_arrow_head(split=\"train\", return_X_y=True)  \n",
    "print(X_train.shape, X_test.shape)"
   ]
  },
  {
   "cell_type": "code",
   "execution_count": 28,
   "id": "62a52b77-4e6f-4bd6-b6d1-d19552063fd4",
   "metadata": {},
   "outputs": [
    {
     "data": {
      "text/plain": [
       "[<matplotlib.lines.Line2D at 0x7fe26bb1d070>]"
      ]
     },
     "execution_count": 28,
     "metadata": {},
     "output_type": "execute_result"
    },
    {
     "data": {
      "image/png": "[encoded data removed]",
      "text/plain": [
       "<Figure size 432x288 with 1 Axes>"
      ]
     },
     "metadata": {
      "needs_background": "light"
     },
     "output_type": "display_data"
    }
   ],
   "source": [
    "plt.plot(X_train['dim_0'].iloc[10])"
   ]
  },
  {
   "cell_type": "code",
   "execution_count": 30,
   "id": "0ba489b4-127b-4033-86ef-bee557b65160",
   "metadata": {},
   "outputs": [
    {
     "data": {
      "text/plain": [
       "(251,)"
      ]
     },
     "execution_count": 30,
     "metadata": {},
     "output_type": "execute_result"
    }
   ],
   "source": [
    "X_train['dim_0'].iloc[10].shape"
   ]
  },
  {
   "cell_type": "code",
   "execution_count": 31,
   "id": "1c354855-7a15-4799-8a2f-bfbe2cffdbb4",
   "metadata": {},
   "outputs": [
    {
     "data": {
      "text/html": [
       "<div>\n",
       "<style scoped>\n",
       "    .dataframe tbody tr th:only-of-type {\n",
       "        vertical-align: middle;\n",
       "    }\n",
       "\n",
       "    .dataframe tbody tr th {\n",
       "        vertical-align: top;\n",
       "    }\n",
       "\n",
       "    .dataframe thead th {\n",
       "        text-align: right;\n",
       "    }\n",
       "</style>\n",
       "<table border=\"1\" class=\"dataframe\">\n",
       "  <thead>\n",
       "    <tr style=\"text-align: right;\">\n",
       "      <th></th>\n",
       "      <th>dim_0</th>\n",
       "    </tr>\n",
       "  </thead>\n",
       "  <tbody>\n",
       "    <tr>\n",
       "      <th>0</th>\n",
       "      <td>0     -1.9078\n",
       "1     -1.9049\n",
       "2     -1.8886\n",
       "3   ...</td>\n",
       "    </tr>\n",
       "    <tr>\n",
       "      <th>1</th>\n",
       "      <td>0     -1.8299\n",
       "1     -1.8085\n",
       "2     -1.7958\n",
       "3   ...</td>\n",
       "    </tr>\n",
       "    <tr>\n",
       "      <th>2</th>\n",
       "      <td>0     -1.8016\n",
       "1     -1.7757\n",
       "2     -1.7285\n",
       "3   ...</td>\n",
       "    </tr>\n",
       "    <tr>\n",
       "      <th>3</th>\n",
       "      <td>0     -1.8857\n",
       "1     -1.8552\n",
       "2     -1.8452\n",
       "3   ...</td>\n",
       "    </tr>\n",
       "    <tr>\n",
       "      <th>4</th>\n",
       "      <td>0     -1.9591\n",
       "1     -1.9749\n",
       "2     -1.9714\n",
       "3   ...</td>\n",
       "    </tr>\n",
       "  </tbody>\n",
       "</table>\n",
       "</div>"
      ],
      "text/plain": [
       "                                               dim_0\n",
       "0  0     -1.9078\n",
       "1     -1.9049\n",
       "2     -1.8886\n",
       "3   ...\n",
       "1  0     -1.8299\n",
       "1     -1.8085\n",
       "2     -1.7958\n",
       "3   ...\n",
       "2  0     -1.8016\n",
       "1     -1.7757\n",
       "2     -1.7285\n",
       "3   ...\n",
       "3  0     -1.8857\n",
       "1     -1.8552\n",
       "2     -1.8452\n",
       "3   ...\n",
       "4  0     -1.9591\n",
       "1     -1.9749\n",
       "2     -1.9714\n",
       "3   ..."
      ]
     },
     "execution_count": 31,
     "metadata": {},
     "output_type": "execute_result"
    }
   ],
   "source": [
    "X_train.head()"
   ]
  },
  {
   "cell_type": "code",
   "execution_count": 32,
   "id": "5d4aa250-3143-47f7-9e1a-44fcfad0747f",
   "metadata": {},
   "outputs": [
    {
     "data": {
      "text/plain": [
       "(175, 20000)"
      ]
     },
     "execution_count": 32,
     "metadata": {},
     "output_type": "execute_result"
    }
   ],
   "source": [
    "rocket = Rocket(num_kernels=10000, random_state=111)   \n",
    "rocket.fit(X_train)  \n",
    "X_train_transform = rocket.transform(X_train)  \n",
    "X_train_transform.shape"
   ]
  },
  {
   "cell_type": "code",
   "execution_count": 33,
   "id": "d4e0e801-0269-4c91-819b-84fa0c3db493",
   "metadata": {},
   "outputs": [
    {
     "data": {
      "text/plain": [
       "RidgeClassifierCV(alphas=array([1.00000000e-03, 4.64158883e-03, 2.15443469e-02, 1.00000000e-01,\n",
       "       4.64158883e-01, 2.15443469e+00, 1.00000000e+01, 4.64158883e+01,\n",
       "       2.15443469e+02, 1.00000000e+03]),\n",
       "                  normalize=True)"
      ]
     },
     "execution_count": 33,
     "metadata": {},
     "output_type": "execute_result"
    }
   ],
   "source": [
    "classifier = RidgeClassifierCV(alphas=np.logspace(-3, 3, 10), normalize=True)  \n",
    "classifier.fit(X_train_transform, y_train)"
   ]
  },
  {
   "cell_type": "code",
   "execution_count": 34,
   "id": "be6ed5f7-0133-4b39-93e5-274d71f7192b",
   "metadata": {},
   "outputs": [
    {
     "data": {
      "text/plain": [
       "0.9166666666666666"
      ]
     },
     "execution_count": 34,
     "metadata": {},
     "output_type": "execute_result"
    }
   ],
   "source": [
    "X_test_transform = rocket.transform(X_test)  \n",
    "classifier.score(X_test_transform, y_test)"
   ]
  },
  {
   "cell_type": "markdown",
   "id": "1ef9f430-be2e-4fa7-9f61-d4dce24f96c7",
   "metadata": {},
   "source": [
    "## Rocket multivariate"
   ]
  },
  {
   "cell_type": "code",
   "execution_count": 35,
   "id": "6b383d6f-b04d-4b6c-9cb4-fe93d9dc9269",
   "metadata": {},
   "outputs": [],
   "source": [
    "X_train, y_train = load_japanese_vowels(split=\"train\", return_X_y=True)"
   ]
  },
  {
   "cell_type": "code",
   "execution_count": 36,
   "id": "10df7d5a-a105-4136-bdc8-f2def382cb4f",
   "metadata": {},
   "outputs": [
    {
     "data": {
      "text/plain": [
       "(270, 12)"
      ]
     },
     "execution_count": 36,
     "metadata": {},
     "output_type": "execute_result"
    }
   ],
   "source": [
    "X_train.shape"
   ]
  },
  {
   "cell_type": "code",
   "execution_count": 37,
   "id": "73bdf3db-b143-42f8-bd0e-66d13328156a",
   "metadata": {},
   "outputs": [
    {
     "data": {
      "text/plain": [
       "(270,)"
      ]
     },
     "execution_count": 37,
     "metadata": {},
     "output_type": "execute_result"
    }
   ],
   "source": [
    "X_train['dim_1'].shape"
   ]
  },
  {
   "cell_type": "code",
   "execution_count": 38,
   "id": "332e4ede-d034-4a48-b0a8-634a8b21a3d0",
   "metadata": {},
   "outputs": [
    {
     "data": {
      "text/html": [
       "<div>\n",
       "<style scoped>\n",
       "    .dataframe tbody tr th:only-of-type {\n",
       "        vertical-align: middle;\n",
       "    }\n",
       "\n",
       "    .dataframe tbody tr th {\n",
       "        vertical-align: top;\n",
       "    }\n",
       "\n",
       "    .dataframe thead th {\n",
       "        text-align: right;\n",
       "    }\n",
       "</style>\n",
       "<table border=\"1\" class=\"dataframe\">\n",
       "  <thead>\n",
       "    <tr style=\"text-align: right;\">\n",
       "      <th></th>\n",
       "      <th>dim_0</th>\n",
       "      <th>dim_1</th>\n",
       "      <th>dim_2</th>\n",
       "      <th>dim_3</th>\n",
       "      <th>dim_4</th>\n",
       "      <th>dim_5</th>\n",
       "      <th>dim_6</th>\n",
       "      <th>dim_7</th>\n",
       "      <th>dim_8</th>\n",
       "      <th>dim_9</th>\n",
       "      <th>dim_10</th>\n",
       "      <th>dim_11</th>\n",
       "    </tr>\n",
       "  </thead>\n",
       "  <tbody>\n",
       "    <tr>\n",
       "      <th>0</th>\n",
       "      <td>0     1.860936\n",
       "1     1.891651\n",
       "2     1.939205\n",
       "3...</td>\n",
       "      <td>0    -0.207383\n",
       "1    -0.193249\n",
       "2    -0.239664\n",
       "3...</td>\n",
       "      <td>0     0.261557\n",
       "1     0.235363\n",
       "2     0.258561\n",
       "3...</td>\n",
       "      <td>0    -0.214562\n",
       "1    -0.249118\n",
       "2    -0.291458\n",
       "3...</td>\n",
       "      <td>0    -0.171253\n",
       "1    -0.112890\n",
       "2    -0.041053\n",
       "3...</td>\n",
       "      <td>0    -0.118167\n",
       "1    -0.112238\n",
       "2    -0.102034\n",
       "3...</td>\n",
       "      <td>0    -0.277557\n",
       "1    -0.311997\n",
       "2    -0.383300\n",
       "3...</td>\n",
       "      <td>0     0.025668\n",
       "1    -0.027122\n",
       "2     0.019013\n",
       "3...</td>\n",
       "      <td>0     0.126701\n",
       "1     0.171457\n",
       "2     0.169510\n",
       "3...</td>\n",
       "      <td>0    -0.306756\n",
       "1    -0.289431\n",
       "2    -0.314894\n",
       "3...</td>\n",
       "      <td>0    -0.213076\n",
       "1    -0.247722\n",
       "2    -0.227908\n",
       "3...</td>\n",
       "      <td>0     0.088728\n",
       "1     0.093011\n",
       "2     0.074638\n",
       "3...</td>\n",
       "    </tr>\n",
       "    <tr>\n",
       "      <th>1</th>\n",
       "      <td>0     1.303905\n",
       "1     1.288280\n",
       "2     1.332021\n",
       "3...</td>\n",
       "      <td>0     0.067256\n",
       "1     0.018672\n",
       "2    -0.058744\n",
       "3...</td>\n",
       "      <td>0     0.597720\n",
       "1     0.631579\n",
       "2     0.601928\n",
       "3...</td>\n",
       "      <td>0    -0.271474\n",
       "1    -0.355112\n",
       "2    -0.347913\n",
       "3...</td>\n",
       "      <td>0    -0.236808\n",
       "1    -0.119216\n",
       "2    -0.053463\n",
       "3...</td>\n",
       "      <td>0    -0.411125\n",
       "1    -0.434425\n",
       "2    -0.421753\n",
       "3...</td>\n",
       "      <td>0    -0.014826\n",
       "1    -0.078036\n",
       "2    -0.028479\n",
       "3...</td>\n",
       "      <td>0     0.113175\n",
       "1     0.178121\n",
       "2     0.145073\n",
       "3...</td>\n",
       "      <td>0    -0.058230\n",
       "1    -0.106430\n",
       "2    -0.159488\n",
       "3...</td>\n",
       "      <td>0    -0.173138\n",
       "1    -0.181910\n",
       "2    -0.127751\n",
       "3...</td>\n",
       "      <td>0     0.093058\n",
       "1     0.093031\n",
       "2     0.019092\n",
       "3...</td>\n",
       "      <td>0     0.099247\n",
       "1     0.099183\n",
       "2     0.113546\n",
       "3...</td>\n",
       "    </tr>\n",
       "    <tr>\n",
       "      <th>2</th>\n",
       "      <td>0     1.462484\n",
       "1     1.309815\n",
       "2     1.418207\n",
       "3...</td>\n",
       "      <td>0     0.174066\n",
       "1     0.120183\n",
       "2     0.015721\n",
       "3...</td>\n",
       "      <td>0     0.505133\n",
       "1     0.503046\n",
       "2     0.589994\n",
       "3...</td>\n",
       "      <td>0    -0.374302\n",
       "1    -0.327562\n",
       "2    -0.310586\n",
       "3...</td>\n",
       "      <td>0    -0.362125\n",
       "1    -0.356789\n",
       "2    -0.477019\n",
       "3...</td>\n",
       "      <td>0    -0.400335\n",
       "1    -0.445498\n",
       "2    -0.367101\n",
       "3...</td>\n",
       "      <td>0    -0.137429\n",
       "1    -0.060423\n",
       "2    -0.120849\n",
       "3...</td>\n",
       "      <td>0    -0.000830\n",
       "1    -0.007899\n",
       "2     0.066952\n",
       "3...</td>\n",
       "      <td>0     0.053888\n",
       "1     0.041605\n",
       "2    -0.023859\n",
       "3...</td>\n",
       "      <td>0    -0.237630\n",
       "1    -0.231087\n",
       "2    -0.224317\n",
       "3...</td>\n",
       "      <td>0     0.120636\n",
       "1     0.121053\n",
       "2     0.175298\n",
       "3...</td>\n",
       "      <td>0     0.193254\n",
       "1     0.202386\n",
       "2     0.156670\n",
       "3...</td>\n",
       "    </tr>\n",
       "    <tr>\n",
       "      <th>3</th>\n",
       "      <td>0     1.160837\n",
       "1     1.217979\n",
       "2     1.234654\n",
       "3...</td>\n",
       "      <td>0     0.078806\n",
       "1    -0.043693\n",
       "2    -0.107083\n",
       "3...</td>\n",
       "      <td>0     0.237706\n",
       "1     0.378571\n",
       "2     0.504189\n",
       "3...</td>\n",
       "      <td>0    -0.010878\n",
       "1    -0.055125\n",
       "2    -0.151549\n",
       "3...</td>\n",
       "      <td>0    -0.393053\n",
       "1    -0.399601\n",
       "2    -0.409837\n",
       "3...</td>\n",
       "      <td>0    -0.744686\n",
       "1    -0.756213\n",
       "2    -0.666554\n",
       "3...</td>\n",
       "      <td>0     0.173073\n",
       "1     0.189754\n",
       "2     0.176855\n",
       "3...</td>\n",
       "      <td>0    -0.012922\n",
       "1     0.014265\n",
       "2     0.024257\n",
       "3...</td>\n",
       "      <td>0    -0.071948\n",
       "1    -0.099093\n",
       "2    -0.085188\n",
       "3...</td>\n",
       "      <td>0     0.028707\n",
       "1     0.038970\n",
       "2     0.005654\n",
       "3...</td>\n",
       "      <td>0     0.074820\n",
       "1     0.049702\n",
       "2    -0.007566\n",
       "3...</td>\n",
       "      <td>0     0.146297\n",
       "1     0.164537\n",
       "2     0.168465\n",
       "3...</td>\n",
       "    </tr>\n",
       "    <tr>\n",
       "      <th>4</th>\n",
       "      <td>0     1.665670\n",
       "1     1.685376\n",
       "2     1.541171\n",
       "3...</td>\n",
       "      <td>0    -0.251224\n",
       "1    -0.305126\n",
       "2    -0.238987\n",
       "3...</td>\n",
       "      <td>0     0.309710\n",
       "1     0.339418\n",
       "2     0.295073\n",
       "3...</td>\n",
       "      <td>0    -0.371666\n",
       "1    -0.455499\n",
       "2    -0.447638\n",
       "3...</td>\n",
       "      <td>0    -0.311727\n",
       "1    -0.259315\n",
       "2    -0.200163\n",
       "3...</td>\n",
       "      <td>0    -0.520932\n",
       "1    -0.502600\n",
       "2    -0.495071\n",
       "3...</td>\n",
       "      <td>0    -0.215930\n",
       "1    -0.195365\n",
       "2    -0.189373\n",
       "3...</td>\n",
       "      <td>0     0.255584\n",
       "1     0.185427\n",
       "2     0.123212\n",
       "3...</td>\n",
       "      <td>0     0.048732\n",
       "1     0.076114\n",
       "2     0.130086\n",
       "3...</td>\n",
       "      <td>0    -0.115333\n",
       "1    -0.106838\n",
       "2    -0.125721\n",
       "3...</td>\n",
       "      <td>0     0.063014\n",
       "1    -0.036998\n",
       "2    -0.100226\n",
       "3...</td>\n",
       "      <td>0     0.156787\n",
       "1     0.200715\n",
       "2     0.232676\n",
       "3...</td>\n",
       "    </tr>\n",
       "  </tbody>\n",
       "</table>\n",
       "</div>"
      ],
      "text/plain": [
       "                                               dim_0  \\\n",
       "0  0     1.860936\n",
       "1     1.891651\n",
       "2     1.939205\n",
       "3...   \n",
       "1  0     1.303905\n",
       "1     1.288280\n",
       "2     1.332021\n",
       "3...   \n",
       "2  0     1.462484\n",
       "1     1.309815\n",
       "2     1.418207\n",
       "3...   \n",
       "3  0     1.160837\n",
       "1     1.217979\n",
       "2     1.234654\n",
       "3...   \n",
       "4  0     1.665670\n",
       "1     1.685376\n",
       "2     1.541171\n",
       "3...   \n",
       "\n",
       "                                               dim_1  \\\n",
       "0  0    -0.207383\n",
       "1    -0.193249\n",
       "2    -0.239664\n",
       "3...   \n",
       "1  0     0.067256\n",
       "1     0.018672\n",
       "2    -0.058744\n",
       "3...   \n",
       "2  0     0.174066\n",
       "1     0.120183\n",
       "2     0.015721\n",
       "3...   \n",
       "3  0     0.078806\n",
       "1    -0.043693\n",
       "2    -0.107083\n",
       "3...   \n",
       "4  0    -0.251224\n",
       "1    -0.305126\n",
       "2    -0.238987\n",
       "3...   \n",
       "\n",
       "                                               dim_2  \\\n",
       "0  0     0.261557\n",
       "1     0.235363\n",
       "2     0.258561\n",
       "3...   \n",
       "1  0     0.597720\n",
       "1     0.631579\n",
       "2     0.601928\n",
       "3...   \n",
       "2  0     0.505133\n",
       "1     0.503046\n",
       "2     0.589994\n",
       "3...   \n",
       "3  0     0.237706\n",
       "1     0.378571\n",
       "2     0.504189\n",
       "3...   \n",
       "4  0     0.309710\n",
       "1     0.339418\n",
       "2     0.295073\n",
       "3...   \n",
       "\n",
       "                                               dim_3  \\\n",
       "0  0    -0.214562\n",
       "1    -0.249118\n",
       "2    -0.291458\n",
       "3...   \n",
       "1  0    -0.271474\n",
       "1    -0.355112\n",
       "2    -0.347913\n",
       "3...   \n",
       "2  0    -0.374302\n",
       "1    -0.327562\n",
       "2    -0.310586\n",
       "3...   \n",
       "3  0    -0.010878\n",
       "1    -0.055125\n",
       "2    -0.151549\n",
       "3...   \n",
       "4  0    -0.371666\n",
       "1    -0.455499\n",
       "2    -0.447638\n",
       "3...   \n",
       "\n",
       "                                               dim_4  \\\n",
       "0  0    -0.171253\n",
       "1    -0.112890\n",
       "2    -0.041053\n",
       "3...   \n",
       "1  0    -0.236808\n",
       "1    -0.119216\n",
       "2    -0.053463\n",
       "3...   \n",
       "2  0    -0.362125\n",
       "1    -0.356789\n",
       "2    -0.477019\n",
       "3...   \n",
       "3  0    -0.393053\n",
       "1    -0.399601\n",
       "2    -0.409837\n",
       "3...   \n",
       "4  0    -0.311727\n",
       "1    -0.259315\n",
       "2    -0.200163\n",
       "3...   \n",
       "\n",
       "                                               dim_5  \\\n",
       "0  0    -0.118167\n",
       "1    -0.112238\n",
       "2    -0.102034\n",
       "3...   \n",
       "1  0    -0.411125\n",
       "1    -0.434425\n",
       "2    -0.421753\n",
       "3...   \n",
       "2  0    -0.400335\n",
       "1    -0.445498\n",
       "2    -0.367101\n",
       "3...   \n",
       "3  0    -0.744686\n",
       "1    -0.756213\n",
       "2    -0.666554\n",
       "3...   \n",
       "4  0    -0.520932\n",
       "1    -0.502600\n",
       "2    -0.495071\n",
       "3...   \n",
       "\n",
       "                                               dim_6  \\\n",
       "0  0    -0.277557\n",
       "1    -0.311997\n",
       "2    -0.383300\n",
       "3...   \n",
       "1  0    -0.014826\n",
       "1    -0.078036\n",
       "2    -0.028479\n",
       "3...   \n",
       "2  0    -0.137429\n",
       "1    -0.060423\n",
       "2    -0.120849\n",
       "3...   \n",
       "3  0     0.173073\n",
       "1     0.189754\n",
       "2     0.176855\n",
       "3...   \n",
       "4  0    -0.215930\n",
       "1    -0.195365\n",
       "2    -0.189373\n",
       "3...   \n",
       "\n",
       "                                               dim_7  \\\n",
       "0  0     0.025668\n",
       "1    -0.027122\n",
       "2     0.019013\n",
       "3...   \n",
       "1  0     0.113175\n",
       "1     0.178121\n",
       "2     0.145073\n",
       "3...   \n",
       "2  0    -0.000830\n",
       "1    -0.007899\n",
       "2     0.066952\n",
       "3...   \n",
       "3  0    -0.012922\n",
       "1     0.014265\n",
       "2     0.024257\n",
       "3...   \n",
       "4  0     0.255584\n",
       "1     0.185427\n",
       "2     0.123212\n",
       "3...   \n",
       "\n",
       "                                               dim_8  \\\n",
       "0  0     0.126701\n",
       "1     0.171457\n",
       "2     0.169510\n",
       "3...   \n",
       "1  0    -0.058230\n",
       "1    -0.106430\n",
       "2    -0.159488\n",
       "3...   \n",
       "2  0     0.053888\n",
       "1     0.041605\n",
       "2    -0.023859\n",
       "3...   \n",
       "3  0    -0.071948\n",
       "1    -0.099093\n",
       "2    -0.085188\n",
       "3...   \n",
       "4  0     0.048732\n",
       "1     0.076114\n",
       "2     0.130086\n",
       "3...   \n",
       "\n",
       "                                               dim_9  \\\n",
       "0  0    -0.306756\n",
       "1    -0.289431\n",
       "2    -0.314894\n",
       "3...   \n",
       "1  0    -0.173138\n",
       "1    -0.181910\n",
       "2    -0.127751\n",
       "3...   \n",
       "2  0    -0.237630\n",
       "1    -0.231087\n",
       "2    -0.224317\n",
       "3...   \n",
       "3  0     0.028707\n",
       "1     0.038970\n",
       "2     0.005654\n",
       "3...   \n",
       "4  0    -0.115333\n",
       "1    -0.106838\n",
       "2    -0.125721\n",
       "3...   \n",
       "\n",
       "                                              dim_10  \\\n",
       "0  0    -0.213076\n",
       "1    -0.247722\n",
       "2    -0.227908\n",
       "3...   \n",
       "1  0     0.093058\n",
       "1     0.093031\n",
       "2     0.019092\n",
       "3...   \n",
       "2  0     0.120636\n",
       "1     0.121053\n",
       "2     0.175298\n",
       "3...   \n",
       "3  0     0.074820\n",
       "1     0.049702\n",
       "2    -0.007566\n",
       "3...   \n",
       "4  0     0.063014\n",
       "1    -0.036998\n",
       "2    -0.100226\n",
       "3...   \n",
       "\n",
       "                                              dim_11  \n",
       "0  0     0.088728\n",
       "1     0.093011\n",
       "2     0.074638\n",
       "3...  \n",
       "1  0     0.099247\n",
       "1     0.099183\n",
       "2     0.113546\n",
       "3...  \n",
       "2  0     0.193254\n",
       "1     0.202386\n",
       "2     0.156670\n",
       "3...  \n",
       "3  0     0.146297\n",
       "1     0.164537\n",
       "2     0.168465\n",
       "3...  \n",
       "4  0     0.156787\n",
       "1     0.200715\n",
       "2     0.232676\n",
       "3...  "
      ]
     },
     "execution_count": 38,
     "metadata": {},
     "output_type": "execute_result"
    }
   ],
   "source": [
    "X_train.head()"
   ]
  },
  {
   "cell_type": "code",
   "execution_count": 43,
   "id": "06424f72-b099-4571-9c48-f05b52bcf9b9",
   "metadata": {},
   "outputs": [
    {
     "name": "stdout",
     "output_type": "stream",
     "text": [
      "CPU times: user 6.51 s, sys: 58.2 ms, total: 6.57 s\n",
      "Wall time: 968 ms\n"
     ]
    }
   ],
   "source": [
    "rocket = Rocket()\n",
    "rocket.fit(X_train)\n",
    "X_train_transform = rocket.transform(X_train)"
   ]
  },
  {
   "cell_type": "code",
   "execution_count": 40,
   "id": "e78e875a-3ab5-4a11-a56e-083c0c1c1bb6",
   "metadata": {},
   "outputs": [
    {
     "data": {
      "text/plain": [
       "RidgeClassifierCV(alphas=array([1.00000000e-03, 4.64158883e-03, 2.15443469e-02, 1.00000000e-01,\n",
       "       4.64158883e-01, 2.15443469e+00, 1.00000000e+01, 4.64158883e+01,\n",
       "       2.15443469e+02, 1.00000000e+03]),\n",
       "                  normalize=True)"
      ]
     },
     "execution_count": 40,
     "metadata": {},
     "output_type": "execute_result"
    }
   ],
   "source": [
    "classifier = RidgeClassifierCV(alphas=np.logspace(-3, 3, 10), normalize=True)\n",
    "classifier.fit(X_train_transform, y_train)"
   ]
  },
  {
   "cell_type": "code",
   "execution_count": 41,
   "id": "9aa9dd0e-52a6-4e52-884e-73e9c8b8c58f",
   "metadata": {},
   "outputs": [],
   "source": [
    "X_test, y_test = load_japanese_vowels(split=\"test\", return_X_y=True)\n",
    "X_test_transform = rocket.transform(X_test)"
   ]
  },
  {
   "cell_type": "code",
   "execution_count": 42,
   "id": "80290e69-9313-4545-9ace-3c8524c58fac",
   "metadata": {},
   "outputs": [
    {
     "data": {
      "text/plain": [
       "1.0"
      ]
     },
     "execution_count": 42,
     "metadata": {},
     "output_type": "execute_result"
    }
   ],
   "source": [
    "classifier.score(X_test_transform, y_test)"
   ]
  },
  {
   "cell_type": "markdown",
   "id": "871b4f29-eafd-48a5-abbd-e631574bc1d7",
   "metadata": {},
   "source": [
    "## MiniRocket Univariate"
   ]
  },
  {
   "cell_type": "code",
   "execution_count": 45,
   "id": "913c70c1-e751-4402-bf82-b8776d05a59e",
   "metadata": {},
   "outputs": [
    {
     "name": "stdout",
     "output_type": "stream",
     "text": [
      "(175, 1) (36, 1)\n"
     ]
    }
   ],
   "source": [
    "X_train, y_train = load_arrow_head(split=\"test\", return_X_y=True)  \n",
    "X_test, y_test = load_arrow_head(split=\"train\", return_X_y=True)  \n",
    "print(X_train.shape, X_test.shape) "
   ]
  },
  {
   "cell_type": "code",
   "execution_count": 48,
   "id": "3efcda9e-445d-4006-8bef-70c7eec3f019",
   "metadata": {},
   "outputs": [
    {
     "data": {
      "text/plain": [
       "(175, 9996)"
      ]
     },
     "execution_count": 48,
     "metadata": {},
     "output_type": "execute_result"
    }
   ],
   "source": [
    "minirocket = MiniRocket()   \n",
    "minirocket.fit(X_train)  \n",
    "X_train_transform = minirocket.transform(X_train)  \n",
    "X_train_transform.shape "
   ]
  },
  {
   "cell_type": "code",
   "execution_count": 49,
   "id": "40b55d48-a36b-429f-a163-6c95dc427f81",
   "metadata": {},
   "outputs": [
    {
     "data": {
      "text/plain": [
       "RidgeClassifierCV(alphas=array([1.00000000e-03, 4.64158883e-03, 2.15443469e-02, 1.00000000e-01,\n",
       "       4.64158883e-01, 2.15443469e+00, 1.00000000e+01, 4.64158883e+01,\n",
       "       2.15443469e+02, 1.00000000e+03]),\n",
       "                  normalize=True)"
      ]
     },
     "execution_count": 49,
     "metadata": {},
     "output_type": "execute_result"
    }
   ],
   "source": [
    "classifier = RidgeClassifierCV(alphas=np.logspace(-3, 3, 10), normalize=True)  \n",
    "classifier.fit(X_train_transform, y_train)"
   ]
  },
  {
   "cell_type": "code",
   "execution_count": 50,
   "id": "93917fc7-a6ac-4822-a68f-34da91c14b6d",
   "metadata": {},
   "outputs": [
    {
     "data": {
      "text/plain": [
       "0.9166666666666666"
      ]
     },
     "execution_count": 50,
     "metadata": {},
     "output_type": "execute_result"
    }
   ],
   "source": [
    "X_test_transform = minirocket.transform(X_test)  \n",
    "classifier.score(X_test_transform, y_test) "
   ]
  },
  {
   "cell_type": "markdown",
   "id": "a83d23da-0978-4af0-901d-dbe71f2114ba",
   "metadata": {},
   "source": [
    "## MiniRocket Multivariate"
   ]
  },
  {
   "cell_type": "code",
   "execution_count": 51,
   "id": "9f5add5f-41b7-400a-a8c6-c34847f68204",
   "metadata": {},
   "outputs": [],
   "source": [
    "X_train, y_train = load_japanese_vowels(split=\"train\", return_X_y=True)"
   ]
  },
  {
   "cell_type": "code",
   "execution_count": 55,
   "id": "74d2b97f-0b01-4af4-8357-47b5c459eed8",
   "metadata": {},
   "outputs": [
    {
     "data": {
      "text/plain": [
       "(270, 9996)"
      ]
     },
     "execution_count": 55,
     "metadata": {},
     "output_type": "execute_result"
    }
   ],
   "source": [
    "minirocket = MiniRocketMultivariate()   \n",
    "minirocket.fit(X_train)  \n",
    "X_train_transform = minirocket.transform(X_train)  \n",
    "X_train_transform.shape "
   ]
  },
  {
   "cell_type": "code",
   "execution_count": 56,
   "id": "13482dce-86ff-4c75-9277-93a993e1f864",
   "metadata": {},
   "outputs": [
    {
     "data": {
      "text/plain": [
       "RidgeClassifierCV(alphas=array([1.00000000e-03, 4.64158883e-03, 2.15443469e-02, 1.00000000e-01,\n",
       "       4.64158883e-01, 2.15443469e+00, 1.00000000e+01, 4.64158883e+01,\n",
       "       2.15443469e+02, 1.00000000e+03]),\n",
       "                  normalize=True)"
      ]
     },
     "execution_count": 56,
     "metadata": {},
     "output_type": "execute_result"
    }
   ],
   "source": [
    "classifier = RidgeClassifierCV(alphas=np.logspace(-3, 3, 10), normalize=True)\n",
    "classifier.fit(X_train_transform, y_train)"
   ]
  },
  {
   "cell_type": "code",
   "execution_count": 60,
   "id": "88130f28-a88c-4898-8854-02a7550de2c8",
   "metadata": {},
   "outputs": [],
   "source": [
    "X_test, y_test = load_japanese_vowels(split=\"test\", return_X_y=True)\n",
    "X_test_transform = minirocket.transform(X_test)"
   ]
  },
  {
   "cell_type": "code",
   "execution_count": 62,
   "id": "d96d1008-0d62-4eea-a72d-c23a1229e75e",
   "metadata": {},
   "outputs": [
    {
     "data": {
      "text/plain": [
       "1.0"
      ]
     },
     "execution_count": 62,
     "metadata": {},
     "output_type": "execute_result"
    }
   ],
   "source": [
    "classifier.score(X_test_transform, y_test)"
   ]
  }
 ],
 "metadata": {
  "kernelspec": {
   "display_name": "Python 3.8.7 64-bit ('mestrado')",
   "language": "python",
   "name": "python38764bitmestrado93452fa44c9a400d9f916e3ee858cfd5"
  },
  "language_info": {
   "codemirror_mode": {
    "name": "ipython",
    "version": 3
   },
   "file_extension": ".py",
   "mimetype": "text/x-python",
   "name": "python",
   "nbconvert_exporter": "python",
   "pygments_lexer": "ipython3",
   "version": "3.8.7"
  }
 },
 "nbformat": 4,
 "nbformat_minor": 5
}
