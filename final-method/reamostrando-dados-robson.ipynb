{
 "cells": [
  {
   "cell_type": "code",
   "execution_count": 1,
   "source": [
    "from glob import glob\n",
    "from itertools import product\n",
    "from noise import add_noise\n",
    "import mat73\n",
    "import scipy.io as sio\n",
    "import numpy as np\n",
    "import matplotlib.pyplot as plt\n",
    "import pandas as pd\n",
    "from training_sktime import normalizing, format_dataframe\n",
    "import numpy as np \n",
    "import random\n",
    "MODEL_PATH = './models/'"
   ],
   "outputs": [],
   "metadata": {}
  },
  {
   "cell_type": "code",
   "execution_count": 2,
   "source": [
    "path = '../input-data/dados_robson/Sinais_Robson/'\n",
    "files = glob(path + '*.mat')"
   ],
   "outputs": [],
   "metadata": {}
  },
  {
   "cell_type": "code",
   "execution_count": 3,
   "source": [
    "disparo = [file for file in files if 'disparo' in file ][0]"
   ],
   "outputs": [],
   "metadata": {}
  },
  {
   "cell_type": "code",
   "execution_count": 4,
   "source": [
    "for i, file in enumerate(files):\n",
    "    if 'disparo' in file:\n",
    "        disparo = file\n",
    "        del files[i]"
   ],
   "outputs": [],
   "metadata": {}
  },
  {
   "cell_type": "code",
   "execution_count": 5,
   "source": [
    "distance = range(3)\n",
    "resistance = range(3)\n",
    "compensation = range(4)\n",
    "angle = range(19)\n",
    "\n",
    "indexes = list(product(distance, resistance, compensation, angle))"
   ],
   "outputs": [],
   "metadata": {}
  },
  {
   "cell_type": "code",
   "execution_count": 16,
   "source": [
    "i_v = 'I'\n",
    "signal_dict = {}\n",
    "for file in files:\n",
    "    data = mat73.loadmat(file)\n",
    "    fault_type = file.split('_')[-1].split('.')[0]\n",
    "    signal = data[f'{i_v}_{fault_type}']\n",
    "    signals = []\n",
    "    for i in indexes:\n",
    "        # Adiciona ruído\n",
    "        phase = signal[:,:, i[0], i[1], i[2], i[3]]\n",
    "        noiseA = add_noise(phase[:, 0], 60)\n",
    "        noiseB = add_noise(phase[:, 1], 60)\n",
    "        noiseC = add_noise(phase[:, 2], 60)\n",
    "        three_phase_signal = np.vstack((noiseA, noiseB, noiseC)).T\n",
    "        signals.append({i[3]: three_phase_signal})\n",
    "    signal_dict[fault_type] = signals"
   ],
   "outputs": [],
   "metadata": {}
  },
  {
   "cell_type": "code",
   "execution_count": 17,
   "source": [
    "angle_dict = {}\n",
    "for i, item in enumerate(sio.loadmat(disparo)['Flt_trip']):\n",
    "    value = np.where(item[:-1] != item[1:])[0][0]\n",
    "    angle_dict[i] = value"
   ],
   "outputs": [],
   "metadata": {}
  },
  {
   "cell_type": "code",
   "execution_count": null,
   "source": [
    "detected_signal_dict = {}\n",
    "for key in signal_dict.keys():\n",
    "    detected_signals = []\n",
    "    for item in signal_dict[key]:\n",
    "        a = list(item.keys())[0]\n",
    "        index = angle_dict[a]\n",
    "        # Pega 1/4 pré falta e 1 ciclo pós falta\n",
    "        detected_signal = item[a][index-64:index+256]\n",
    "        detected_signals.append(detected_signal)\n",
    "    detected_signal_dict[key] = detected_signals"
   ],
   "outputs": [],
   "metadata": {}
  },
  {
   "cell_type": "code",
   "execution_count": 23,
   "source": [
    "signal_dict.keys()"
   ],
   "outputs": [
    {
     "output_type": "execute_result",
     "data": {
      "text/plain": [
       "dict_keys(['BCG', 'BC', 'ABG', 'CA', 'CG', 'AG', 'CAG', 'BG', 'AB', 'ABC'])"
      ]
     },
     "metadata": {},
     "execution_count": 23
    }
   ],
   "metadata": {}
  },
  {
   "cell_type": "code",
   "execution_count": 27,
   "source": [
    "signal_dict['BCG'][1].keys()"
   ],
   "outputs": [
    {
     "output_type": "execute_result",
     "data": {
      "text/plain": [
       "dict_keys([1])"
      ]
     },
     "metadata": {},
     "execution_count": 27
    }
   ],
   "metadata": {}
  },
  {
   "cell_type": "code",
   "execution_count": 9,
   "source": [
    "detected_signal_dict.keys()"
   ],
   "outputs": [
    {
     "output_type": "execute_result",
     "data": {
      "text/plain": [
       "dict_keys(['BCG', 'BC', 'ABG', 'CA', 'CG', 'AG', 'CAG', 'BG', 'AB', 'ABC'])"
      ]
     },
     "metadata": {},
     "execution_count": 9
    }
   ],
   "metadata": {}
  },
  {
   "cell_type": "code",
   "execution_count": 10,
   "source": [
    "type(detected_signal_dict['AB'])"
   ],
   "outputs": [
    {
     "output_type": "execute_result",
     "data": {
      "text/plain": [
       "list"
      ]
     },
     "metadata": {},
     "execution_count": 10
    }
   ],
   "metadata": {}
  },
  {
   "cell_type": "code",
   "execution_count": 11,
   "source": [
    "len(detected_signal_dict['AB'])"
   ],
   "outputs": [
    {
     "output_type": "execute_result",
     "data": {
      "text/plain": [
       "684"
      ]
     },
     "metadata": {},
     "execution_count": 11
    }
   ],
   "metadata": {}
  },
  {
   "cell_type": "code",
   "execution_count": 12,
   "source": [
    "def findElements(lst1, lst2):\n",
    "    return list(np.array(lst1)[lst2])"
   ],
   "outputs": [],
   "metadata": {}
  },
  {
   "cell_type": "code",
   "execution_count": 13,
   "source": [
    "train_sampled_signal_dict = {}\n",
    "test_sampled_signal_dict = {}\n",
    "for key in detected_signal_dict.keys():\n",
    "    index_value = random.sample(list(enumerate(detected_signal_dict[key])), 94)\n",
    "    indexes = []\n",
    "    values = []\n",
    "    for idx, val in index_value:\n",
    "        indexes.append(idx)\n",
    "        values.append(val)\n",
    "    train_sampled_signal_dict[key] = values\n",
    "    test_indexes = [x for x in list(range(684)) if x not in indexes]\n",
    "    test_values = findElements(detected_signal_dict[key], test_indexes)\n",
    "    test_sampled_signal_dict[key] = test_values"
   ],
   "outputs": [],
   "metadata": {}
  },
  {
   "cell_type": "code",
   "execution_count": 14,
   "source": [
    "test_sampled_signal_dict.keys()"
   ],
   "outputs": [
    {
     "output_type": "execute_result",
     "data": {
      "text/plain": [
       "dict_keys(['BCG', 'BC', 'ABG', 'CA', 'CG', 'AG', 'CAG', 'BG', 'AB', 'ABC'])"
      ]
     },
     "metadata": {},
     "execution_count": 14
    }
   ],
   "metadata": {}
  },
  {
   "cell_type": "code",
   "execution_count": 15,
   "source": [
    "train_sampled_signal_dict.keys()"
   ],
   "outputs": [
    {
     "output_type": "execute_result",
     "data": {
      "text/plain": [
       "dict_keys(['BCG', 'BC', 'ABG', 'CA', 'CG', 'AG', 'CAG', 'BG', 'AB', 'ABC'])"
      ]
     },
     "metadata": {},
     "execution_count": 15
    }
   ],
   "metadata": {}
  },
  {
   "cell_type": "code",
   "execution_count": 16,
   "source": [
    "test_sampled_signal_dict['AB'][0].shape"
   ],
   "outputs": [
    {
     "output_type": "execute_result",
     "data": {
      "text/plain": [
       "(320, 3)"
      ]
     },
     "metadata": {},
     "execution_count": 16
    }
   ],
   "metadata": {}
  },
  {
   "cell_type": "code",
   "execution_count": 17,
   "source": [
    "train_sampled_signal_dict['AB'][0].shape"
   ],
   "outputs": [
    {
     "output_type": "execute_result",
     "data": {
      "text/plain": [
       "(320, 3)"
      ]
     },
     "metadata": {},
     "execution_count": 17
    }
   ],
   "metadata": {}
  },
  {
   "cell_type": "code",
   "execution_count": 18,
   "source": [
    "len(test_sampled_signal_dict['AB'])"
   ],
   "outputs": [
    {
     "output_type": "execute_result",
     "data": {
      "text/plain": [
       "590"
      ]
     },
     "metadata": {},
     "execution_count": 18
    }
   ],
   "metadata": {}
  },
  {
   "cell_type": "code",
   "execution_count": 19,
   "source": [
    "len(train_sampled_signal_dict['AB'])"
   ],
   "outputs": [
    {
     "output_type": "execute_result",
     "data": {
      "text/plain": [
       "94"
      ]
     },
     "metadata": {},
     "execution_count": 19
    }
   ],
   "metadata": {}
  },
  {
   "cell_type": "code",
   "execution_count": null,
   "source": [],
   "outputs": [],
   "metadata": {}
  },
  {
   "cell_type": "markdown",
   "source": [
    "# Testes"
   ],
   "metadata": {}
  },
  {
   "cell_type": "code",
   "execution_count": 6,
   "source": [
    "def get_distance(i):\n",
    "    if i[0] == 0:\n",
    "        return '20'\n",
    "    elif i[0] == 1:\n",
    "        return '150'\n",
    "    else:\n",
    "        return '280'\n",
    "\n",
    "def get_resistance(i):\n",
    "    if i[1] == 0:\n",
    "        return '1'\n",
    "    elif i[1] == 1:\n",
    "        return '50'\n",
    "    else:\n",
    "        return '100'\n",
    "\n",
    "def get_compensation(i):\n",
    "    if i[2] == 0:\n",
    "        return '0.4'\n",
    "    elif i[2] == 1:\n",
    "        return '0.5'\n",
    "    elif i[2] == 2:\n",
    "        return '0.6'\n",
    "    else:\n",
    "        return '0.7'\n",
    "\n",
    "def get_angle(i):\n",
    "    return str(i[3] * 10)\n"
   ],
   "outputs": [],
   "metadata": {}
  },
  {
   "cell_type": "code",
   "execution_count": 7,
   "source": [
    "angle_dict = {}\n",
    "for i, item in enumerate(sio.loadmat(disparo)['Flt_trip']):\n",
    "    value = np.where(item[:-1] != item[1:])[0][0]\n",
    "    angle_dict[i] = value"
   ],
   "outputs": [],
   "metadata": {}
  },
  {
   "cell_type": "code",
   "execution_count": 22,
   "source": [
    "cycle_dict = {'1': 256, '2': 128, '4': 64, '8': 32, '16': 16, '32': 8, '64': 4, '128': 2}"
   ],
   "outputs": [],
   "metadata": {}
  },
  {
   "cell_type": "code",
   "execution_count": null,
   "source": [
    "for c, v in cycle_dict.items():\n",
    "    print(c)\n",
    "    print(v)"
   ],
   "outputs": [],
   "metadata": {}
  },
  {
   "cell_type": "code",
   "execution_count": 78,
   "source": [
    "signals = []\n",
    "for file in files:\n",
    "    data = mat73.loadmat(file)\n",
    "    fault_type = file.split('_')[-1].split('.')[0]\n",
    "    signal = data[f'I_{fault_type}']\n",
    "    final_dict_signal = {}\n",
    "    for i in indexes:\n",
    "        # Realiza a detecção do sinal\n",
    "        phase = signal[:,:, i[0], i[1], i[2], i[3]]\n",
    "        index = angle_dict[i[3]]\n",
    "        distance = get_distance(i)\n",
    "        resistance = get_resistance(i)\n",
    "        compensation = get_compensation(i)\n",
    "        angle = get_angle(i)\n",
    "        fault = fault_type.replace('G', 'T')\n",
    "        final_dict_signal = {'distance': distance, 'resistance': resistance,\n",
    "                             'compensation': compensation, 'angle': angle, 'fault_type': fault}\n",
    "\n",
    "        # Subdivide sinal com ciclos pós falta\n",
    "        for c, v in cycle_dict.items():\n",
    "            detected_signal = phase[index-64:index+v]\n",
    "            phase_a = add_noise(detected_signal[:,0], 60)\n",
    "            phase_b = add_noise(detected_signal[:,1], 60)\n",
    "            phase_c = add_noise(detected_signal[:,2], 60)\n",
    "            phase_z = phase_a + phase_b + phase_c\n",
    "            \n",
    "            final_detected = np.vstack((phase_a, phase_b, phase_c, phase_z)).flatten()\n",
    "            final_dict_signal.update({f'i_cycle_{c}': final_detected})\n",
    "\n",
    "        signals.append(final_dict_signal)        "
   ],
   "outputs": [],
   "metadata": {}
  },
  {
   "cell_type": "code",
   "execution_count": 79,
   "source": [
    "len(signals)"
   ],
   "outputs": [
    {
     "output_type": "execute_result",
     "data": {
      "text/plain": [
       "6840"
      ]
     },
     "metadata": {},
     "execution_count": 79
    }
   ],
   "metadata": {}
  },
  {
   "cell_type": "code",
   "execution_count": 80,
   "source": [
    "signals[3000]['fault_type']"
   ],
   "outputs": [
    {
     "output_type": "execute_result",
     "data": {
      "text/plain": [
       "'CT'"
      ]
     },
     "metadata": {},
     "execution_count": 80
    }
   ],
   "metadata": {}
  },
  {
   "cell_type": "code",
   "execution_count": 81,
   "source": [
    "signals[1000].keys()"
   ],
   "outputs": [
    {
     "output_type": "execute_result",
     "data": {
      "text/plain": [
       "dict_keys(['distance', 'resistance', 'compensation', 'angle', 'fault_type', 'i_cycle_1', 'i_cycle_2', 'i_cycle_4', 'i_cycle_8', 'i_cycle_16', 'i_cycle_32', 'i_cycle_64', 'i_cycle_128'])"
      ]
     },
     "metadata": {},
     "execution_count": 81
    }
   ],
   "metadata": {}
  },
  {
   "cell_type": "code",
   "execution_count": 82,
   "source": [
    "signals[1000]['i_cycle_1'].shape"
   ],
   "outputs": [
    {
     "output_type": "execute_result",
     "data": {
      "text/plain": [
       "(1280,)"
      ]
     },
     "metadata": {},
     "execution_count": 82
    }
   ],
   "metadata": {}
  },
  {
   "cell_type": "code",
   "execution_count": 83,
   "source": [
    "print(signals[0]['fault_type'])\n",
    "plt.plot(signals[0]['i_cycle_1'][:320])\n",
    "plt.plot(signals[0]['i_cycle_1'][320:640])\n",
    "plt.plot(signals[0]['i_cycle_1'][640:960])\n",
    "plt.plot(signals[0]['i_cycle_1'][960:]);"
   ],
   "outputs": [
    {
     "output_type": "stream",
     "name": "stdout",
     "text": [
      "BCT\n"
     ]
    },
    {
     "output_type": "display_data",
     "data": {
      "image/png": "[encoded data removed]",
      "text/plain": [
       "<Figure size 432x288 with 1 Axes>"
      ]
     },
     "metadata": {
      "needs_background": "light"
     }
    }
   ],
   "metadata": {}
  },
  {
   "cell_type": "code",
   "execution_count": 86,
   "source": [
    "signals[0]['i_cycle_2'].shape"
   ],
   "outputs": [
    {
     "output_type": "execute_result",
     "data": {
      "text/plain": [
       "(768,)"
      ]
     },
     "metadata": {},
     "execution_count": 86
    }
   ],
   "metadata": {}
  },
  {
   "cell_type": "code",
   "execution_count": 90,
   "source": [
    "576 + 192"
   ],
   "outputs": [
    {
     "output_type": "execute_result",
     "data": {
      "text/plain": [
       "768"
      ]
     },
     "metadata": {},
     "execution_count": 90
    }
   ],
   "metadata": {}
  },
  {
   "cell_type": "code",
   "execution_count": 92,
   "source": [
    "print(signals[0]['fault_type'])\n",
    "plt.plot(signals[0]['i_cycle_2'][:192])\n",
    "plt.plot(signals[0]['i_cycle_2'][192:384])\n",
    "plt.plot(signals[0]['i_cycle_2'][384:576])\n",
    "plt.plot(signals[0]['i_cycle_2'][576:]);"
   ],
   "outputs": [
    {
     "output_type": "stream",
     "name": "stdout",
     "text": [
      "BCT\n"
     ]
    },
    {
     "output_type": "display_data",
     "data": {
      "image/png": "[encoded data removed]",
      "text/plain": [
       "<Figure size 432x288 with 1 Axes>"
      ]
     },
     "metadata": {
      "needs_background": "light"
     }
    }
   ],
   "metadata": {}
  },
  {
   "cell_type": "code",
   "execution_count": null,
   "source": [],
   "outputs": [],
   "metadata": {}
  }
 ],
 "metadata": {
  "orig_nbformat": 4,
  "language_info": {
   "name": "python",
   "version": "3.8.7",
   "mimetype": "text/x-python",
   "codemirror_mode": {
    "name": "ipython",
    "version": 3
   },
   "pygments_lexer": "ipython3",
   "nbconvert_exporter": "python",
   "file_extension": ".py"
  },
  "kernelspec": {
   "name": "python3",
   "display_name": "Python 3.8.7 64-bit ('mestrado': pyenv)"
  },
  "interpreter": {
   "hash": "3bc6884c7bbd22f1bda6f4218e2a6ec5e650e2e0dc8622ce5d2ea70b578015ec"
  }
 },
 "nbformat": 4,
 "nbformat_minor": 2
}