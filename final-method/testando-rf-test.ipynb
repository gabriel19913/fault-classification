{
 "cells": [
  {
   "cell_type": "code",
   "execution_count": 1,
   "metadata": {},
   "outputs": [],
   "source": [
    "from noise import decompress_pickle\n",
    "from sklearn.model_selection import RandomizedSearchCV\n",
    "import time\n",
    "import numpy as np\n",
    "from training_sktime import open_folds, find_max_value, normalizing, print_results\n",
    "from  sktime.transformations.panel.reduce import Tabularizer\n",
    "from sklearn.model_selection import RandomizedSearchCV\n",
    "from sklearn.ensemble import RandomForestClassifier\n",
    "import pickle\n",
    "from functools import partial\n",
    "\n",
    "\n",
    "INPUT_DATA_PATH = '../input-data/'\n",
    "MODEL_PATH = './models/'\n",
    "\n",
    "def param_optimization(X, y, model, grid, n_iter=50, cv=5):\n",
    "    X = transform_tabular_data(X)\n",
    "    rf_random = RandomizedSearchCV(estimator=model, param_distributions=grid,\n",
    "                                   n_iter=n_iter, cv=cv, verbose=2,\n",
    "                                   n_jobs=-1)\n",
    "    rf_random.fit(X, y)\n",
    "    return rf_random.best_params_\n",
    "\n",
    "def transform_tabular_data(data, is_list=False):\n",
    "    t= Tabularizer()\n",
    "    if is_list:\n",
    "        return list(map(t.fit_transform, data))\n",
    "    else:\n",
    "        return t.fit_transform(data)\n",
    "\n",
    "def evaluating_model(model, X_test, y_test, cycle, scores, count, max_list, model_name='model', save=None):\n",
    "    # Evaluating model\n",
    "    score = model.score(X_test, y_test)\n",
    "    scores.append(score)\n",
    "    if save and (\n",
    "        len(scores) != 1 and score > scores[count] or len(scores) == 1\n",
    "    ):\n",
    "        pickle.dump(model, open(MODEL_PATH + f'{model_name}_classifier_{cycle}.pkl', 'wb'))\n",
    "        pickle.dump(max_list, open(MODEL_PATH + f'{model_name}_{cycle}_max_values.pkl', 'wb'))\n",
    "    return scores\n",
    "\n",
    "def kfold(train_X, train_y, test_X, test_y, model, cycle, max_list, model_name='', save=None):\n",
    "    scores = []\n",
    "    s = time.time()\n",
    "    train_X = transform_tabular_data(train_X, is_list=True)\n",
    "    test_X = transform_tabular_data(test_X, is_list=True)\n",
    "    for count, (X_tr, y_tr, X_te, y_te) in enumerate(zip(train_X, train_y, test_X, test_y),\n",
    "                                                     start=-1):\n",
    "        X_tr_norm = transform_tabular_data(normalizing(X_tr, max_list))\n",
    "        X_te_norm = transform_tabular_data(normalizing(X_te, max_list))\n",
    "        model.fit(X_tr_norm, y_tr)\n",
    "        scores = evaluating_model(model, X_te_norm, y_te, cycle, scores,\n",
    "                                  count, max_list, model_name, save)\n",
    "    e = time.time()\n",
    "    final_scores = np.array(scores)\n",
    "    print_results(cycle, model_name, final_scores, e, s, save)\n",
    "    return np.mean(scores) * 100, np.round(e - s, 3)\n",
    "\n",
    "def ref_grid():\n",
    "    # Number of trees in random forest\n",
    "    n_estimators = [int(x) for x in np.linspace(start=10, stop=100, num=10)]\n",
    "    # Number of features to consider at every split\n",
    "    max_features = ['auto', 'sqrt']\n",
    "    # Maximum number of levels in tree\n",
    "    max_depth = [int(x) for x in np.linspace(10, 50, num=5)]\n",
    "    # Minimum number of samples required to split a node\n",
    "    min_samples_split = [2, 5, 10, 15, 20]\n",
    "    # Minimum number of samples required at each leaf node\n",
    "    min_samples_leaf = [1, 2, 4, 6, 8, 10]\n",
    "    # Method of selecting samples for training each tree\n",
    "    bootstrap = [True, False]\n",
    "    # Division criterion\n",
    "    criterion = ['entropy', 'gini']\n",
    "    # Create the random grid\n",
    "    random_grid = {'criterion': criterion,\n",
    "                'n_estimators': n_estimators,\n",
    "                'max_features': max_features,\n",
    "                'max_depth': max_depth,\n",
    "                'min_samples_split': min_samples_split,\n",
    "                'min_samples_leaf': min_samples_leaf,\n",
    "                'bootstrap': bootstrap}\n",
    "    rf = RandomForestClassifier()\n",
    "    return rf, random_grid"
   ]
  },
  {
   "cell_type": "code",
   "execution_count": 13,
   "metadata": {},
   "outputs": [],
   "source": [
    "cycle = 'cycle_1'\n",
    "signal = 'i'\n",
    "INPUT_DATA_PATH = '../input-data/'\n",
    "\n",
    "train_X = open_folds(cycle, 'train', 'X', signal)\n",
    "train_y = open_folds(cycle, 'train', 'y', signal)\n",
    "test_X = open_folds(cycle, 'test', 'X', signal)\n",
    "test_y = open_folds(cycle, 'test', 'y', signal)\n",
    "\n",
    "X_train = decompress_pickle(INPUT_DATA_PATH + f'folds/{signal}/{cycle}/X_train')\n",
    "y_train = decompress_pickle(INPUT_DATA_PATH + f'folds/{signal}/{cycle}/y_train')\n",
    "X_val = decompress_pickle(INPUT_DATA_PATH + f'folds/{signal}/{cycle}/X_val')\n",
    "y_val = decompress_pickle(INPUT_DATA_PATH + f'folds/{signal}/{cycle}/y_val')\n",
    "\n",
    "max_list = find_max_value(X_train)\n",
    "X_train_norm = normalizing(X_train, max_list)\n",
    "X_val_norm = normalizing(X_val, max_list)"
   ]
  },
  {
   "cell_type": "code",
   "execution_count": 14,
   "metadata": {},
   "outputs": [],
   "source": [
    "import matplotlib.pyplot as plt"
   ]
  },
  {
   "cell_type": "code",
   "execution_count": 15,
   "metadata": {},
   "outputs": [
    {
     "data": {
      "text/plain": [
       "[<matplotlib.lines.Line2D at 0x7fd1770dd9a0>]"
      ]
     },
     "execution_count": 15,
     "metadata": {},
     "output_type": "execute_result"
    },
    {
     "data": {
      "image/png": "[encoded data removed]",
      "text/plain": [
       "<Figure size 432x288 with 1 Axes>"
      ]
     },
     "metadata": {
      "needs_background": "light"
     },
     "output_type": "display_data"
    }
   ],
   "source": [
    "plt.plot(train_X[0].loc[14,'A'])"
   ]
  }
 ],
 "metadata": {
  "interpreter": {
   "hash": "7d8e92feb7e31fb5a62d0b6d03853ff8969faa0ab27bb980720b71669e5a3624"
  },
  "kernelspec": {
   "display_name": "Python 3.8.7 64-bit ('mestrado': pyenv)",
   "name": "python3"
  },
  "language_info": {
   "codemirror_mode": {
    "name": "ipython",
    "version": 3
   },
   "file_extension": ".py",
   "mimetype": "text/x-python",
   "name": "python",
   "nbconvert_exporter": "python",
   "pygments_lexer": "ipython3",
   "version": "3.8.7"
  },
  "orig_nbformat": 4
 },
 "nbformat": 4,
 "nbformat_minor": 2
}
