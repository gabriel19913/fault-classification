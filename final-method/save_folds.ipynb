{
 "metadata": {
  "language_info": {
   "codemirror_mode": {
    "name": "ipython",
    "version": 3
   },
   "file_extension": ".py",
   "mimetype": "text/x-python",
   "name": "python",
   "nbconvert_exporter": "python",
   "pygments_lexer": "ipython3",
   "version": "3.8.7"
  },
  "orig_nbformat": 2,
  "kernelspec": {
   "name": "python3",
   "display_name": "Python 3.8.7 64-bit ('mestrado': pyenv)"
  },
  "interpreter": {
   "hash": "803a05b3e0e09a67c9f49b63fb42a66a03929de6eae48fd57c59a599024e5b66"
  }
 },
 "nbformat": 4,
 "nbformat_minor": 2,
 "cells": [
  {
   "cell_type": "code",
   "execution_count": 1,
   "source": [
    "from noise import compressed_pickle, decompress_pickle\n",
    "from sklearn.model_selection import StratifiedKFold\n",
    "import pandas as pd\n",
    "import numpy as np\n",
    "from sklearn.model_selection import train_test_split"
   ],
   "outputs": [],
   "metadata": {}
  },
  {
   "cell_type": "code",
   "execution_count": 2,
   "source": [
    "INPUT_DATA_PATH = '../input-data/'\n",
    "data = decompress_pickle(INPUT_DATA_PATH + 'cycle_data')"
   ],
   "outputs": [],
   "metadata": {}
  },
  {
   "cell_type": "code",
   "execution_count": 3,
   "source": [
    "def format_dataframe(data):\n",
    "    cols = int(data.shape[0] / 4)\n",
    "    shaped_data = data.reshape((4, cols)).T\n",
    "    s1 = pd.Series(shaped_data[:, 0])\n",
    "    s2 = pd.Series(shaped_data[:, 1])\n",
    "    s3 = pd.Series(shaped_data[:, 2])\n",
    "    s4 = pd.Series(shaped_data[:, 3])\n",
    "    dicio = {'A': [], 'B': [], 'C': [], 'Z': []}\n",
    "    dicio['A'].append(s1)\n",
    "    dicio['B'].append(s2)\n",
    "    dicio['C'].append(s3)\n",
    "    dicio['Z'].append(s4)\n",
    "    return pd.DataFrame(dicio)"
   ],
   "outputs": [],
   "metadata": {}
  },
  {
   "cell_type": "code",
   "execution_count": 4,
   "source": [
    "def open_data(signal_type, cycle_name):\n",
    "    data_list = []\n",
    "    target_list = []\n",
    "    for d in data:\n",
    "        data_list.append(format_dataframe(d[f'{signal_type}_{cycle_name}']))\n",
    "        target_list.append(d['fault_type'])\n",
    "    X = pd.concat(data_list).reset_index(drop=True)\n",
    "    y = np.array(target_list)\n",
    "    X_train, X_test, y_train, y_test = train_test_split(X, y, test_size=0.2, stratify=y,\n",
    "                                                        random_state=42, shuffle=True)\n",
    "    compressed_pickle(INPUT_DATA_PATH + f'folds/{signal_type}/{cycle_name}/' + 'X_train', X_train)\n",
    "    compressed_pickle(INPUT_DATA_PATH + f'folds/{signal_type}/{cycle_name}/' + 'y_train', y_train)\n",
    "    compressed_pickle(INPUT_DATA_PATH + f'folds/{signal_type}/{cycle_name}/' + 'X_val', X_test)\n",
    "    compressed_pickle(INPUT_DATA_PATH + f'folds/{signal_type}/{cycle_name}/' + 'y_val', y_test)\n",
    "    return X_train, y_train"
   ],
   "outputs": [],
   "metadata": {}
  },
  {
   "cell_type": "code",
   "execution_count": 5,
   "source": [
    "def save_folds(signal_type, cycle_name):\n",
    "    X_train, y_train = open_data(signal_type, cycle_name)\n",
    "    data_folds_path = INPUT_DATA_PATH + f'folds/{signal_type}/{cycle_name}/'\n",
    "    kf = StratifiedKFold(n_splits=10, random_state=42, shuffle=True)\n",
    "    for fold, (tr, te) in enumerate(kf.split(X_train, y_train), start=1):\n",
    "        X_tr, X_te = X_train.iloc[tr, :], X_train.iloc[te, :]\n",
    "        y_tr, y_te = y_train[tr], y_train[te]\n",
    "        compressed_pickle(data_folds_path + f'X_train_fold_{fold}', X_tr)\n",
    "        compressed_pickle(data_folds_path + f'X_test_fold_{fold}', X_te)\n",
    "        compressed_pickle(data_folds_path + f'y_train_fold_{fold}', y_tr)\n",
    "        compressed_pickle(data_folds_path + f'y_test_fold_{fold}', y_te)"
   ],
   "outputs": [],
   "metadata": {}
  },
  {
   "cell_type": "code",
   "execution_count": 6,
   "source": [
    "cycle_list = ['cycle_1', 'cycle_2', 'cycle_4', 'cycle_8', 'cycle_16', 'cycle_32', 'cycle_64',\n",
    "              'cycle_128']\n",
    "\n",
    "for cycle_name in cycle_list:\n",
    "    save_folds('v', cycle_name)\n",
    "    save_folds('i', cycle_name)"
   ],
   "outputs": [],
   "metadata": {}
  },
  {
   "cell_type": "markdown",
   "source": [
    "## Testes aleatórios"
   ],
   "metadata": {}
  },
  {
   "cell_type": "code",
   "execution_count": 8,
   "source": [
    "def drange(start, stop, step):\n",
    "    while start < stop:\n",
    "        yield start\n",
    "        start *= step\n",
    "\n",
    "from noise import decompress_pickle, compressed_pickle\n",
    "INPUT_DATA_PATH = '../input-data/'\n",
    "all_data = decompress_pickle(INPUT_DATA_PATH + 'noise_data')\n",
    "for i, data in enumerate(all_data):\n",
    "    for n in drange(1, 129, 2):\n",
    "        size = int((data['i_noise'][0,64:].shape[0] - 64) / n + 64)\n",
    "        print(size)\n",
    "    break"
   ],
   "outputs": [
    {
     "output_type": "stream",
     "name": "stdout",
     "text": [
      "320\n",
      "192\n",
      "128\n",
      "96\n",
      "80\n",
      "72\n",
      "68\n",
      "66\n"
     ]
    }
   ],
   "metadata": {}
  },
  {
   "cell_type": "code",
   "execution_count": 10,
   "source": [
    "for ciclos in drange(1, 129, 2):\n",
    "    print(64 + 256 / ciclos)"
   ],
   "outputs": [
    {
     "output_type": "stream",
     "name": "stdout",
     "text": [
      "320.0\n",
      "192.0\n",
      "128.0\n",
      "96.0\n",
      "80.0\n",
      "72.0\n",
      "68.0\n",
      "66.0\n"
     ]
    }
   ],
   "metadata": {}
  }
 ]
}