{
 "cells": [
  {
   "cell_type": "code",
   "execution_count": 1,
   "metadata": {},
   "outputs": [],
   "source": [
    "import numpy as np\n",
    "from sklearn.linear_model import RidgeClassifierCV\n",
    "from sklearn.pipeline import make_pipeline\n",
    "from sklearn.model_selection import train_test_split\n",
    "\n",
    "import pandas as pd\n",
    "from sktime.datasets import load_arrow_head  # univariate dataset\n",
    "from sktime.datasets.base import load_japanese_vowels  # multivariate dataset\n",
    "from sktime.transformations.panel.rocket import Rocket, MiniRocketMultivariate\n",
    "\n",
    "from noise import decompress_pickle\n",
    "INPUT_DATA_PATH = '../input-data/'\n",
    "data = decompress_pickle(INPUT_DATA_PATH + 'cycle_data')"
   ]
  },
  {
   "cell_type": "code",
   "execution_count": 2,
   "metadata": {},
   "outputs": [],
   "source": [
    "def format_dataframe(data):\n",
    "    cols = int(data.shape[0] / 4)\n",
    "    shaped_data = data.reshape((4, cols)).T\n",
    "    s1 = pd.Series(shaped_data[:, 0])\n",
    "    s2 = pd.Series(shaped_data[:, 1])\n",
    "    s3 = pd.Series(shaped_data[:, 2])\n",
    "    s4 = pd.Series(shaped_data[:, 3])\n",
    "    dicio = {'A': [], 'B': [], 'C': [], 'Z': []}\n",
    "    dicio['A'].append(s1)\n",
    "    dicio['B'].append(s2)\n",
    "    dicio['C'].append(s3)\n",
    "    dicio['Z'].append(s4)\n",
    "    return pd.DataFrame(dicio)"
   ]
  },
  {
   "cell_type": "code",
   "execution_count": 3,
   "metadata": {},
   "outputs": [],
   "source": [
    "data_list = []\n",
    "target_list = []\n",
    "for d in data:\n",
    "    data_list.append(format_dataframe(d['i_cycle_1']))\n",
    "    target_list.append(d['fault_type'])\n",
    "X = pd.concat(data_list).reset_index(drop=True)\n",
    "y = np.array(target_list)"
   ]
  },
  {
   "cell_type": "code",
   "execution_count": 4,
   "metadata": {},
   "outputs": [],
   "source": [
    "X_train, X_test, y_train, y_test = train_test_split(X, y, test_size=0.2, random_state=42)"
   ]
  },
  {
   "cell_type": "code",
   "execution_count": 5,
   "metadata": {},
   "outputs": [
    {
     "data": {
      "text/plain": [
       "(752, 4)"
      ]
     },
     "execution_count": 5,
     "metadata": {},
     "output_type": "execute_result"
    }
   ],
   "source": [
    "X_train.shape"
   ]
  },
  {
   "cell_type": "code",
   "execution_count": 6,
   "metadata": {},
   "outputs": [
    {
     "data": {
      "text/plain": [
       "(188, 4)"
      ]
     },
     "execution_count": 6,
     "metadata": {},
     "output_type": "execute_result"
    }
   ],
   "source": [
    "X_test.shape"
   ]
  },
  {
   "cell_type": "code",
   "execution_count": 7,
   "metadata": {},
   "outputs": [],
   "source": [
    "# https://github.com/alan-turing-institute/sktime/blob/main/examples/rocket.ipynb\n",
    "\n",
    "rocket = Rocket()\n",
    "rocket.fit(X_train)\n",
    "X_train_transform = rocket.transform(X_train)"
   ]
  },
  {
   "cell_type": "code",
   "execution_count": 9,
   "metadata": {},
   "outputs": [
    {
     "data": {
      "text/plain": [
       "(752, 4)"
      ]
     },
     "execution_count": 9,
     "metadata": {},
     "output_type": "execute_result"
    }
   ],
   "source": [
    "X_train.shape"
   ]
  },
  {
   "cell_type": "code",
   "execution_count": 11,
   "metadata": {},
   "outputs": [
    {
     "data": {
      "text/html": [
       "<div>\n",
       "<style scoped>\n",
       "    .dataframe tbody tr th:only-of-type {\n",
       "        vertical-align: middle;\n",
       "    }\n",
       "\n",
       "    .dataframe tbody tr th {\n",
       "        vertical-align: top;\n",
       "    }\n",
       "\n",
       "    .dataframe thead th {\n",
       "        text-align: right;\n",
       "    }\n",
       "</style>\n",
       "<table border=\"1\" class=\"dataframe\">\n",
       "  <thead>\n",
       "    <tr style=\"text-align: right;\">\n",
       "      <th></th>\n",
       "      <th>A</th>\n",
       "      <th>B</th>\n",
       "      <th>C</th>\n",
       "      <th>Z</th>\n",
       "    </tr>\n",
       "  </thead>\n",
       "  <tbody>\n",
       "    <tr>\n",
       "      <th>82</th>\n",
       "      <td>0     -582.708750\n",
       "1     -571.753996\n",
       "2     -570...</td>\n",
       "      <td>0      140.154819\n",
       "1      123.678615\n",
       "2      114...</td>\n",
       "      <td>0      436.055818\n",
       "1      446.137520\n",
       "2      455...</td>\n",
       "      <td>0      0.000014\n",
       "1     -0.000001\n",
       "2      0.00001...</td>\n",
       "    </tr>\n",
       "    <tr>\n",
       "      <th>931</th>\n",
       "      <td>0      208.049877\n",
       "1      193.303383\n",
       "2      181...</td>\n",
       "      <td>0      384.130442\n",
       "1      396.363198\n",
       "2      408...</td>\n",
       "      <td>0     -593.188373\n",
       "1     -589.995252\n",
       "2     -586...</td>\n",
       "      <td>0        0.514435\n",
       "1       -0.535060\n",
       "2       -0...</td>\n",
       "    </tr>\n",
       "    <tr>\n",
       "      <th>741</th>\n",
       "      <td>0         3.491071\n",
       "1        -9.564796\n",
       "2       ...</td>\n",
       "      <td>0      518.179829\n",
       "1      526.564120\n",
       "2      533...</td>\n",
       "      <td>0     -523.511894\n",
       "1     -517.271818\n",
       "2     -508...</td>\n",
       "      <td>0       -0.015318\n",
       "1       -0.284316\n",
       "2        0...</td>\n",
       "    </tr>\n",
       "    <tr>\n",
       "      <th>926</th>\n",
       "      <td>0       398.349542\n",
       "1       384.287639\n",
       "2       ...</td>\n",
       "      <td>0       193.140830\n",
       "1       208.038311\n",
       "2       ...</td>\n",
       "      <td>0     -589.787578\n",
       "1     -593.042055\n",
       "2     -595...</td>\n",
       "      <td>0     -0.000021\n",
       "1     -0.000027\n",
       "2     -0.00002...</td>\n",
       "    </tr>\n",
       "    <tr>\n",
       "      <th>877</th>\n",
       "      <td>0      137.909108\n",
       "1      122.487959\n",
       "2      107...</td>\n",
       "      <td>0      438.763533\n",
       "1      449.113664\n",
       "2      459...</td>\n",
       "      <td>0      -574.725971\n",
       "1      -570.478520\n",
       "2      -...</td>\n",
       "      <td>0       -0.321762\n",
       "1        0.180104\n",
       "2        0...</td>\n",
       "    </tr>\n",
       "  </tbody>\n",
       "</table>\n",
       "</div>"
      ],
      "text/plain": [
       "                                                     A  \\\n",
       "82   0     -582.708750\n",
       "1     -571.753996\n",
       "2     -570...   \n",
       "931  0      208.049877\n",
       "1      193.303383\n",
       "2      181...   \n",
       "741  0         3.491071\n",
       "1        -9.564796\n",
       "2       ...   \n",
       "926  0       398.349542\n",
       "1       384.287639\n",
       "2       ...   \n",
       "877  0      137.909108\n",
       "1      122.487959\n",
       "2      107...   \n",
       "\n",
       "                                                     B  \\\n",
       "82   0      140.154819\n",
       "1      123.678615\n",
       "2      114...   \n",
       "931  0      384.130442\n",
       "1      396.363198\n",
       "2      408...   \n",
       "741  0      518.179829\n",
       "1      526.564120\n",
       "2      533...   \n",
       "926  0       193.140830\n",
       "1       208.038311\n",
       "2       ...   \n",
       "877  0      438.763533\n",
       "1      449.113664\n",
       "2      459...   \n",
       "\n",
       "                                                     C  \\\n",
       "82   0      436.055818\n",
       "1      446.137520\n",
       "2      455...   \n",
       "931  0     -593.188373\n",
       "1     -589.995252\n",
       "2     -586...   \n",
       "741  0     -523.511894\n",
       "1     -517.271818\n",
       "2     -508...   \n",
       "926  0     -589.787578\n",
       "1     -593.042055\n",
       "2     -595...   \n",
       "877  0      -574.725971\n",
       "1      -570.478520\n",
       "2      -...   \n",
       "\n",
       "                                                     Z  \n",
       "82   0      0.000014\n",
       "1     -0.000001\n",
       "2      0.00001...  \n",
       "931  0        0.514435\n",
       "1       -0.535060\n",
       "2       -0...  \n",
       "741  0       -0.015318\n",
       "1       -0.284316\n",
       "2        0...  \n",
       "926  0     -0.000021\n",
       "1     -0.000027\n",
       "2     -0.00002...  \n",
       "877  0       -0.321762\n",
       "1        0.180104\n",
       "2        0...  "
      ]
     },
     "execution_count": 11,
     "metadata": {},
     "output_type": "execute_result"
    }
   ],
   "source": [
    "X_train.head()"
   ]
  },
  {
   "cell_type": "code",
   "execution_count": 12,
   "metadata": {},
   "outputs": [
    {
     "data": {
      "text/plain": [
       "0     -563.850750\n",
       "1     -557.367775\n",
       "2     -552.339468\n",
       "3     -546.579817\n",
       "4     -539.532531\n",
       "          ...    \n",
       "315     74.983533\n",
       "316     70.845566\n",
       "317     64.531654\n",
       "318     62.008877\n",
       "319     68.164591\n",
       "Length: 320, dtype: float64"
      ]
     },
     "execution_count": 12,
     "metadata": {},
     "output_type": "execute_result"
    }
   ],
   "source": [
    "X_train.loc[0, 'A']"
   ]
  },
  {
   "cell_type": "code",
   "execution_count": 10,
   "metadata": {},
   "outputs": [
    {
     "data": {
      "text/plain": [
       "(752, 20000)"
      ]
     },
     "execution_count": 10,
     "metadata": {},
     "output_type": "execute_result"
    }
   ],
   "source": [
    "X_train_transform.shape"
   ]
  },
  {
   "cell_type": "code",
   "execution_count": 14,
   "metadata": {},
   "outputs": [
    {
     "data": {
      "text/html": [
       "<div>\n",
       "<style scoped>\n",
       "    .dataframe tbody tr th:only-of-type {\n",
       "        vertical-align: middle;\n",
       "    }\n",
       "\n",
       "    .dataframe tbody tr th {\n",
       "        vertical-align: top;\n",
       "    }\n",
       "\n",
       "    .dataframe thead th {\n",
       "        text-align: right;\n",
       "    }\n",
       "</style>\n",
       "<table border=\"1\" class=\"dataframe\">\n",
       "  <thead>\n",
       "    <tr style=\"text-align: right;\">\n",
       "      <th></th>\n",
       "      <th>0</th>\n",
       "      <th>1</th>\n",
       "      <th>2</th>\n",
       "      <th>3</th>\n",
       "      <th>4</th>\n",
       "      <th>5</th>\n",
       "      <th>6</th>\n",
       "      <th>7</th>\n",
       "      <th>8</th>\n",
       "      <th>9</th>\n",
       "      <th>...</th>\n",
       "      <th>19990</th>\n",
       "      <th>19991</th>\n",
       "      <th>19992</th>\n",
       "      <th>19993</th>\n",
       "      <th>19994</th>\n",
       "      <th>19995</th>\n",
       "      <th>19996</th>\n",
       "      <th>19997</th>\n",
       "      <th>19998</th>\n",
       "      <th>19999</th>\n",
       "    </tr>\n",
       "  </thead>\n",
       "  <tbody>\n",
       "    <tr>\n",
       "      <th>0</th>\n",
       "      <td>0.521875</td>\n",
       "      <td>4.794999</td>\n",
       "      <td>0.518750</td>\n",
       "      <td>3.942405</td>\n",
       "      <td>0.037500</td>\n",
       "      <td>0.691111</td>\n",
       "      <td>0.243333</td>\n",
       "      <td>0.240267</td>\n",
       "      <td>0.437500</td>\n",
       "      <td>3.547817</td>\n",
       "      <td>...</td>\n",
       "      <td>0.468750</td>\n",
       "      <td>1.338816</td>\n",
       "      <td>0.571875</td>\n",
       "      <td>3.234033</td>\n",
       "      <td>0.264516</td>\n",
       "      <td>2.996075</td>\n",
       "      <td>0.481481</td>\n",
       "      <td>1.467149</td>\n",
       "      <td>1.000000</td>\n",
       "      <td>1.447355</td>\n",
       "    </tr>\n",
       "    <tr>\n",
       "      <th>1</th>\n",
       "      <td>0.500000</td>\n",
       "      <td>2.707144</td>\n",
       "      <td>0.518750</td>\n",
       "      <td>4.372274</td>\n",
       "      <td>0.143750</td>\n",
       "      <td>0.953433</td>\n",
       "      <td>0.336667</td>\n",
       "      <td>1.320862</td>\n",
       "      <td>0.604167</td>\n",
       "      <td>3.006728</td>\n",
       "      <td>...</td>\n",
       "      <td>0.515625</td>\n",
       "      <td>1.640704</td>\n",
       "      <td>0.687500</td>\n",
       "      <td>2.808795</td>\n",
       "      <td>0.219355</td>\n",
       "      <td>1.086669</td>\n",
       "      <td>0.488889</td>\n",
       "      <td>1.946501</td>\n",
       "      <td>0.920000</td>\n",
       "      <td>1.989119</td>\n",
       "    </tr>\n",
       "    <tr>\n",
       "      <th>2</th>\n",
       "      <td>0.437500</td>\n",
       "      <td>3.811584</td>\n",
       "      <td>0.478125</td>\n",
       "      <td>3.084146</td>\n",
       "      <td>0.215625</td>\n",
       "      <td>1.074154</td>\n",
       "      <td>0.270000</td>\n",
       "      <td>0.931491</td>\n",
       "      <td>0.587500</td>\n",
       "      <td>2.202686</td>\n",
       "      <td>...</td>\n",
       "      <td>0.531250</td>\n",
       "      <td>1.231082</td>\n",
       "      <td>0.612500</td>\n",
       "      <td>2.874702</td>\n",
       "      <td>0.245161</td>\n",
       "      <td>1.935311</td>\n",
       "      <td>0.470370</td>\n",
       "      <td>2.186999</td>\n",
       "      <td>0.970000</td>\n",
       "      <td>1.681532</td>\n",
       "    </tr>\n",
       "    <tr>\n",
       "      <th>3</th>\n",
       "      <td>0.490625</td>\n",
       "      <td>3.743568</td>\n",
       "      <td>0.490625</td>\n",
       "      <td>6.537870</td>\n",
       "      <td>0.287500</td>\n",
       "      <td>1.182461</td>\n",
       "      <td>0.270000</td>\n",
       "      <td>0.804977</td>\n",
       "      <td>0.583333</td>\n",
       "      <td>3.864292</td>\n",
       "      <td>...</td>\n",
       "      <td>0.340625</td>\n",
       "      <td>1.630284</td>\n",
       "      <td>0.737500</td>\n",
       "      <td>4.004393</td>\n",
       "      <td>0.306452</td>\n",
       "      <td>3.262026</td>\n",
       "      <td>0.496296</td>\n",
       "      <td>1.511763</td>\n",
       "      <td>0.963333</td>\n",
       "      <td>1.525433</td>\n",
       "    </tr>\n",
       "    <tr>\n",
       "      <th>4</th>\n",
       "      <td>0.584375</td>\n",
       "      <td>1.408591</td>\n",
       "      <td>0.459375</td>\n",
       "      <td>3.711622</td>\n",
       "      <td>0.065625</td>\n",
       "      <td>0.418191</td>\n",
       "      <td>0.323333</td>\n",
       "      <td>0.954566</td>\n",
       "      <td>0.591667</td>\n",
       "      <td>2.241249</td>\n",
       "      <td>...</td>\n",
       "      <td>0.428125</td>\n",
       "      <td>1.217808</td>\n",
       "      <td>0.596875</td>\n",
       "      <td>3.396448</td>\n",
       "      <td>0.225806</td>\n",
       "      <td>2.705039</td>\n",
       "      <td>0.488889</td>\n",
       "      <td>1.814690</td>\n",
       "      <td>0.976667</td>\n",
       "      <td>1.772314</td>\n",
       "    </tr>\n",
       "  </tbody>\n",
       "</table>\n",
       "<p>5 rows × 20000 columns</p>\n",
       "</div>"
      ],
      "text/plain": [
       "      0         1         2         3         4         5         6      \\\n",
       "0  0.521875  4.794999  0.518750  3.942405  0.037500  0.691111  0.243333   \n",
       "1  0.500000  2.707144  0.518750  4.372274  0.143750  0.953433  0.336667   \n",
       "2  0.437500  3.811584  0.478125  3.084146  0.215625  1.074154  0.270000   \n",
       "3  0.490625  3.743568  0.490625  6.537870  0.287500  1.182461  0.270000   \n",
       "4  0.584375  1.408591  0.459375  3.711622  0.065625  0.418191  0.323333   \n",
       "\n",
       "      7         8         9      ...     19990     19991     19992     19993  \\\n",
       "0  0.240267  0.437500  3.547817  ...  0.468750  1.338816  0.571875  3.234033   \n",
       "1  1.320862  0.604167  3.006728  ...  0.515625  1.640704  0.687500  2.808795   \n",
       "2  0.931491  0.587500  2.202686  ...  0.531250  1.231082  0.612500  2.874702   \n",
       "3  0.804977  0.583333  3.864292  ...  0.340625  1.630284  0.737500  4.004393   \n",
       "4  0.954566  0.591667  2.241249  ...  0.428125  1.217808  0.596875  3.396448   \n",
       "\n",
       "      19994     19995     19996     19997     19998     19999  \n",
       "0  0.264516  2.996075  0.481481  1.467149  1.000000  1.447355  \n",
       "1  0.219355  1.086669  0.488889  1.946501  0.920000  1.989119  \n",
       "2  0.245161  1.935311  0.470370  2.186999  0.970000  1.681532  \n",
       "3  0.306452  3.262026  0.496296  1.511763  0.963333  1.525433  \n",
       "4  0.225806  2.705039  0.488889  1.814690  0.976667  1.772314  \n",
       "\n",
       "[5 rows x 20000 columns]"
      ]
     },
     "execution_count": 14,
     "metadata": {},
     "output_type": "execute_result"
    }
   ],
   "source": [
    "X_train_transform.head()"
   ]
  },
  {
   "cell_type": "code",
   "execution_count": 15,
   "metadata": {},
   "outputs": [
    {
     "data": {
      "text/plain": [
       "RidgeClassifierCV(alphas=array([1.00000000e-03, 4.64158883e-03, 2.15443469e-02, 1.00000000e-01,\n",
       "       4.64158883e-01, 2.15443469e+00, 1.00000000e+01, 4.64158883e+01,\n",
       "       2.15443469e+02, 1.00000000e+03]),\n",
       "                  normalize=True)"
      ]
     },
     "execution_count": 15,
     "metadata": {},
     "output_type": "execute_result"
    }
   ],
   "source": [
    "classifier = RidgeClassifierCV(alphas=np.logspace(-3, 3, 10), normalize=True)\n",
    "classifier.fit(X_train_transform, y_train)"
   ]
  },
  {
   "cell_type": "code",
   "execution_count": 16,
   "metadata": {},
   "outputs": [],
   "source": [
    "X_test_transform = rocket.transform(X_test)"
   ]
  },
  {
   "cell_type": "code",
   "execution_count": 17,
   "metadata": {},
   "outputs": [
    {
     "data": {
      "text/plain": [
       "1.0"
      ]
     },
     "execution_count": 17,
     "metadata": {},
     "output_type": "execute_result"
    }
   ],
   "source": [
    "classifier.score(X_test_transform, y_test)"
   ]
  },
  {
   "cell_type": "code",
   "execution_count": 18,
   "metadata": {},
   "outputs": [],
   "source": [
    "# https://github.com/alan-turing-institute/sktime/blob/main/examples/minirocket.ipynb\n",
    "\n",
    "minirocket = MiniRocketMultivariate()   \n",
    "minirocket.fit(X_train)\n",
    "X_train_transform = rocket.transform(X_train)"
   ]
  },
  {
   "cell_type": "code",
   "execution_count": 19,
   "metadata": {},
   "outputs": [
    {
     "data": {
      "text/plain": [
       "RidgeClassifierCV(alphas=array([1.00000000e-03, 4.64158883e-03, 2.15443469e-02, 1.00000000e-01,\n",
       "       4.64158883e-01, 2.15443469e+00, 1.00000000e+01, 4.64158883e+01,\n",
       "       2.15443469e+02, 1.00000000e+03]),\n",
       "                  normalize=True)"
      ]
     },
     "execution_count": 19,
     "metadata": {},
     "output_type": "execute_result"
    }
   ],
   "source": [
    "classifier = RidgeClassifierCV(alphas=np.logspace(-3, 3, 10), normalize=True)\n",
    "classifier.fit(X_train_transform, y_train)"
   ]
  },
  {
   "cell_type": "code",
   "execution_count": 20,
   "metadata": {},
   "outputs": [
    {
     "data": {
      "text/plain": [
       "(752, 20000)"
      ]
     },
     "execution_count": 20,
     "metadata": {},
     "output_type": "execute_result"
    }
   ],
   "source": [
    "X_train_transform.shape"
   ]
  },
  {
   "cell_type": "code",
   "execution_count": 21,
   "metadata": {},
   "outputs": [
    {
     "data": {
      "text/html": [
       "<div>\n",
       "<style scoped>\n",
       "    .dataframe tbody tr th:only-of-type {\n",
       "        vertical-align: middle;\n",
       "    }\n",
       "\n",
       "    .dataframe tbody tr th {\n",
       "        vertical-align: top;\n",
       "    }\n",
       "\n",
       "    .dataframe thead th {\n",
       "        text-align: right;\n",
       "    }\n",
       "</style>\n",
       "<table border=\"1\" class=\"dataframe\">\n",
       "  <thead>\n",
       "    <tr style=\"text-align: right;\">\n",
       "      <th></th>\n",
       "      <th>0</th>\n",
       "      <th>1</th>\n",
       "      <th>2</th>\n",
       "      <th>3</th>\n",
       "      <th>4</th>\n",
       "      <th>5</th>\n",
       "      <th>6</th>\n",
       "      <th>7</th>\n",
       "      <th>8</th>\n",
       "      <th>9</th>\n",
       "      <th>...</th>\n",
       "      <th>19990</th>\n",
       "      <th>19991</th>\n",
       "      <th>19992</th>\n",
       "      <th>19993</th>\n",
       "      <th>19994</th>\n",
       "      <th>19995</th>\n",
       "      <th>19996</th>\n",
       "      <th>19997</th>\n",
       "      <th>19998</th>\n",
       "      <th>19999</th>\n",
       "    </tr>\n",
       "  </thead>\n",
       "  <tbody>\n",
       "    <tr>\n",
       "      <th>0</th>\n",
       "      <td>0.521875</td>\n",
       "      <td>4.794999</td>\n",
       "      <td>0.518750</td>\n",
       "      <td>3.942405</td>\n",
       "      <td>0.037500</td>\n",
       "      <td>0.691111</td>\n",
       "      <td>0.243333</td>\n",
       "      <td>0.240267</td>\n",
       "      <td>0.437500</td>\n",
       "      <td>3.547817</td>\n",
       "      <td>...</td>\n",
       "      <td>0.468750</td>\n",
       "      <td>1.338816</td>\n",
       "      <td>0.571875</td>\n",
       "      <td>3.234033</td>\n",
       "      <td>0.264516</td>\n",
       "      <td>2.996075</td>\n",
       "      <td>0.481481</td>\n",
       "      <td>1.467149</td>\n",
       "      <td>1.000000</td>\n",
       "      <td>1.447355</td>\n",
       "    </tr>\n",
       "    <tr>\n",
       "      <th>1</th>\n",
       "      <td>0.500000</td>\n",
       "      <td>2.707144</td>\n",
       "      <td>0.518750</td>\n",
       "      <td>4.372274</td>\n",
       "      <td>0.143750</td>\n",
       "      <td>0.953433</td>\n",
       "      <td>0.336667</td>\n",
       "      <td>1.320862</td>\n",
       "      <td>0.604167</td>\n",
       "      <td>3.006728</td>\n",
       "      <td>...</td>\n",
       "      <td>0.515625</td>\n",
       "      <td>1.640704</td>\n",
       "      <td>0.687500</td>\n",
       "      <td>2.808795</td>\n",
       "      <td>0.219355</td>\n",
       "      <td>1.086669</td>\n",
       "      <td>0.488889</td>\n",
       "      <td>1.946501</td>\n",
       "      <td>0.920000</td>\n",
       "      <td>1.989119</td>\n",
       "    </tr>\n",
       "    <tr>\n",
       "      <th>2</th>\n",
       "      <td>0.437500</td>\n",
       "      <td>3.811584</td>\n",
       "      <td>0.478125</td>\n",
       "      <td>3.084146</td>\n",
       "      <td>0.215625</td>\n",
       "      <td>1.074154</td>\n",
       "      <td>0.270000</td>\n",
       "      <td>0.931491</td>\n",
       "      <td>0.587500</td>\n",
       "      <td>2.202686</td>\n",
       "      <td>...</td>\n",
       "      <td>0.531250</td>\n",
       "      <td>1.231082</td>\n",
       "      <td>0.612500</td>\n",
       "      <td>2.874702</td>\n",
       "      <td>0.245161</td>\n",
       "      <td>1.935311</td>\n",
       "      <td>0.470370</td>\n",
       "      <td>2.186999</td>\n",
       "      <td>0.970000</td>\n",
       "      <td>1.681532</td>\n",
       "    </tr>\n",
       "    <tr>\n",
       "      <th>3</th>\n",
       "      <td>0.490625</td>\n",
       "      <td>3.743568</td>\n",
       "      <td>0.490625</td>\n",
       "      <td>6.537870</td>\n",
       "      <td>0.287500</td>\n",
       "      <td>1.182461</td>\n",
       "      <td>0.270000</td>\n",
       "      <td>0.804977</td>\n",
       "      <td>0.583333</td>\n",
       "      <td>3.864292</td>\n",
       "      <td>...</td>\n",
       "      <td>0.340625</td>\n",
       "      <td>1.630284</td>\n",
       "      <td>0.737500</td>\n",
       "      <td>4.004393</td>\n",
       "      <td>0.306452</td>\n",
       "      <td>3.262026</td>\n",
       "      <td>0.496296</td>\n",
       "      <td>1.511763</td>\n",
       "      <td>0.963333</td>\n",
       "      <td>1.525433</td>\n",
       "    </tr>\n",
       "    <tr>\n",
       "      <th>4</th>\n",
       "      <td>0.584375</td>\n",
       "      <td>1.408591</td>\n",
       "      <td>0.459375</td>\n",
       "      <td>3.711622</td>\n",
       "      <td>0.065625</td>\n",
       "      <td>0.418191</td>\n",
       "      <td>0.323333</td>\n",
       "      <td>0.954566</td>\n",
       "      <td>0.591667</td>\n",
       "      <td>2.241249</td>\n",
       "      <td>...</td>\n",
       "      <td>0.428125</td>\n",
       "      <td>1.217808</td>\n",
       "      <td>0.596875</td>\n",
       "      <td>3.396448</td>\n",
       "      <td>0.225806</td>\n",
       "      <td>2.705039</td>\n",
       "      <td>0.488889</td>\n",
       "      <td>1.814690</td>\n",
       "      <td>0.976667</td>\n",
       "      <td>1.772314</td>\n",
       "    </tr>\n",
       "  </tbody>\n",
       "</table>\n",
       "<p>5 rows × 20000 columns</p>\n",
       "</div>"
      ],
      "text/plain": [
       "      0         1         2         3         4         5         6      \\\n",
       "0  0.521875  4.794999  0.518750  3.942405  0.037500  0.691111  0.243333   \n",
       "1  0.500000  2.707144  0.518750  4.372274  0.143750  0.953433  0.336667   \n",
       "2  0.437500  3.811584  0.478125  3.084146  0.215625  1.074154  0.270000   \n",
       "3  0.490625  3.743568  0.490625  6.537870  0.287500  1.182461  0.270000   \n",
       "4  0.584375  1.408591  0.459375  3.711622  0.065625  0.418191  0.323333   \n",
       "\n",
       "      7         8         9      ...     19990     19991     19992     19993  \\\n",
       "0  0.240267  0.437500  3.547817  ...  0.468750  1.338816  0.571875  3.234033   \n",
       "1  1.320862  0.604167  3.006728  ...  0.515625  1.640704  0.687500  2.808795   \n",
       "2  0.931491  0.587500  2.202686  ...  0.531250  1.231082  0.612500  2.874702   \n",
       "3  0.804977  0.583333  3.864292  ...  0.340625  1.630284  0.737500  4.004393   \n",
       "4  0.954566  0.591667  2.241249  ...  0.428125  1.217808  0.596875  3.396448   \n",
       "\n",
       "      19994     19995     19996     19997     19998     19999  \n",
       "0  0.264516  2.996075  0.481481  1.467149  1.000000  1.447355  \n",
       "1  0.219355  1.086669  0.488889  1.946501  0.920000  1.989119  \n",
       "2  0.245161  1.935311  0.470370  2.186999  0.970000  1.681532  \n",
       "3  0.306452  3.262026  0.496296  1.511763  0.963333  1.525433  \n",
       "4  0.225806  2.705039  0.488889  1.814690  0.976667  1.772314  \n",
       "\n",
       "[5 rows x 20000 columns]"
      ]
     },
     "execution_count": 21,
     "metadata": {},
     "output_type": "execute_result"
    }
   ],
   "source": [
    "X_train_transform.head()"
   ]
  },
  {
   "cell_type": "code",
   "execution_count": 13,
   "metadata": {},
   "outputs": [
    {
     "data": {
      "text/plain": [
       "0.9893617021276596"
      ]
     },
     "execution_count": 13,
     "metadata": {},
     "output_type": "execute_result"
    }
   ],
   "source": [
    "classifier.score(X_test_transform, y_test)"
   ]
  },
  {
   "cell_type": "code",
   "execution_count": 14,
   "metadata": {},
   "outputs": [
    {
     "data": {
      "text/plain": [
       "0.9893617021276596"
      ]
     },
     "execution_count": 14,
     "metadata": {},
     "output_type": "execute_result"
    }
   ],
   "source": [
    "# https://github.com/alan-turing-institute/sktime/blob/main/examples/03_classification_multivariate.ipynb\n",
    "\n",
    "from sklearn.pipeline import Pipeline\n",
    "\n",
    "from sktime.classification.compose import ColumnEnsembleClassifier\n",
    "from sktime.classification.dictionary_based import BOSSEnsemble\n",
    "from sktime.classification.interval_based import TimeSeriesForestClassifier\n",
    "from sktime.classification.shapelet_based import MrSEQLClassifier\n",
    "from sktime.datasets import load_basic_motions\n",
    "from sktime.transformations.panel.compose import ColumnConcatenator\n",
    "\n",
    "steps = [\n",
    "    (\"concatenate\", ColumnConcatenator()),\n",
    "    (\"classify\", TimeSeriesForestClassifier(n_estimators=100)),\n",
    "]\n",
    "clf = Pipeline(steps)\n",
    "clf.fit(X_train, y_train)\n",
    "clf.score(X_test, y_test)"
   ]
  },
  {
   "cell_type": "code",
   "execution_count": 1,
   "metadata": {},
   "outputs": [],
   "source": [
    "from noise import compressed_pickle\n",
    "from sklearn.model_selection import StratifiedKFold"
   ]
  },
  {
   "cell_type": "code",
   "execution_count": 2,
   "metadata": {},
   "outputs": [],
   "source": [
    "def open_data(signal_type, cycle_name):\n",
    "    data_list = []\n",
    "    target_list = []\n",
    "    for d in data:\n",
    "        data_list.append(format_dataframe(d[f'{signal_type}_{cycle_name}']))\n",
    "        target_list.append(d['fault_type'])\n",
    "    X = pd.concat(data_list).reset_index(drop=True)\n",
    "    y = np.array(target_list)\n",
    "    X_train, X_test, y_train, y_test = train_test_split(X, y, test_size=0.2, stratify=y)\n",
    "    compressed_pickle(INPUT_DATA_PATH + f'folds/{signal_type}/{cycle_name}/' + 'X_test', X_test)\n",
    "    compressed_pickle(INPUT_DATA_PATH + f'folds/{signal_type}/{cycle_name}/' + 'y_test', y_test)\n",
    "    return X_train, y_train"
   ]
  },
  {
   "cell_type": "code",
   "execution_count": 3,
   "metadata": {},
   "outputs": [],
   "source": [
    "def save_folds(signal_type, cycle_name):\n",
    "    X_train, y_train = open_data(signal_type, cycle_name)\n",
    "    data_folds_path = INPUT_DATA_PATH + f'folds/{signal_type}/{cycle_name}/'\n",
    "    kf = StratifiedKFold(n_splits=10)\n",
    "    fold = 0\n",
    "    for tr, te in kf.split(X_train, y_train):\n",
    "        fold += 1\n",
    "        X_tr, X_te = X_train.iloc[tr, :], X_train.iloc[te, :]\n",
    "        y_tr, y_te = y_train[tr], y_train[te]\n",
    "        compressed_pickle(data_folds_path + f'X_train_fold_{fold}', X_tr)\n",
    "        compressed_pickle(data_folds_path + f'X_test_fold_{fold}', X_te)\n",
    "        compressed_pickle(data_folds_path + f'y_train_fold_{fold}', y_tr)\n",
    "        compressed_pickle(data_folds_path + f'y_test_fold_{fold}', y_te)"
   ]
  },
  {
   "cell_type": "code",
   "execution_count": 8,
   "metadata": {},
   "outputs": [],
   "source": [
    "cycle_list = ['cycle_1', 'cycle_2', 'cycle_4', 'cycle_8', 'cycle_16', 'cycle_32']\n",
    "\n",
    "for cycle_name in cycle_list:\n",
    "    save_folds('v', cycle_name)\n",
    "    save_folds('i', cycle_name)"
   ]
  },
  {
   "cell_type": "code",
   "execution_count": null,
   "metadata": {},
   "outputs": [],
   "source": []
  }
 ],
 "metadata": {
  "interpreter": {
   "hash": "803a05b3e0e09a67c9f49b63fb42a66a03929de6eae48fd57c59a599024e5b66"
  },
  "kernelspec": {
   "display_name": "Python 3.8.7 64-bit ('mestrado': pyenv)",
   "name": "python3"
  },
  "language_info": {
   "codemirror_mode": {
    "name": "ipython",
    "version": 3
   },
   "file_extension": ".py",
   "mimetype": "text/x-python",
   "name": "python",
   "nbconvert_exporter": "python",
   "pygments_lexer": "ipython3",
   "version": "3.8.7"
  }
 },
 "nbformat": 4,
 "nbformat_minor": 5
}